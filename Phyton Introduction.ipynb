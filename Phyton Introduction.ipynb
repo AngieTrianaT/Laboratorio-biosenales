{
 "cells": [
  {
   "cell_type": "markdown",
   "id": "3902d80d-cee8-4084-b852-cbf4219c5742",
   "metadata": {},
   "source": [
    "# Script entregable"
   ]
  },
  {
   "cell_type": "code",
   "execution_count": 3,
   "id": "a9629ebb-5863-4d2f-9b6f-a3ff2e2d9791",
   "metadata": {},
   "outputs": [],
   "source": [
    "import numpy as np"
   ]
  },
  {
   "cell_type": "markdown",
   "id": "f567e852-f432-48f6-bb1b-c898e84c9fb5",
   "metadata": {},
   "source": [
    "### a) Creación de vectores: se crea el arreglo con np.array"
   ]
  },
  {
   "cell_type": "code",
   "execution_count": 17,
   "id": "bd206ed2-535a-4895-ae79-f5a7c1ecdf88",
   "metadata": {},
   "outputs": [],
   "source": [
    "\n",
    "a=np.array([3.1,1, -0.5, -3.2, 6])\n",
    "b=np.array([1, 3, 2.2, 5.1, 1])"
   ]
  },
  {
   "cell_type": "markdown",
   "id": "7111af06-1467-43e3-8472-9f67bf524b35",
   "metadata": {},
   "source": [
    "### b) Multiplicación escalar "
   ]
  },
  {
   "cell_type": "code",
   "execution_count": 25,
   "id": "c8a424cd-0fcc-4d24-b342-6eea1c4c55e2",
   "metadata": {},
   "outputs": [
    {
     "data": {
      "text/plain": [
       "array([  3.1 ,   3.  ,  -1.1 , -16.32,   6.  ])"
      ]
     },
     "execution_count": 25,
     "metadata": {},
     "output_type": "execute_result"
    }
   ],
   "source": [
    "a * b\n",
    "#Nota: para multiplicar dos matrices, deben tener el mismo número de columnas que filas de la segunda.\n",
    "#Las dimensiones columna-fila, deben coincidir. \n",
    "#El resultado es una matriz con el mismo número de filas de la primera y mismo número de columnas de la segunda\n"
   ]
  },
  {
   "cell_type": "markdown",
   "id": "e4bb6fc7-5a58-4295-859b-e652cf9ebb16",
   "metadata": {},
   "source": [
    "## c) Producto punto"
   ]
  },
  {
   "cell_type": "code",
   "execution_count": 23,
   "id": "b579d9de-b5f2-4bcb-8824-6395abd44ee7",
   "metadata": {},
   "outputs": [
    {
     "data": {
      "text/plain": [
       "-5.320000000000002"
      ]
     },
     "execution_count": 23,
     "metadata": {},
     "output_type": "execute_result"
    }
   ],
   "source": [
    "np.dot(a,b)"
   ]
  },
  {
   "cell_type": "markdown",
   "id": "0eda44e0-5c16-40ee-a1a1-7c9a4eef7015",
   "metadata": {},
   "source": [
    "## d) Construcción de matriz"
   ]
  },
  {
   "cell_type": "markdown",
   "id": "dd2bc96a-9f66-4379-9d85-c0ba441b6d12",
   "metadata": {},
   "source": [
    "## e) Transpuesta de la matriz \n",
    "\n",
    "Se utiliza el método matriz.T"
   ]
  },
  {
   "cell_type": "markdown",
   "id": "f4dd3275-07d6-43b3-a6c3-6e6dd1d6b75e",
   "metadata": {},
   "source": [
    "## f) Función de los comandos\n",
    "\n",
    "### ones: \n",
    "El comando numpy.ones, crea una matriz cuyos elementos tendrán el valor 1.\n",
    "\n",
    "### round:\n",
    "Redondea uniformemente los números contenidos en la matriz de manera uniforme\n",
    "\n",
    "### ceil:\n",
    "Opera la matriz de manera que calcula el entero más cercano hacia arriba de cada uno de los elementos que la conforman.\n",
    "\n",
    "### floor: \n",
    "Opera la matriz de manera que calcula el entero más cercano hacia abajo de cada uno de los elementos que la conforman.\n"
   ]
  },
  {
   "cell_type": "markdown",
   "id": "4fb3f87c-71fd-4a64-8a49-650eed175710",
   "metadata": {},
   "source": [
    "### Ejemplificación"
   ]
  },
  {
   "cell_type": "code",
   "execution_count": 27,
   "id": "026cfc3c-f945-46f6-a6f8-9de134395445",
   "metadata": {},
   "outputs": [
    {
     "data": {
      "text/plain": [
       "array([[1., 1., 1., 1., 1., 1., 1., 1., 1., 1., 1., 1., 1.],\n",
       "       [1., 1., 1., 1., 1., 1., 1., 1., 1., 1., 1., 1., 1.]])"
      ]
     },
     "execution_count": 27,
     "metadata": {},
     "output_type": "execute_result"
    }
   ],
   "source": [
    "#ones \n",
    "matriz = np.ones((2,13), dtype='float')"
   ]
  },
  {
   "cell_type": "code",
   "execution_count": 42,
   "id": "fd59b984-673f-4d50-876d-c308bae31d37",
   "metadata": {},
   "outputs": [
    {
     "name": "stdout",
     "output_type": "stream",
     "text": [
      "[[0. 1. 1.]\n",
      " [1. 0. 0.]]\n"
     ]
    }
   ],
   "source": [
    "#round \n",
    "array = np.random.rand(2,3)\n",
    "array.round()"
   ]
  },
  {
   "cell_type": "code",
   "execution_count": 48,
   "id": "1ae72675-aab6-4520-b842-b4321d9410b1",
   "metadata": {},
   "outputs": [
    {
     "data": {
      "text/plain": [
       "array([[1., 1., 1.],\n",
       "       [1., 1., 1.]])"
      ]
     },
     "execution_count": 48,
     "metadata": {},
     "output_type": "execute_result"
    }
   ],
   "source": [
    "#ceil\n",
    "np.ceil(array)"
   ]
  },
  {
   "cell_type": "code",
   "execution_count": 50,
   "id": "ded53685-75b6-40c7-94f6-7a2f7d49b507",
   "metadata": {},
   "outputs": [
    {
     "data": {
      "text/plain": [
       "array([[0., 0., 0.],\n",
       "       [0., 0., 0.]])"
      ]
     },
     "execution_count": 50,
     "metadata": {},
     "output_type": "execute_result"
    }
   ],
   "source": [
    "#floor\n",
    "np.floor(array)"
   ]
  },
  {
   "cell_type": "code",
   "execution_count": null,
   "id": "754c947f-e1f9-477c-9f3b-8e510df434f0",
   "metadata": {},
   "outputs": [],
   "source": []
  }
 ],
 "metadata": {
  "kernelspec": {
   "display_name": "Python 3 (ipykernel)",
   "language": "python",
   "name": "python3"
  },
  "language_info": {
   "codemirror_mode": {
    "name": "ipython",
    "version": 3
   },
   "file_extension": ".py",
   "mimetype": "text/x-python",
   "name": "python",
   "nbconvert_exporter": "python",
   "pygments_lexer": "ipython3",
   "version": "3.12.4"
  }
 },
 "nbformat": 4,
 "nbformat_minor": 5
}
