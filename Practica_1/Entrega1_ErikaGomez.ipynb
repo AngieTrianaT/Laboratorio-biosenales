{
 "cells": [
  {
   "cell_type": "code",
   "execution_count": 10,
   "metadata": {},
   "outputs": [
    {
     "name": "stdout",
     "output_type": "stream",
     "text": [
      "-5.320000000000002 es el resultado de producto escalar de los dos vectores \n",
      "-5.320000000000002\n",
      "la multiplicacion punto a punto es  [  3.1    3.    -1.1  -16.32   6.  ]\n"
     ]
    }
   ],
   "source": [
    "import numpy as np \n",
    "a = np.array([3.1,1, -0.5, -3.2, 6])\n",
    "b = np.array([1, 3, 2.2, 5.1, 1]) #punto a\n",
    "escalar= ((a @ b))\n",
    "print ( escalar,  \"es el resultado de producto escalar de los dos vectores \" )#punto b, usar la función u.dot(v)\n",
    "print (np.dot(a, b))\n",
    "punto_punto= (a*b)\n",
    "print (\"la multiplicacion punto a punto es \" , punto_punto ) # punto c\n"
   ]
  },
  {
   "cell_type": "code",
   "execution_count": 18,
   "metadata": {},
   "outputs": [
    {
     "name": "stdout",
     "output_type": "stream",
     "text": [
      "[[ 2.  -1.  -3. ]\n",
      " [ 4.   1.5 -2.5]\n",
      " [ 7.3 -0.9  0.2]]\n",
      "la matriz traspuesta de A es:  [[ 2.   4.   7.3]\n",
      " [-1.   1.5 -0.9]\n",
      " [-3.  -2.5  0.2]]\n"
     ]
    }
   ],
   "source": [
    "import numpy as np \n",
    "A = np.array ([[2,-1,-3],\n",
    "               [4,1.5,-2.5],\n",
    "               [7.3,-0.9,0.2]])\n",
    "print (A) #punto d\n",
    "print (\"la matriz traspuesta de A es: \"\n",
    "       , A.T) # punto e"
   ]
  },
  {
   "cell_type": "code",
   "execution_count": 40,
   "metadata": {},
   "outputs": [
    {
     "name": "stdout",
     "output_type": "stream",
     "text": [
      "ones\n",
      "[[1. 1. 1.]\n",
      " [1. 1. 1.]\n",
      " [1. 1. 1.]]\n",
      "round\n",
      "[-1.7  1.8 -0.2  0.9  2.5  4.7 -6. ]\n",
      "ceil\n",
      "[-1.  2. -0.  1.  3.  5. -5.]\n",
      "floor\n",
      "[-2.  1. -1.  0.  2.  4. -6.]\n"
     ]
    }
   ],
   "source": [
    "import numpy as np\n",
    "a = np.array([-1.7, 1.78, -0.2, 0.89, 2.5, 4.7, -5.99])\n",
    "print (\"ones\")\n",
    "print(np.ones((3, 3))) # punto f ones, matriz de unos\n",
    "print (\"round\")\n",
    "print (np.round(a,1)) # punto f round, redodea con una sola decimal\n",
    "print (\"ceil\")\n",
    "print (np.ceil(a)) # punto f ceil, del escalar x es el entero más pequeño i\n",
    "print (\"floor\")\n",
    "print (np.floor(a))# punto f floor, del escalar x es el entero más grande"
   ]
  }
 ],
 "metadata": {
  "kernelspec": {
   "display_name": "Python 3",
   "language": "python",
   "name": "python3"
  },
  "language_info": {
   "codemirror_mode": {
    "name": "ipython",
    "version": 3
   },
   "file_extension": ".py",
   "mimetype": "text/x-python",
   "name": "python",
   "nbconvert_exporter": "python",
   "pygments_lexer": "ipython3",
   "version": "3.12.4"
  },
  "orig_nbformat": 4,
  "vscode": {
   "interpreter": {
    "hash": "b36ec4bbe1ae06a405f7e0dc1f23ca80a8e2b8ebc04ad5d5f91b252779fceadb"
   }
  }
 },
 "nbformat": 4,
 "nbformat_minor": 2
}
