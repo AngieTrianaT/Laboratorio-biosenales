{
 "cells": [
  {
   "cell_type": "code",
   "execution_count": 10,
   "metadata": {},
   "outputs": [
    {
     "name": "stdout",
     "output_type": "stream",
     "text": [
      "-5.320000000000002 es el resultado de producto escalar de los dos vectores \n",
      "-5.320000000000002\n",
      "la multiplicacion punto a punto es  [  3.1    3.    -1.1  -16.32   6.  ]\n"
     ]
    }
   ],
   "source": [
    "import numpy as np \n",
    "a = np.array([3.1,1, -0.5, -3.2, 6])\n",
    "b = np.array([1, 3, 2.2, 5.1, 1]) #punto a\n",
    "escalar= ((a @ b))\n",
    "print ( escalar,  \"es el resultado de producto escalar de los dos vectores \" )#punto b, usar la función u.dot(v)\n",
    "print (np.dot(a, b))\n",
    "punto_punto= (a*b)\n",
    "print (\"la multiplicacion punto a punto es \" , punto_punto ) # punto c\n"
   ]
  },
  {
   "cell_type": "code",
   "execution_count": 18,
   "metadata": {},
   "outputs": [
    {
     "name": "stdout",
     "output_type": "stream",
     "text": [
      "[[ 2.  -1.  -3. ]\n",
      " [ 4.   1.5 -2.5]\n",
      " [ 7.3 -0.9  0.2]]\n",
      "la matriz traspuesta de A es:  [[ 2.   4.   7.3]\n",
      " [-1.   1.5 -0.9]\n",
      " [-3.  -2.5  0.2]]\n"
     ]
    }
   ],
   "source": [
    "import numpy as np \n",
    "A = np.array ([[2,-1,-3],\n",
    "               [4,1.5,-2.5],\n",
    "               [7.3,-0.9,0.2]])\n",
    "print (A) #punto d\n",
    "print (\"la matriz traspuesta de A es: \"\n",
    "       , A.T) # punto e"
   ]
  },
  {
   "cell_type": "code",
   "execution_count": 40,
   "metadata": {},
   "outputs": [
    {
     "name": "stdout",
     "output_type": "stream",
     "text": [
      "ones\n",
      "[[1. 1. 1.]\n",
      " [1. 1. 1.]\n",
      " [1. 1. 1.]]\n",
      "round\n",
      "[-1.7  1.8 -0.2  0.9  2.5  4.7 -6. ]\n",
      "ceil\n",
      "[-1.  2. -0.  1.  3.  5. -5.]\n",
      "floor\n",
      "[-2.  1. -1.  0.  2.  4. -6.]\n"
     ]
    }
   ],
   "source": [
    "import numpy as np\n",
    "a = np.array([-1.7, 1.78, -0.2, 0.89, 2.5, 4.7, -5.99])\n",
    "print (\"ones\")\n",
    "print(np.ones((3, 3))) # punto f ones, matriz de unos\n",
    "print (\"round\")\n",
    "print (np.round(a,1)) # punto f round, redodea con una sola decimal\n",
    "print (\"ceil\")\n",
    "print (np.ceil(a)) # punto f ceil, del escalar x es el entero más pequeño i\n",
    "print (\"floor\")\n",
    "print (np.floor(a))# punto f floor, del escalar x es el entero más grande"
   ]
  },
  {
   "cell_type": "code",
   "execution_count": 67,
   "metadata": {},
   "outputs": [
    {
     "name": "stdout",
     "output_type": "stream",
     "text": [
      "[[ 2.  -1.  -3. ]\n",
      " [ 4.   1.5 -2.5]\n",
      " [ 7.3 -0.9  0.2]]\n",
      "el elemento ubicado en la primer fila y tercera columna es :  -3.0\n",
      "[ 4.   1.5 -2.5]\n",
      " Las dimenciones de la matriz A es :  (3, 3)\n"
     ]
    }
   ],
   "source": [
    "import numpy as np \n",
    "A = np.array ([[2,-1,-3],\n",
    "               [4,1.5,-2.5],\n",
    "               [7.3,-0.9,0.2]])\n",
    "print(A)\n",
    "acceder = A[0,2]  # punto g, Acceso al elemento de la fila 1 columna 3, empieza a contar desde 0\n",
    "print (\"el elemento ubicado en la primer fila y tercera columna es : \",acceder)\n",
    "segundafila= A[1,:] # punto h, acceder a la segunda fila\n",
    "print (segundafila)\n",
    "dimensiones = A.shape # punto j, como conocer las dimensiones de una matriz\n",
    "print (\" Las dimenciones de la matriz A es : \",dimensiones)\n"
   ]
  },
  {
   "cell_type": "code",
   "execution_count": 82,
   "metadata": {},
   "outputs": [
    {
     "name": "stdout",
     "output_type": "stream",
     "text": [
      "para  el valor :  50 el resultado de y es:  -7.347880794884119e-16\n"
     ]
    }
   ],
   "source": [
    "#punto j \n",
    "import numpy as np \n",
    "import random\n",
    "\n",
    "def funcionseno():\n",
    "    n=random.randint(0,100) #random para generar numero aleatorio entre 0 y 100\n",
    "    y= np.sin(np.pi*0.12*n) #se toma el numero aleatorio en la funcion \n",
    "    return n,y # devuelve resultados\n",
    "    \n",
    "    \n",
    "valor,final= funcionseno()\n",
    "print( \"para  el valor : \", valor,\"el resultado de y es: \", final)\n"
   ]
  },
  {
   "cell_type": "code",
   "execution_count": 81,
   "metadata": {},
   "outputs": [
    {
     "name": "stdout",
     "output_type": "stream",
     "text": [
      "para  el valor :  11 el resultado de y es:  -0.48175367410171505\n"
     ]
    }
   ],
   "source": [
    "#punto k\n",
    "import numpy as np \n",
    "import random\n",
    "\n",
    "def funcioncoseno():\n",
    "    n=random.randint(0,100)\n",
    "    y2= np.cos((2*np.pi)*0.03*n)\n",
    "    return n,y2\n",
    "    \n",
    "    \n",
    "valor,final= funcioncoseno()\n",
    "print( \"para  el valor : \", valor,\"el resultado de y es: \", final)\n"
   ]
  },
  {
   "cell_type": "code",
   "execution_count": 88,
   "metadata": {},
   "outputs": [
    {
     "name": "stdout",
     "output_type": "stream",
     "text": [
      "para valor aleatorio:  14 \n",
      "el resultado de la primera señal  seno es:  -0.8443279255020155 \n",
      "el de la segunda coseno:  -0.8763066800438635 \n",
      " el de la tercera o suma de las dos primeras: -1.720634605545879 \n",
      " y el de la cuarta es o producto de las dos primeras:  0.7398902012649937\n"
     ]
    }
   ],
   "source": [
    "#punto l \n",
    "import numpy as np \n",
    "import random\n",
    "\n",
    "def funcioncoseno():\n",
    "    n=random.randint(0,100)\n",
    "    y= np.sin(np.pi*0.12*n)\n",
    "    yd= np.cos((2*np.pi)*0.03*n)\n",
    "    sn= y+yd\n",
    "    tn=y*yd \n",
    "    \n",
    "    return n,y, yd, sn, tn\n",
    "    \n",
    "    \n",
    "valor,primera,segunda,tercera,cuarta= funcioncoseno()\n",
    "print( \"para valor aleatorio: \", valor, '\\n'\n",
    "      \"el resultado de la primera señal  seno es: \", primera,'\\n'\n",
    "      \"el de la segunda coseno: \", segunda,'\\n'\n",
    "      \" el de la tercera o suma de las dos primeras:\" ,tercera, '\\n'\n",
    "      \" y el de la cuarta es o producto de las dos primeras: \", cuarta)\n"
   ]
  }
 ],
 "metadata": {
  "kernelspec": {
   "display_name": "Python 3",
   "language": "python",
   "name": "python3"
  },
  "language_info": {
   "codemirror_mode": {
    "name": "ipython",
    "version": 3
   },
   "file_extension": ".py",
   "mimetype": "text/x-python",
   "name": "python",
   "nbconvert_exporter": "python",
   "pygments_lexer": "ipython3",
   "version": "3.12.4"
  },
  "orig_nbformat": 4,
  "vscode": {
   "interpreter": {
    "hash": "b36ec4bbe1ae06a405f7e0dc1f23ca80a8e2b8ebc04ad5d5f91b252779fceadb"
   }
  }
 },
 "nbformat": 4,
 "nbformat_minor": 2
}
