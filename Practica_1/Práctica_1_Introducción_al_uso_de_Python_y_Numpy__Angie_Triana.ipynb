{
  "nbformat": 4,
  "nbformat_minor": 0,
  "metadata": {
    "colab": {
      "provenance": []
    },
    "kernelspec": {
      "name": "python3",
      "display_name": "Python 3"
    },
    "language_info": {
      "name": "python"
    }
  },
  "cells": [
    {
      "cell_type": "markdown",
      "source": [
        "# **Práctica 1.** Introducción al uso de Python y Numpy\n",
        "**Lab. de bioseñales y sistemas**\n",
        "\n",
        "\n",
        "**Integrante:** Angie Paola Triana Peñaloza."
      ],
      "metadata": {
        "id": "sb8jplhun5R1"
      }
    },
    {
      "cell_type": "markdown",
      "source": [
        "**Procedimiento**"
      ],
      "metadata": {
        "id": "nare6KvEpnfY"
      }
    },
    {
      "cell_type": "markdown",
      "source": [
        "*En primer lugar se importa la librería Numpy con el fin de realizar operaciones matemáticas con arreglos matriciales. Así mismo, se importa la librería Matplotlib para la creación de gráficos.*"
      ],
      "metadata": {
        "id": "uungGlairltH"
      }
    },
    {
      "cell_type": "code",
      "source": [
        "import numpy as np\n",
        "import matplotlib.pyplot as plt"
      ],
      "metadata": {
        "id": "DNJ2jWjgq7sB"
      },
      "execution_count": 1,
      "outputs": []
    },
    {
      "cell_type": "markdown",
      "source": [
        "**a)** Cree el siguiente par de vectores:\n",
        "a = [3.1,1, -0.5, -3.2, 6], b= [1, 3, 2.2, 5.1, 1]"
      ],
      "metadata": {
        "id": "FV2c-imBpxuf"
      }
    },
    {
      "cell_type": "code",
      "source": [
        "a=[3.1,1,-0.5,-3.2,6]\n",
        "\n",
        "b=[1,3,2.2,5.1,1]"
      ],
      "metadata": {
        "id": "qUu_JFi7o1G-"
      },
      "execution_count": null,
      "outputs": []
    },
    {
      "cell_type": "markdown",
      "source": [
        "**b)**Implemente la multiplicación escalar de a.b ¿Qué se debe realizar para poder multiplicar los dos\n",
        "vectores?."
      ],
      "metadata": {
        "id": "NNsF0-ttsKWq"
      }
    },
    {
      "cell_type": "markdown",
      "source": [
        "*Para la multiplicación punto a punto  se crea un bucle For para recorrer los elementos de ambos vectores con el fin de  multiplicar aquellos que se encuentran en la misma posición resultando el vector “total2”. Así mismo, es posible convertir los vectores en arreglos de Numpy que permite multiplicar directamente ambos arreglos.*"
      ],
      "metadata": {
        "id": "TM14ZRop9-nL"
      }
    },
    {
      "cell_type": "code",
      "source": [
        "total2=[]\n",
        "for i in np.arange(len(a)):\n",
        "  resultado2=a[i]*b[i]\n",
        "  total2.append(resultado2)\n",
        "print(\"La multiplicación punto a punto de a.b es\", total2)"
      ],
      "metadata": {
        "colab": {
          "base_uri": "https://localhost:8080/"
        },
        "id": "dC2_am0EyTjh",
        "outputId": "e0277220-5038-4c15-9f94-51208fea5cde"
      },
      "execution_count": null,
      "outputs": [
        {
          "output_type": "stream",
          "name": "stdout",
          "text": [
            "La multiplicación punto a punto de a.b es [3.1, 3, -1.1, -16.32, 6]\n"
          ]
        }
      ]
    },
    {
      "cell_type": "code",
      "source": [
        "vector1=np.array([3.1,1,-0.5,-3.2,6])\n",
        "vector2=np.array([1,3,2.2,5.1,1])\n",
        "producto2=vector1*vector2\n",
        "print(\"La multiplicación punto a punto de a.b mediante Numpy es\",producto2)"
      ],
      "metadata": {
        "colab": {
          "base_uri": "https://localhost:8080/"
        },
        "id": "5aORPp0o49ta",
        "outputId": "1fd94366-4a3d-40b5-9b5f-a2df43879c32"
      },
      "execution_count": null,
      "outputs": [
        {
          "output_type": "stream",
          "name": "stdout",
          "text": [
            "La multiplicación punto a punto de a.b mediante Numpy es [  3.1    3.    -1.1  -16.32   6.  ]\n"
          ]
        }
      ]
    },
    {
      "cell_type": "markdown",
      "source": [
        "**c)**Implemente la multiplicación punto a punto de a.b."
      ],
      "metadata": {
        "id": "zBkToDonyHp_"
      }
    },
    {
      "cell_type": "markdown",
      "source": [
        "*Para la multiplicación escalar se crea un bucle \"For\" para recorrer los elementos de ambos vectores con el fin de  multiplicar aquellos que se encuentran en la misma posición y posteriormente sumar cada elemento del vector resultante “sumatoria1” mediante el método sum(). Así mismo, es posible convertir los vectores en arreglos de Numpy y aplicar el método .dot() que permite calcular el producto punto entre ambos arreglos.*"
      ],
      "metadata": {
        "id": "bxOaKlQn8I7Z"
      }
    },
    {
      "cell_type": "code",
      "source": [
        "sumatoria1=[]\n",
        "\n",
        "for i in np.arange(len(a)):\n",
        "    resultado1=a[i]*b[i]\n",
        "    sumatoria1.append(resultado1)\n",
        "total1= sum(sumatoria1)\n",
        "print(\"La multiplicación escalar de a.b es\", total1)"
      ],
      "metadata": {
        "colab": {
          "base_uri": "https://localhost:8080/"
        },
        "id": "gWjj6kx7u3lI",
        "outputId": "7a05f18b-6ac0-434c-8cf8-f59c49b53800"
      },
      "execution_count": null,
      "outputs": [
        {
          "output_type": "stream",
          "name": "stdout",
          "text": [
            "La multiplicación escalar de a.b es -5.32\n"
          ]
        }
      ]
    },
    {
      "cell_type": "code",
      "source": [
        "vector1=np.array([3.1,1,-0.5,-3.2,6])\n",
        "vector2=np.array([1,3,2.2,5.1,1])\n",
        "producto=np.dot(vector1,vector2)\n",
        "print(\"La multiplicación escalar de a.b mediante Numpy es\",producto)"
      ],
      "metadata": {
        "colab": {
          "base_uri": "https://localhost:8080/"
        },
        "id": "NGLn8O663RFH",
        "outputId": "5a10fa9a-3bfc-4575-ab40-9a6117f7a51b"
      },
      "execution_count": null,
      "outputs": [
        {
          "output_type": "stream",
          "name": "stdout",
          "text": [
            "La multiplicación escalar de a.b mediante Numpy es -5.32\n"
          ]
        }
      ]
    },
    {
      "cell_type": "markdown",
      "source": [
        "**d)**Construya la siguiente matriz:\n",
        "![image.png](data:image/png;base64,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)"
      ],
      "metadata": {
        "id": "8S3jeh-Nrlng"
      }
    },
    {
      "cell_type": "code",
      "source": [
        "A=np.array([[2,-1,-3],[4,1.5,-2.5],[7.3,-0.9,0.2]])\n"
      ],
      "metadata": {
        "id": "-T5h0EeCr56u"
      },
      "execution_count": 4,
      "outputs": []
    },
    {
      "cell_type": "markdown",
      "source": [
        "**e)**Obtenga su transpuesta AT"
      ],
      "metadata": {
        "id": "I6EgWLZOsbhi"
      }
    },
    {
      "cell_type": "code",
      "source": [
        "at=A.T\n",
        "at"
      ],
      "metadata": {
        "colab": {
          "base_uri": "https://localhost:8080/"
        },
        "id": "01etT3nGskp6",
        "outputId": "72de791e-0b8b-47c3-9123-d49b28887a93"
      },
      "execution_count": 6,
      "outputs": [
        {
          "output_type": "execute_result",
          "data": {
            "text/plain": [
              "array([[ 2. ,  4. ,  7.3],\n",
              "       [-1. ,  1.5, -0.9],\n",
              "       [-3. , -2.5,  0.2]])"
            ]
          },
          "metadata": {},
          "execution_count": 6
        }
      ]
    },
    {
      "cell_type": "markdown",
      "source": [
        "**f)**Consulte a función de los siguientes comandos de la libreria numpy: ones, round, ceil, floor, implemente cada función para ejemplificar su uso."
      ],
      "metadata": {
        "id": "L6hdyHBQsqM-"
      }
    },
    {
      "cell_type": "code",
      "source": [
        "#El comando \"ones\" genera una matriz de unos de tamaño y tipo deseado.\n",
        "n1=np.ones((2,2), dtype=np.int16)\n",
        "n1"
      ],
      "metadata": {
        "colab": {
          "base_uri": "https://localhost:8080/"
        },
        "id": "PGq6adoJtBhz",
        "outputId": "e4cd9ea5-e759-4ae2-afb1-5d566326204b"
      },
      "execution_count": 10,
      "outputs": [
        {
          "output_type": "execute_result",
          "data": {
            "text/plain": [
              "array([[1, 1],\n",
              "       [1, 1]], dtype=int16)"
            ]
          },
          "metadata": {},
          "execution_count": 10
        }
      ]
    },
    {
      "cell_type": "code",
      "source": [
        "#El comando \"round\" redondea el valor entero más cercano, además se puede especificar la cantidad de decimales."
      ],
      "metadata": {
        "id": "S4WwuqcwttVY"
      },
      "execution_count": null,
      "outputs": []
    },
    {
      "cell_type": "code",
      "source": [
        "nr=np.array([2.5,8.7,9.3])\n",
        "nrr=np.round(nr)\n",
        "nrr"
      ],
      "metadata": {
        "colab": {
          "base_uri": "https://localhost:8080/"
        },
        "id": "iuTZanPPusb3",
        "outputId": "72ece0b9-3021-4f79-bfc5-5b51dfbd7aa6"
      },
      "execution_count": 13,
      "outputs": [
        {
          "output_type": "execute_result",
          "data": {
            "text/plain": [
              "array([2., 9., 9.])"
            ]
          },
          "metadata": {},
          "execution_count": 13
        }
      ]
    },
    {
      "cell_type": "code",
      "source": [
        "#El comando \"ceil\" devuelve el menor entero mayor o igual que los elemento de la estructura de entrada:\n",
        "nr=np.array([2.5,8.7,9.3])\n",
        "nrc=np.ceil(nr)\n",
        "nrc"
      ],
      "metadata": {
        "colab": {
          "base_uri": "https://localhost:8080/"
        },
        "id": "Si9gmoDMv13k",
        "outputId": "2c69a00e-5a08-44e8-8fba-69af074bdab0"
      },
      "execution_count": 15,
      "outputs": [
        {
          "output_type": "execute_result",
          "data": {
            "text/plain": [
              "array([ 3.,  9., 10.])"
            ]
          },
          "metadata": {},
          "execution_count": 15
        }
      ]
    },
    {
      "cell_type": "code",
      "source": [
        "# El comando \"floor\" devuelve el mayor entero menor o igual que los elementos de la estructura de entrada:\n",
        "nr=np.array([2.5,8.7,9.3])\n",
        "nrf=np.floor(nr)\n",
        "nrf\n",
        "\n"
      ],
      "metadata": {
        "colab": {
          "base_uri": "https://localhost:8080/"
        },
        "id": "wyLaZ3tlwjvf",
        "outputId": "4c80c4cb-9030-483b-a37d-ae513dc35520"
      },
      "execution_count": 16,
      "outputs": [
        {
          "output_type": "execute_result",
          "data": {
            "text/plain": [
              "array([2., 8., 9.])"
            ]
          },
          "metadata": {},
          "execution_count": 16
        }
      ]
    },
    {
      "cell_type": "markdown",
      "source": [
        "**g)**Acceda al valor de la primera fila, tercera columna de la matriz A, imprímalo en la consola."
      ],
      "metadata": {
        "id": "srKpMnUnw6yj"
      }
    },
    {
      "cell_type": "code",
      "source": [
        "a1=A[0,2]\n",
        "a1"
      ],
      "metadata": {
        "colab": {
          "base_uri": "https://localhost:8080/"
        },
        "id": "ktnGj1n0xkYp",
        "outputId": "db862340-0851-42a8-ea7d-8fb74307fd65"
      },
      "execution_count": 20,
      "outputs": [
        {
          "output_type": "execute_result",
          "data": {
            "text/plain": [
              "-3.0"
            ]
          },
          "metadata": {},
          "execution_count": 20
        }
      ]
    },
    {
      "cell_type": "markdown",
      "source": [
        "**h)**Obtenga la segunda fila de dicha matriz, imprimalo en consola."
      ],
      "metadata": {
        "id": "5jOWKgwjySEE"
      }
    },
    {
      "cell_type": "code",
      "source": [
        "a2=A[1]\n",
        "a2"
      ],
      "metadata": {
        "colab": {
          "base_uri": "https://localhost:8080/"
        },
        "id": "x6AaoIHAyUp-",
        "outputId": "f6e04a87-fb4c-4fde-b3a4-cb0aea90c777"
      },
      "execution_count": 22,
      "outputs": [
        {
          "output_type": "execute_result",
          "data": {
            "text/plain": [
              "array([ 4. ,  1.5, -2.5])"
            ]
          },
          "metadata": {},
          "execution_count": 22
        }
      ]
    },
    {
      "cell_type": "markdown",
      "source": [
        "**i)**Consulte el comando para conocer las dimesiones de una matriz, utilícelo con la matriz A e imprímalo en consola."
      ],
      "metadata": {
        "id": "QKZIX2EnyjXz"
      }
    },
    {
      "cell_type": "code",
      "source": [
        "#El comando \"shape\" devuelve una tupla con el tamaño del array.\n",
        "\n",
        "A.shape"
      ],
      "metadata": {
        "colab": {
          "base_uri": "https://localhost:8080/"
        },
        "id": "NBnpdtduzRoY",
        "outputId": "fde9fac9-33ca-4923-df5c-06cef73ff333"
      },
      "execution_count": 23,
      "outputs": [
        {
          "output_type": "execute_result",
          "data": {
            "text/plain": [
              "(3, 3)"
            ]
          },
          "metadata": {},
          "execution_count": 23
        }
      ]
    },
    {
      "cell_type": "code",
      "source": [
        "#El comando \"ndim\" devuelve el numero de dimensiones de la matriz.\n",
        "A.ndim"
      ],
      "metadata": {
        "colab": {
          "base_uri": "https://localhost:8080/"
        },
        "id": "kOJLSl_h0Be1",
        "outputId": "b75c7ca1-5651-40d8-fe54-2fca259cfcd9"
      },
      "execution_count": 27,
      "outputs": [
        {
          "output_type": "execute_result",
          "data": {
            "text/plain": [
              "2"
            ]
          },
          "metadata": {},
          "execution_count": 27
        }
      ]
    },
    {
      "cell_type": "code",
      "source": [
        "#El comando \"size\" devuelve el numero de elementos presentes en la matriz.\n",
        "A.size"
      ],
      "metadata": {
        "colab": {
          "base_uri": "https://localhost:8080/"
        },
        "id": "jkuWE7bKztc1",
        "outputId": "9d62ff8e-87a7-4300-a3be-eb3bff64eab7"
      },
      "execution_count": 25,
      "outputs": [
        {
          "output_type": "execute_result",
          "data": {
            "text/plain": [
              "9"
            ]
          },
          "metadata": {},
          "execution_count": 25
        }
      ]
    },
    {
      "cell_type": "markdown",
      "source": [
        "**j)**\tConstruya la función y[n]=sin(pi*0.12 n) en el intervalo 0 <= n <= 100"
      ],
      "metadata": {
        "id": "WH3mb38G0Y7X"
      }
    },
    {
      "cell_type": "code",
      "source": [
        "rango=np.arange(0,101)\n",
        "yn=[]\n",
        "for i in rango:\n",
        "  resul=np.sin(np.pi*0.12*i)\n",
        "  yn.append(resul)\n",
        "yn=np.array(yn)\n",
        "print(\"Función y[n]\",yn)\n"
      ],
      "metadata": {
        "colab": {
          "base_uri": "https://localhost:8080/"
        },
        "collapsed": true,
        "id": "4_RzDptS05tU",
        "outputId": "f4b34260-ce8f-49dc-a82f-81d0f304e926"
      },
      "execution_count": 56,
      "outputs": [
        {
          "output_type": "stream",
          "name": "stdout",
          "text": [
            "Función y[n] [ 0.00000000e+00  3.68124553e-01  6.84547106e-01  9.04827052e-01\n",
            "  9.98026728e-01  9.51056516e-01  7.70513243e-01  4.81753674e-01\n",
            "  1.25333234e-01 -2.48689887e-01 -5.87785252e-01 -8.44327926e-01\n",
            " -9.82287251e-01 -9.82287251e-01 -8.44327926e-01 -5.87785252e-01\n",
            " -2.48689887e-01  1.25333234e-01  4.81753674e-01  7.70513243e-01\n",
            "  9.51056516e-01  9.98026728e-01  9.04827052e-01  6.84547106e-01\n",
            "  3.68124553e-01  3.67394040e-16 -3.68124553e-01 -6.84547106e-01\n",
            " -9.04827052e-01 -9.98026728e-01 -9.51056516e-01 -7.70513243e-01\n",
            " -4.81753674e-01 -1.25333234e-01  2.48689887e-01  5.87785252e-01\n",
            "  8.44327926e-01  9.82287251e-01  9.82287251e-01  8.44327926e-01\n",
            "  5.87785252e-01  2.48689887e-01 -1.25333234e-01 -4.81753674e-01\n",
            " -7.70513243e-01 -9.51056516e-01 -9.98026728e-01 -9.04827052e-01\n",
            " -6.84547106e-01 -3.68124553e-01 -7.34788079e-16  3.68124553e-01\n",
            "  6.84547106e-01  9.04827052e-01  9.98026728e-01  9.51056516e-01\n",
            "  7.70513243e-01  4.81753674e-01  1.25333234e-01 -2.48689887e-01\n",
            " -5.87785252e-01 -8.44327926e-01 -9.82287251e-01 -9.82287251e-01\n",
            " -8.44327926e-01 -5.87785252e-01 -2.48689887e-01  1.25333234e-01\n",
            "  4.81753674e-01  7.70513243e-01  9.51056516e-01  9.98026728e-01\n",
            "  9.04827052e-01  6.84547106e-01  3.68124553e-01  1.10218212e-15\n",
            " -3.68124553e-01 -6.84547106e-01 -9.04827052e-01 -9.98026728e-01\n",
            " -9.51056516e-01 -7.70513243e-01 -4.81753674e-01 -1.25333234e-01\n",
            "  2.48689887e-01  5.87785252e-01  8.44327926e-01  9.82287251e-01\n",
            "  9.82287251e-01  8.44327926e-01  5.87785252e-01  2.48689887e-01\n",
            " -1.25333234e-01 -4.81753674e-01 -7.70513243e-01 -9.51056516e-01\n",
            " -9.98026728e-01 -9.04827052e-01 -6.84547106e-01 -3.68124553e-01\n",
            " -1.46957616e-15]\n"
          ]
        },
        {
          "output_type": "execute_result",
          "data": {
            "text/plain": [
              "(101,)"
            ]
          },
          "metadata": {},
          "execution_count": 56
        }
      ]
    },
    {
      "cell_type": "markdown",
      "source": [
        "**k)**\tConstruya la función y2[n]=cos(2pi*0.03 n) en el intervalo 0 <= n <= 100"
      ],
      "metadata": {
        "id": "p9Ie3o1u2ql-"
      }
    },
    {
      "cell_type": "code",
      "source": [
        "y2n=[]\n",
        "\n",
        "for i in rango:\n",
        "  resul2=np.cos(2*np.pi*0.03*i)\n",
        "  y2n.append(resul2)\n",
        "\n",
        "y2n=np.array(y2n)\n",
        "print(\"Función y2[n]\",y2n)\n"
      ],
      "metadata": {
        "colab": {
          "base_uri": "https://localhost:8080/"
        },
        "collapsed": true,
        "id": "p-cIsAS02Lc4",
        "outputId": "f7d59528-e9ee-403d-faba-918e610369bf"
      },
      "execution_count": 58,
      "outputs": [
        {
          "output_type": "stream",
          "name": "stdout",
          "text": [
            "Función y2[n] [ 1.00000000e+00  9.82287251e-01  9.29776486e-01  8.44327926e-01\n",
            "  7.28968627e-01  5.87785252e-01  4.25779292e-01  2.48689887e-01\n",
            "  6.27905195e-02 -1.25333234e-01 -3.09016994e-01 -4.81753674e-01\n",
            " -6.37423990e-01 -7.70513243e-01 -8.76306680e-01 -9.51056516e-01\n",
            " -9.92114701e-01 -9.98026728e-01 -9.68583161e-01 -9.04827052e-01\n",
            " -8.09016994e-01 -6.84547106e-01 -5.35826795e-01 -3.68124553e-01\n",
            " -1.87381315e-01 -1.83697020e-16  1.87381315e-01  3.68124553e-01\n",
            "  5.35826795e-01  6.84547106e-01  8.09016994e-01  9.04827052e-01\n",
            "  9.68583161e-01  9.98026728e-01  9.92114701e-01  9.51056516e-01\n",
            "  8.76306680e-01  7.70513243e-01  6.37423990e-01  4.81753674e-01\n",
            "  3.09016994e-01  1.25333234e-01 -6.27905195e-02 -2.48689887e-01\n",
            " -4.25779292e-01 -5.87785252e-01 -7.28968627e-01 -8.44327926e-01\n",
            " -9.29776486e-01 -9.82287251e-01 -1.00000000e+00 -9.82287251e-01\n",
            " -9.29776486e-01 -8.44327926e-01 -7.28968627e-01 -5.87785252e-01\n",
            " -4.25779292e-01 -2.48689887e-01 -6.27905195e-02  1.25333234e-01\n",
            "  3.09016994e-01  4.81753674e-01  6.37423990e-01  7.70513243e-01\n",
            "  8.76306680e-01  9.51056516e-01  9.92114701e-01  9.98026728e-01\n",
            "  9.68583161e-01  9.04827052e-01  8.09016994e-01  6.84547106e-01\n",
            "  5.35826795e-01  3.68124553e-01  1.87381315e-01  5.51091060e-16\n",
            " -1.87381315e-01 -3.68124553e-01 -5.35826795e-01 -6.84547106e-01\n",
            " -8.09016994e-01 -9.04827052e-01 -9.68583161e-01 -9.98026728e-01\n",
            " -9.92114701e-01 -9.51056516e-01 -8.76306680e-01 -7.70513243e-01\n",
            " -6.37423990e-01 -4.81753674e-01 -3.09016994e-01 -1.25333234e-01\n",
            "  6.27905195e-02  2.48689887e-01  4.25779292e-01  5.87785252e-01\n",
            "  7.28968627e-01  8.44327926e-01  9.29776486e-01  9.82287251e-01\n",
            "  1.00000000e+00]\n"
          ]
        }
      ]
    },
    {
      "cell_type": "markdown",
      "source": [
        "**l)**\tGenere una tercera señal que sea la suma de estas dos señales, es decir s[n]=y[n]+y2[n] y una cuarta que sea el producto de estas, t[n]=y[n].y2[n]"
      ],
      "metadata": {
        "id": "MkLcQrsW3bsm"
      }
    },
    {
      "cell_type": "code",
      "source": [
        "sn=yn+y2n\n",
        "print(\"Función s[n]\",sn)\n"
      ],
      "metadata": {
        "colab": {
          "base_uri": "https://localhost:8080/"
        },
        "collapsed": true,
        "id": "XeYCvAuY4PXj",
        "outputId": "a56ca686-b86e-4fcd-ff26-1bc65d7311aa"
      },
      "execution_count": 60,
      "outputs": [
        {
          "output_type": "stream",
          "name": "stdout",
          "text": [
            "Función s[n] [ 1.00000000e+00  1.35041180e+00  1.61432359e+00  1.74915498e+00\n",
            "  1.72699536e+00  1.53884177e+00  1.19629253e+00  7.30443561e-01\n",
            "  1.88123753e-01 -3.74023121e-01 -8.96802247e-01 -1.32608160e+00\n",
            " -1.61971124e+00 -1.75280049e+00 -1.72063461e+00 -1.53884177e+00\n",
            " -1.24080459e+00 -8.72693495e-01 -4.86829487e-01 -1.34313810e-01\n",
            "  1.42039522e-01  3.13479622e-01  3.69000257e-01  3.16422553e-01\n",
            "  1.80743238e-01  1.83697020e-16 -1.80743238e-01 -3.16422553e-01\n",
            " -3.69000257e-01 -3.13479622e-01 -1.42039522e-01  1.34313810e-01\n",
            "  4.86829487e-01  8.72693495e-01  1.24080459e+00  1.53884177e+00\n",
            "  1.72063461e+00  1.75280049e+00  1.61971124e+00  1.32608160e+00\n",
            "  8.96802247e-01  3.74023121e-01 -1.88123753e-01 -7.30443561e-01\n",
            " -1.19629253e+00 -1.53884177e+00 -1.72699536e+00 -1.74915498e+00\n",
            " -1.61432359e+00 -1.35041180e+00 -1.00000000e+00 -6.14162698e-01\n",
            " -2.45229380e-01  6.04991270e-02  2.69058101e-01  3.63271264e-01\n",
            "  3.44733951e-01  2.33063787e-01  6.25427140e-02 -1.23356654e-01\n",
            " -2.78768258e-01 -3.62574251e-01 -3.44863261e-01 -2.11774008e-01\n",
            "  3.19787545e-02  3.63271264e-01  7.43424814e-01  1.12335996e+00\n",
            "  1.45033684e+00  1.67534030e+00  1.76007351e+00  1.68257383e+00\n",
            "  1.44065385e+00  1.05267166e+00  5.55505867e-01  1.65327318e-15\n",
            " -5.55505867e-01 -1.05267166e+00 -1.44065385e+00 -1.68257383e+00\n",
            " -1.76007351e+00 -1.67534030e+00 -1.45033684e+00 -1.12335996e+00\n",
            " -7.43424814e-01 -3.63271264e-01 -3.19787545e-02  2.11774008e-01\n",
            "  3.44863261e-01  3.62574251e-01  2.78768258e-01  1.23356654e-01\n",
            " -6.25427140e-02 -2.33063787e-01 -3.44733951e-01 -3.63271264e-01\n",
            " -2.69058101e-01 -6.04991270e-02  2.45229380e-01  6.14162698e-01\n",
            "  1.00000000e+00]\n"
          ]
        }
      ]
    },
    {
      "cell_type": "code",
      "source": [
        "tn=yn*y2n\n",
        "print(\"Función t[n]\",tn)\n"
      ],
      "metadata": {
        "colab": {
          "base_uri": "https://localhost:8080/"
        },
        "collapsed": true,
        "id": "fsI4vo_b5FHA",
        "outputId": "d7d4d23f-f468-4e4b-c66d-bb7e8026590a"
      },
      "execution_count": 61,
      "outputs": [
        {
          "output_type": "stream",
          "name": "stdout",
          "text": [
            "Función t[n] [ 0.00000000e+00  3.61604055e-01  6.36475803e-01  7.63970748e-01\n",
            "  7.27530174e-01  5.59016994e-01  3.28068583e-01  1.19807267e-01\n",
            "  7.86973885e-03  3.11691077e-02  1.81635632e-01  4.06758080e-01\n",
            "  6.26133458e-01  7.56865335e-01  7.39890201e-01  5.59016994e-01\n",
            "  2.46728893e-01 -1.25085917e-01 -4.66618497e-01 -6.97181226e-01\n",
            " -7.69420884e-01 -6.83196309e-01 -4.84830580e-01 -2.51998597e-01\n",
            " -6.89796626e-02 -6.74891902e-32 -6.89796626e-02 -2.51998597e-01\n",
            " -4.84830580e-01 -6.83196309e-01 -7.69420884e-01 -6.97181226e-01\n",
            " -4.66618497e-01 -1.25085917e-01  2.46728893e-01  5.59016994e-01\n",
            "  7.39890201e-01  7.56865335e-01  6.26133458e-01  4.06758080e-01\n",
            "  1.81635632e-01  3.11691077e-02  7.86973885e-03  1.19807267e-01\n",
            "  3.28068583e-01  5.59016994e-01  7.27530174e-01  7.63970748e-01\n",
            "  6.36475803e-01  3.61604055e-01  7.34788079e-16 -3.61604055e-01\n",
            " -6.36475803e-01 -7.63970748e-01 -7.27530174e-01 -5.59016994e-01\n",
            " -3.28068583e-01 -1.19807267e-01 -7.86973885e-03 -3.11691077e-02\n",
            " -1.81635632e-01 -4.06758080e-01 -6.26133458e-01 -7.56865335e-01\n",
            " -7.39890201e-01 -5.59016994e-01 -2.46728893e-01  1.25085917e-01\n",
            "  4.66618497e-01  6.97181226e-01  7.69420884e-01  6.83196309e-01\n",
            "  4.84830580e-01  2.51998597e-01  6.89796626e-02  6.07402712e-31\n",
            "  6.89796626e-02  2.51998597e-01  4.84830580e-01  6.83196309e-01\n",
            "  7.69420884e-01  6.97181226e-01  4.66618497e-01  1.25085917e-01\n",
            " -2.46728893e-01 -5.59016994e-01 -7.39890201e-01 -7.56865335e-01\n",
            " -6.26133458e-01 -4.06758080e-01 -1.81635632e-01 -3.11691077e-02\n",
            " -7.86973885e-03 -1.19807267e-01 -3.28068583e-01 -5.59016994e-01\n",
            " -7.27530174e-01 -7.63970748e-01 -6.36475803e-01 -3.61604055e-01\n",
            " -1.46957616e-15]\n"
          ]
        },
        {
          "output_type": "execute_result",
          "data": {
            "text/plain": [
              "(101,)"
            ]
          },
          "metadata": {},
          "execution_count": 61
        }
      ]
    },
    {
      "cell_type": "markdown",
      "source": [
        "**m)**\tGraficar en la misma figura las señales y[n] y y2[n], utilice leyenda y colores diferentes para cada señal. Asigne título a cada eje."
      ],
      "metadata": {
        "id": "zO4BcUp-8WME"
      }
    },
    {
      "cell_type": "code",
      "source": [
        "fig, fg=plt.subplots(figsize=(5,2.7),layout=\"constrained\")\n",
        "fg.plot(rango,yn,label=\"y[n]\")\n",
        "fg.plot(rango,y2n,label=\"y2[n]\")\n",
        "fg.set_xlabel(\"n\")\n",
        "fg.set_ylabel(\"Función\")\n",
        "fg.set_title(\"Gráfico y[n] y y2[n]\")\n",
        "fg.legend()\n",
        "\n"
      ],
      "metadata": {
        "colab": {
          "base_uri": "https://localhost:8080/",
          "height": 315
        },
        "id": "pWjEvJBX8noy",
        "outputId": "1fe6dcf1-8395-4245-9d84-365b98355e10"
      },
      "execution_count": 65,
      "outputs": [
        {
          "output_type": "execute_result",
          "data": {
            "text/plain": [
              "<matplotlib.legend.Legend at 0x7a2aeef60340>"
            ]
          },
          "metadata": {},
          "execution_count": 65
        },
        {
          "output_type": "display_data",
          "data": {
            "text/plain": [
              "<Figure size 500x270 with 1 Axes>"
            ],
            "image/png": "[encoded data removed]"
          },
          "metadata": {}
        }
      ]
    },
    {
      "cell_type": "markdown",
      "source": [
        "**n)**\tGraficar en la misma figura las señales s[n] y t[n], utilice leyenda y colores diferentes para cada señal. Asigne título a cada eje."
      ],
      "metadata": {
        "id": "pnyMqVsb98nD"
      }
    },
    {
      "cell_type": "code",
      "source": [
        "fig, fg2=plt.subplots(figsize=(5,2.7),layout=\"constrained\")\n",
        "fg2.plot(rango,sn,label=\"s[n]\")\n",
        "fg2.plot(rango,tn,label=\"t[n]\")\n",
        "fg2.set_xlabel(\"n\")\n",
        "fg2.set_ylabel(\"Función\")\n",
        "fg2.set_title(\"Gráfico s[n] y t[n]\")\n",
        "fg2.legend()"
      ],
      "metadata": {
        "colab": {
          "base_uri": "https://localhost:8080/",
          "height": 315
        },
        "id": "n_lI7477-IbY",
        "outputId": "3ad68296-9a00-4a46-ca7f-a70119d8558e"
      },
      "execution_count": 63,
      "outputs": [
        {
          "output_type": "execute_result",
          "data": {
            "text/plain": [
              "<matplotlib.legend.Legend at 0x7a2aee8f3be0>"
            ]
          },
          "metadata": {},
          "execution_count": 63
        },
        {
          "output_type": "display_data",
          "data": {
            "text/plain": [
              "<Figure size 500x270 with 1 Axes>"
            ],
            "image/png": "[encoded data removed]"
          },
          "metadata": {}
        }
      ]
    }
  ]
}