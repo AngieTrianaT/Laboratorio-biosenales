{
  "cells": [
    {
      "cell_type": "markdown",
      "metadata": {
        "id": "LDgxq9Pq7Gn4"
      },
      "source": [
        "<p><img alt=\"udeA logo\" height=\"150px\" src=\"https://github.com/freddyduitama/images/blob/master/logo.png?raw=true\" align=\"left\" hspace=\"50px\" vspace=\"0px\" style=\"width:107px;height:152px;\"></p>\n",
        "<h1><font color='0B5345'> <center>\n",
        "Práctica 3. Parte 2: Comparación estadística de Energía de señales EEG</center></font></h1>\n",
        "<font  face=\"Courier New\" size=\"3\">\n",
        "<p1><center> Angie Triana - Erika Gómez - Ana Carolina Mejía</center></p1>\n",
        "\n",
        "<p3><center><b><font color='0B5345' face=\"Lucida Calligraphy,Comic Sans MS,Lucida Console\" size=\"5\">Universidad de Antioquia</font></b> </center></p3>"
      ],
      "id": "LDgxq9Pq7Gn4"
    },
    {
      "cell_type": "code",
      "execution_count": null,
      "id": "3f1e1e51-3d3e-4783-998a-de678702ea3e",
      "metadata": {
        "colab": {
          "base_uri": "https://localhost:8080/"
        },
        "id": "3f1e1e51-3d3e-4783-998a-de678702ea3e",
        "outputId": "47b6ee8a-0c3f-4540-b850-2d5174846939"
      },
      "outputs": [
        {
          "output_type": "stream",
          "name": "stdout",
          "text": [
            "Collecting pingouin\n",
            "  Downloading pingouin-0.5.5-py3-none-any.whl.metadata (19 kB)\n",
            "Requirement already satisfied: matplotlib in /usr/local/lib/python3.10/dist-packages (from pingouin) (3.7.1)\n",
            "Requirement already satisfied: numpy in /usr/local/lib/python3.10/dist-packages (from pingouin) (1.26.4)\n",
            "Requirement already satisfied: pandas>=1.5 in /usr/local/lib/python3.10/dist-packages (from pingouin) (2.1.4)\n",
            "Collecting pandas-flavor (from pingouin)\n",
            "  Downloading pandas_flavor-0.6.0-py3-none-any.whl.metadata (6.3 kB)\n",
            "Requirement already satisfied: scikit-learn>=1.2 in /usr/local/lib/python3.10/dist-packages (from pingouin) (1.3.2)\n",
            "Requirement already satisfied: scipy in /usr/local/lib/python3.10/dist-packages (from pingouin) (1.13.1)\n",
            "Requirement already satisfied: seaborn in /usr/local/lib/python3.10/dist-packages (from pingouin) (0.13.1)\n",
            "Requirement already satisfied: statsmodels in /usr/local/lib/python3.10/dist-packages (from pingouin) (0.14.2)\n",
            "Requirement already satisfied: tabulate in /usr/local/lib/python3.10/dist-packages (from pingouin) (0.9.0)\n",
            "Requirement already satisfied: python-dateutil>=2.8.2 in /usr/local/lib/python3.10/dist-packages (from pandas>=1.5->pingouin) (2.8.2)\n",
            "Requirement already satisfied: pytz>=2020.1 in /usr/local/lib/python3.10/dist-packages (from pandas>=1.5->pingouin) (2024.2)\n",
            "Requirement already satisfied: tzdata>=2022.1 in /usr/local/lib/python3.10/dist-packages (from pandas>=1.5->pingouin) (2024.1)\n",
            "Requirement already satisfied: joblib>=1.1.1 in /usr/local/lib/python3.10/dist-packages (from scikit-learn>=1.2->pingouin) (1.4.2)\n",
            "Requirement already satisfied: threadpoolctl>=2.0.0 in /usr/local/lib/python3.10/dist-packages (from scikit-learn>=1.2->pingouin) (3.5.0)\n",
            "Requirement already satisfied: contourpy>=1.0.1 in /usr/local/lib/python3.10/dist-packages (from matplotlib->pingouin) (1.3.0)\n",
            "Requirement already satisfied: cycler>=0.10 in /usr/local/lib/python3.10/dist-packages (from matplotlib->pingouin) (0.12.1)\n",
            "Requirement already satisfied: fonttools>=4.22.0 in /usr/local/lib/python3.10/dist-packages (from matplotlib->pingouin) (4.53.1)\n",
            "Requirement already satisfied: kiwisolver>=1.0.1 in /usr/local/lib/python3.10/dist-packages (from matplotlib->pingouin) (1.4.7)\n",
            "Requirement already satisfied: packaging>=20.0 in /usr/local/lib/python3.10/dist-packages (from matplotlib->pingouin) (24.1)\n",
            "Requirement already satisfied: pillow>=6.2.0 in /usr/local/lib/python3.10/dist-packages (from matplotlib->pingouin) (9.4.0)\n",
            "Requirement already satisfied: pyparsing>=2.3.1 in /usr/local/lib/python3.10/dist-packages (from matplotlib->pingouin) (3.1.4)\n",
            "Requirement already satisfied: xarray in /usr/local/lib/python3.10/dist-packages (from pandas-flavor->pingouin) (2024.6.0)\n",
            "Requirement already satisfied: patsy>=0.5.6 in /usr/local/lib/python3.10/dist-packages (from statsmodels->pingouin) (0.5.6)\n",
            "Requirement already satisfied: six in /usr/local/lib/python3.10/dist-packages (from patsy>=0.5.6->statsmodels->pingouin) (1.16.0)\n",
            "Downloading pingouin-0.5.5-py3-none-any.whl (204 kB)\n",
            "\u001b[2K   \u001b[90m━━━━━━━━━━━━━━━━━━━━━━━━━━━━━━━━━━━━━━━━\u001b[0m \u001b[32m204.4/204.4 kB\u001b[0m \u001b[31m7.2 MB/s\u001b[0m eta \u001b[36m0:00:00\u001b[0m\n",
            "\u001b[?25hDownloading pandas_flavor-0.6.0-py3-none-any.whl (7.2 kB)\n",
            "Installing collected packages: pandas-flavor, pingouin\n",
            "Successfully installed pandas-flavor-0.6.0 pingouin-0.5.5\n"
          ]
        }
      ],
      "source": [
        "!pip install pingouin"
      ]
    },
    {
      "cell_type": "code",
      "execution_count": null,
      "id": "c6c5bb16-68e6-4f66-9878-d3c985c4b80a",
      "metadata": {
        "id": "c6c5bb16-68e6-4f66-9878-d3c985c4b80a"
      },
      "outputs": [],
      "source": [
        "from scipy.fftpack import fft;\n",
        "import matplotlib.pyplot as plt;\n",
        "import numpy as np;\n",
        "import scipy.io as sio;\n",
        "import matplotlib.pyplot as plt\n",
        "import pandas as pd\n",
        "import seaborn as sns\n",
        "from scipy import stats\n",
        "import pingouin as pg\n",
        "import zipfile"
      ]
    },
    {
      "cell_type": "code",
      "execution_count": null,
      "id": "27b47d3f-1d4d-4e33-9969-db4d4e7f7e65",
      "metadata": {
        "id": "27b47d3f-1d4d-4e33-9969-db4d4e7f7e65"
      },
      "outputs": [],
      "source": [
        "archivo_zip = 'datos_senales_datos_parkinson_cursos.zip'\n",
        "ruta_destino = './' #La ruta de destino será la misma carpeta\n",
        "with zipfile.ZipFile(archivo_zip, 'r') as zip_ref: #Se descomprime el archivo\n",
        "    zip_ref.extractall(ruta_destino)"
      ]
    },
    {
      "cell_type": "code",
      "execution_count": null,
      "id": "ba7250cb-9978-4f5e-a260-784bbbf3b221",
      "metadata": {
        "colab": {
          "base_uri": "https://localhost:8080/"
        },
        "id": "ba7250cb-9978-4f5e-a260-784bbbf3b221",
        "outputId": "b51397ce-eb79-4699-f1bd-0e122df6c640"
      },
      "outputs": [
        {
          "output_type": "stream",
          "name": "stdout",
          "text": [
            "/content\n"
          ]
        }
      ],
      "source": [
        "import os\n",
        "directorio_actual=os.getcwd()\n",
        "print(directorio_actual)"
      ]
    },
    {
      "cell_type": "code",
      "execution_count": null,
      "id": "abf2bdd9-ba1b-472b-9f76-2f2e60acfe1f",
      "metadata": {
        "scrolled": true,
        "colab": {
          "base_uri": "https://localhost:8080/"
        },
        "id": "abf2bdd9-ba1b-472b-9f76-2f2e60acfe1f",
        "outputId": "e1550d68-3ee3-43d9-e494-32ff6e8904b3"
      },
      "outputs": [
        {
          "output_type": "stream",
          "name": "stdout",
          "text": [
            "Archivo control contiene la información de 36 sujetos.\n"
          ]
        }
      ],
      "source": [
        "archivos_control=os.listdir(directorio_actual + \"/control\") #Se extraen los archivos de la carpeta control.\n",
        "print(\"Archivo control contiene la información de\",len(archivos_control), \"sujetos.\") #Se muestra el número de archivos asociados a cada sujeto."
      ]
    },
    {
      "cell_type": "code",
      "execution_count": null,
      "id": "f0d5ebcd-b0ab-41ea-af6f-b4dbd4f92b93",
      "metadata": {
        "colab": {
          "base_uri": "https://localhost:8080/"
        },
        "id": "f0d5ebcd-b0ab-41ea-af6f-b4dbd4f92b93",
        "outputId": "4830255f-25d6-4a4e-dcc8-4da685448088"
      },
      "outputs": [
        {
          "output_type": "stream",
          "name": "stdout",
          "text": [
            "Archivo parkinson contiene la información de 23 sujetos.\n"
          ]
        }
      ],
      "source": [
        "archivos_parkinson=os.listdir(directorio_actual + \"/parkinson\") #Se extraen los archivos de la carpeta Parkinson.\n",
        "print(\"Archivo parkinson contiene la información de\",len(archivos_parkinson), \"sujetos.\")#Se muestra el número de archivos asociados a cada sujeto."
      ]
    },
    {
      "cell_type": "code",
      "execution_count": null,
      "id": "ae1c5c22-fcec-4eca-8028-b20a002ccd50",
      "metadata": {
        "colab": {
          "base_uri": "https://localhost:8080/",
          "height": 35
        },
        "id": "ae1c5c22-fcec-4eca-8028-b20a002ccd50",
        "outputId": "40450664-d203-4541-e999-a8428e50ac25"
      },
      "outputs": [
        {
          "output_type": "execute_result",
          "data": {
            "text/plain": [
              "'C027_EP_reposo.mat'"
            ],
            "application/vnd.google.colaboratory.intrinsic+json": {
              "type": "string"
            }
          },
          "metadata": {},
          "execution_count": 23
        }
      ],
      "source": [
        "archivos_control[0]"
      ]
    },
    {
      "cell_type": "code",
      "execution_count": null,
      "id": "2577a0d6-c0ad-437f-9479-f57de7915d11",
      "metadata": {
        "id": "2577a0d6-c0ad-437f-9479-f57de7915d11"
      },
      "outputs": [],
      "source": [
        "#ruta de un archivo\n",
        "path_subjecti=(directorio_actual + \"/control\" + \"/\" + archivos_control[0]) #Ahora se carga la ruta de un sujeto control\n",
        "#1 CARGAR EL ARCHIVO\n",
        "data = sio.loadmat(path_subjecti)"
      ]
    },
    {
      "cell_type": "code",
      "execution_count": null,
      "id": "8a0a8a4e-1e4c-4bfd-91c6-93350e7f1f40",
      "metadata": {
        "colab": {
          "base_uri": "https://localhost:8080/"
        },
        "id": "8a0a8a4e-1e4c-4bfd-91c6-93350e7f1f40",
        "outputId": "e78197be-6090-47c7-a090-edfa4337c7f2"
      },
      "outputs": [
        {
          "output_type": "execute_result",
          "data": {
            "text/plain": [
              "dict_keys(['__header__', '__version__', '__globals__', 'data'])"
            ]
          },
          "metadata": {},
          "execution_count": 19
        }
      ],
      "source": [
        "data.keys() #Observamos las claves del archivo"
      ]
    },
    {
      "cell_type": "code",
      "execution_count": null,
      "id": "fd92e602-8323-4a04-aef9-77e7db6370f6",
      "metadata": {
        "id": "fd92e602-8323-4a04-aef9-77e7db6370f6"
      },
      "outputs": [],
      "source": [
        "data = data['data'] #Extraemos la clave donde se encuentran contenidas las señales"
      ]
    },
    {
      "cell_type": "code",
      "execution_count": null,
      "id": "9dc236d9-ebb9-4e7b-b2dc-b268835c510c",
      "metadata": {
        "colab": {
          "base_uri": "https://localhost:8080/"
        },
        "id": "9dc236d9-ebb9-4e7b-b2dc-b268835c510c",
        "outputId": "b86162c9-ec6d-4c17-80e2-724d8bff543b"
      },
      "outputs": [
        {
          "output_type": "execute_result",
          "data": {
            "text/plain": [
              "array([[[-0.19733569, -2.09579754, -0.35648188, ...,  1.79392397,\n",
              "         -0.03205237,  0.94145799],\n",
              "        [-0.30539051, -1.95225132, -0.25310796, ...,  1.67066681,\n",
              "         -0.06045094,  1.04318798],\n",
              "        [-0.38547873, -1.77860498, -0.15194905, ...,  1.54098392,\n",
              "         -0.08349149,  1.12886047],\n",
              "        ...,\n",
              "        [-3.46883965, -0.71004272, -1.47101223, ...,  1.43938136,\n",
              "         -0.89867193,  1.85984898],\n",
              "        [-3.65418959, -0.72886789, -1.51761782, ...,  1.69920301,\n",
              "         -0.8058508 ,  1.72896695],\n",
              "        [-3.81355   , -0.75994068, -1.54595327, ...,  1.97874486,\n",
              "         -0.72223341,  1.60572612]],\n",
              "\n",
              "       [[-0.49805999, -1.11634994,  1.12969792, ...,  0.5847261 ,\n",
              "          0.59966332, -0.19755332],\n",
              "        [-0.5424971 , -0.98738897,  1.19663715, ...,  0.40993881,\n",
              "          0.57045984, -0.08915517],\n",
              "        [-0.57589036, -0.83824211,  1.26319468, ...,  0.23822376,\n",
              "          0.54242831,  0.01529163],\n",
              "        ...,\n",
              "        [-2.29838991,  0.49485981, -0.6675635 , ...,  0.60291266,\n",
              "         -1.60754073,  0.60241532],\n",
              "        [-2.4406004 ,  0.52649176, -0.66389251, ...,  0.75540626,\n",
              "         -1.6628592 ,  0.45524648],\n",
              "        [-2.56781554,  0.5481571 , -0.65356386, ...,  0.91185433,\n",
              "         -1.71877635,  0.31849563]],\n",
              "\n",
              "       [[-0.64230263, -1.86794615,  1.0393014 , ...,  0.94958192,\n",
              "          0.49626321, -2.09244084],\n",
              "        [-0.71323401, -1.77650034,  1.16471004, ...,  0.69565552,\n",
              "          0.50424111, -1.92513144],\n",
              "        [-0.78482687, -1.67653525,  1.29244637, ...,  0.4522267 ,\n",
              "          0.5117681 , -1.7480309 ],\n",
              "        ...,\n",
              "        [-2.83715725,  0.94836819, -0.94439733, ...,  0.02525219,\n",
              "         -2.0349369 ,  0.5991677 ],\n",
              "        [-2.99693394,  0.99481285, -0.92304695, ...,  0.17942436,\n",
              "         -2.25948477,  0.49109453],\n",
              "        [-3.14693069,  1.03302503, -0.89711142, ...,  0.32563218,\n",
              "         -2.47774148,  0.39253914]],\n",
              "\n",
              "       ...,\n",
              "\n",
              "       [[-6.81085539,  1.12838137, -0.1164765 , ..., -0.36592573,\n",
              "         -2.93353915,  6.31486416],\n",
              "        [-6.42171335,  1.27464175, -0.13539015, ..., -0.46600896,\n",
              "         -2.93562913,  5.6950202 ],\n",
              "        [-6.01371098,  1.44146645, -0.1694084 , ..., -0.5785622 ,\n",
              "         -2.94827819,  5.05514717],\n",
              "        ...,\n",
              "        [ 4.73690796, -2.91557097,  2.90427065, ..., -5.62850904,\n",
              "          1.59639668, -0.61238956],\n",
              "        [ 4.94304848, -2.62829709,  3.08776832, ..., -6.10315657,\n",
              "          2.40628576, -0.74072051],\n",
              "        [ 5.09981346, -2.34653425,  3.26885772, ..., -6.52865553,\n",
              "          3.16579962, -0.86409992]],\n",
              "\n",
              "       [[-3.89640164,  0.84473175, -0.91303104, ...,  2.26102853,\n",
              "         -0.21080792,  5.9974885 ],\n",
              "        [-3.87026978,  1.13916695, -0.97797471, ...,  2.09924579,\n",
              "         -0.08195289,  5.30837727],\n",
              "        [-3.84492421,  1.43383777, -1.03689539, ...,  1.89402974,\n",
              "          0.04302184,  4.60393286],\n",
              "        ...,\n",
              "        [ 3.82395554, -1.1913718 ,  1.57529044, ..., -3.64588332,\n",
              "          3.62635374,  1.321154  ],\n",
              "        [ 3.94753408, -0.82923979,  1.71596169, ..., -3.75382805,\n",
              "          4.3072753 ,  1.14121711],\n",
              "        [ 4.03079462, -0.46330008,  1.86790538, ..., -3.82609963,\n",
              "          4.94199181,  0.96954143]],\n",
              "\n",
              "       [[-2.24346304,  2.20646787, -3.08227515, ..., -0.20163767,\n",
              "         -1.30278039,  5.61748123],\n",
              "        [-2.4253087 ,  2.51678991, -3.15810108, ..., -0.17203268,\n",
              "         -0.70403737,  4.79721546],\n",
              "        [-2.62057781,  2.80245614, -3.20489812, ..., -0.18947561,\n",
              "         -0.10205753,  3.96848202],\n",
              "        ...,\n",
              "        [ 5.96238899,  1.06516147, -0.62747794, ..., -4.83254433,\n",
              "          3.48153782,  0.10367724],\n",
              "        [ 6.11077833,  1.44860256, -0.56943089, ..., -5.08772659,\n",
              "          4.11742592, -0.00820716],\n",
              "        [ 6.22172832,  1.83870435, -0.48674473, ..., -5.30105543,\n",
              "          4.72435331, -0.1110419 ]]])"
            ]
          },
          "metadata": {},
          "execution_count": 21
        }
      ],
      "source": [
        "data"
      ]
    },
    {
      "cell_type": "code",
      "execution_count": null,
      "id": "02674584-0150-4efa-bbbb-ede99f85c8f9",
      "metadata": {
        "colab": {
          "base_uri": "https://localhost:8080/"
        },
        "id": "02674584-0150-4efa-bbbb-ede99f85c8f9",
        "outputId": "c28d685a-34f1-4dd7-f3af-2d7e81d1cee2"
      },
      "outputs": [
        {
          "output_type": "execute_result",
          "data": {
            "text/plain": [
              "(8, 2000, 142)"
            ]
          },
          "metadata": {},
          "execution_count": 24
        }
      ],
      "source": [
        "data.shape"
      ]
    },
    {
      "cell_type": "code",
      "execution_count": null,
      "id": "a05e0d24-45db-4442-9d87-28a84b72d386",
      "metadata": {
        "colab": {
          "base_uri": "https://localhost:8080/"
        },
        "id": "a05e0d24-45db-4442-9d87-28a84b72d386",
        "outputId": "4a5946d4-8457-45f4-ac5a-fd0722ca864f"
      },
      "outputs": [
        {
          "output_type": "execute_result",
          "data": {
            "text/plain": [
              "(8, 2000, 142)"
            ]
          },
          "metadata": {},
          "execution_count": 25
        }
      ],
      "source": [
        "data.shape #Miramos su forma para conocer el número de canales, muestras y épocas"
      ]
    },
    {
      "cell_type": "code",
      "execution_count": null,
      "id": "f21955fe-ae24-483f-b19d-23f36073680f",
      "metadata": {
        "colab": {
          "base_uri": "https://localhost:8080/"
        },
        "id": "f21955fe-ae24-483f-b19d-23f36073680f",
        "outputId": "4f850cd1-3d89-404f-c5d5-7f7eed1ee4f0"
      },
      "outputs": [
        {
          "output_type": "stream",
          "name": "stdout",
          "text": [
            "Variable python: <class 'numpy.ndarray'>\n",
            "Tipo de variable cargada: float64\n",
            "Dimensiones de los datos cargados: (8, 2000, 142)\n",
            "Numero de dimensiones: 3\n",
            "Tamaño: 2272000\n",
            "Tamaño en memoria (bytes): 18176000\n"
          ]
        }
      ],
      "source": [
        "print(\"Variable python: \" + str(type(data))); #Miramos el tipo de dato\n",
        "#características básicas de ndarray\n",
        "print(\"Tipo de variable cargada: \" + str(data.dtype));\n",
        "print(\"Dimensiones de los datos cargados: \" + str(data.shape));\n",
        "print(\"Numero de dimensiones: \" + str(data.ndim));\n",
        "print(\"Tamaño: \" + str(data.size));\n",
        "print(\"Tamaño en memoria (bytes): \" + str(data.nbytes));"
      ]
    },
    {
      "cell_type": "code",
      "source": [
        "#La señal se convierte en continua mediante el comando reshape.\n",
        "senal_continua=np.reshape(data,(data.shape[0],data.shape[1]*data.shape[2]),order=\"F\")\n",
        "senal_continua.shape"
      ],
      "metadata": {
        "colab": {
          "base_uri": "https://localhost:8080/"
        },
        "id": "LUu6LsTJziv9",
        "outputId": "27a66a6a-86d1-4022-d8d0-4591b1f3f46f"
      },
      "id": "LUu6LsTJziv9",
      "execution_count": null,
      "outputs": [
        {
          "output_type": "execute_result",
          "data": {
            "text/plain": [
              "(8, 284000)"
            ]
          },
          "metadata": {},
          "execution_count": 29
        }
      ]
    },
    {
      "cell_type": "code",
      "source": [
        "#Se visualiza la señal continua.\n",
        "fig=plt.figure(figsize=(10,3))\n",
        "fig.subplots_adjust(hspace=0.4,wspace=0.4)\n",
        "plt.plot(senal_continua[0,0:2000])\n",
        "plt.show()"
      ],
      "metadata": {
        "colab": {
          "base_uri": "https://localhost:8080/",
          "height": 291
        },
        "id": "81cwA_vR0JHU",
        "outputId": "aca4e50b-5a86-4899-dd5b-336c10de874a"
      },
      "id": "81cwA_vR0JHU",
      "execution_count": null,
      "outputs": [
        {
          "output_type": "display_data",
          "data": {
            "text/plain": [
              "<Figure size 1000x300 with 1 Axes>"
            ],
            "image/png": "[encoded data removed]"
          },
          "metadata": {}
        }
      ]
    },
    {
      "cell_type": "markdown",
      "source": [
        "# **Procedimiento**"
      ],
      "metadata": {
        "id": "E56zG9HXAG0x"
      },
      "id": "E56zG9HXAG0x"
    },
    {
      "cell_type": "markdown",
      "id": "96a5a31d-e3e9-46c2-a86d-7703c58b2b08",
      "metadata": {
        "id": "96a5a31d-e3e9-46c2-a86d-7703c58b2b08"
      },
      "source": [
        "## 1. Implemente una función que reciba una señal de múltiples canales y épocas y calcule la Energía de promedio de cada canal."
      ]
    },
    {
      "cell_type": "markdown",
      "id": "7f4844fa-ca35-4cd2-96d6-14d281659325",
      "metadata": {
        "id": "7f4844fa-ca35-4cd2-96d6-14d281659325"
      },
      "source": [
        "Se pide que la función reciba una señal que esté organizada en múltiples canales y dividida en épocas, y que luego se calcule la energía de cada canal promediada a lo largo de todas las épocas."
      ]
    },
    {
      "cell_type": "code",
      "execution_count": null,
      "id": "5516f3b9-39aa-4802-a96e-990cb92e5d6c",
      "metadata": {
        "id": "5516f3b9-39aa-4802-a96e-990cb92e5d6c"
      },
      "outputs": [],
      "source": [
        "def energiapromedio(signal): #Recibe una señal con la forma: (Canales, muestras, épocas)\n",
        "    energia_epoca = np.sum(np.square(signal), axis=1) #Primero se le calcula el cuadrado a todos los elementos de la señal y luego se suman\n",
        "    energia_promedio = np.mean(energia_epoca, axis=1) #Se calcula el promedio, y se pone axis=1, que corresponde al eje de las épocas.\n",
        "    return energia_promedio"
      ]
    },
    {
      "cell_type": "code",
      "execution_count": null,
      "id": "714410fc-1fc8-4a02-b60c-55381f341afa",
      "metadata": {
        "colab": {
          "base_uri": "https://localhost:8080/"
        },
        "id": "714410fc-1fc8-4a02-b60c-55381f341afa",
        "outputId": "3d707a81-3b92-42c6-baf1-dab467a78cdd"
      },
      "outputs": [
        {
          "output_type": "stream",
          "name": "stdout",
          "text": [
            "La energía promedio del sujeto C027_EP_reposo.mat por épocas de cada canal es: [16237.836551   12899.89954443 12386.28471757 12167.85800755\n",
            " 19279.94175153 57768.54317813 53582.35671669 68859.29887361]\n"
          ]
        }
      ],
      "source": [
        "energia_promedio = energiapromedio(data) #Prueba\n",
        "print(f'La energía promedio del sujeto {archivos_control[0]} por épocas de cada canal es: {energia_promedio}')"
      ]
    },
    {
      "cell_type": "markdown",
      "id": "c731c0ca-12f7-4332-99a1-2b3da38279dd",
      "metadata": {
        "id": "c731c0ca-12f7-4332-99a1-2b3da38279dd"
      },
      "source": [
        "## 2. Calcule la energía de cada canal promediada por épocas para cada sujeto, esto para ambos grupos poblacionales. Guarde esta información en un DataFrame de columnas ‘canal’ y filas ‘#sujeto’ con los valores de energía calculados, un DataFrame para cada grupo poblacional."
      ]
    },
    {
      "cell_type": "code",
      "execution_count": null,
      "id": "76fc8f92-8291-4c4a-be92-17d7a66a1ae5",
      "metadata": {
        "colab": {
          "base_uri": "https://localhost:8080/"
        },
        "id": "76fc8f92-8291-4c4a-be92-17d7a66a1ae5",
        "outputId": "68138ebf-d938-4373-9cee-712bf3b5ce50"
      },
      "outputs": [
        {
          "output_type": "stream",
          "name": "stdout",
          "text": [
            "Número de archivos en control: 36\n"
          ]
        }
      ],
      "source": [
        "Energia_sujetos={}\n",
        "archivos_control = os.listdir(directorio_actual + \"/control\")\n",
        "print(\"Número de archivos en control:\", len(archivos_control))\n",
        "# Cargar y procesar los archivos de los sujetos control\n",
        "for i in range(len(archivos_control)):\n",
        "    ruta_archivo = os.path.join(directorio_actual + \"/control\", archivos_control[i])\n",
        "    data = sio.loadmat(ruta_archivo)\n",
        "    data = data[\"data\"]\n",
        "    energia_promedio = energiapromedio(data)\n",
        "    Energia_sujetos[f'Control {i+1}'] = energia_promedio"
      ]
    },
    {
      "cell_type": "code",
      "execution_count": null,
      "id": "a1c252c1-8764-4abb-9412-19edb4412b4d",
      "metadata": {
        "id": "a1c252c1-8764-4abb-9412-19edb4412b4d"
      },
      "outputs": [],
      "source": [
        "columnas=[f'Canal {i+1}' for i in range(0,8)] #Se establece un rango de acuerdo al número de canales.\n",
        "df_control = pd.DataFrame.from_dict(Energia_sujetos, orient='index', columns=columnas)"
      ]
    },
    {
      "cell_type": "code",
      "execution_count": null,
      "id": "de6aef47-1186-4b71-9fb0-3f2ac085f44c",
      "metadata": {
        "colab": {
          "base_uri": "https://localhost:8080/",
          "height": 1000
        },
        "id": "de6aef47-1186-4b71-9fb0-3f2ac085f44c",
        "outputId": "f91b9c05-9be2-4ca8-f42d-3dfc44ccdbdb"
      },
      "outputs": [
        {
          "output_type": "execute_result",
          "data": {
            "text/plain": [
              "                 Canal 1       Canal 2       Canal 3       Canal 4  \\\n",
              "Control 1    9702.573235   8310.599134  11274.177917   7138.981899   \n",
              "Control 2   27406.189072  21049.882057  45082.411879  49492.678794   \n",
              "Control 3   14798.253355  25379.940073  14356.020122  12288.656607   \n",
              "Control 4   23331.449171  21794.167460  20057.059370  18703.362284   \n",
              "Control 5   11197.554574  10948.368805  12737.004665  10745.161921   \n",
              "Control 6    7053.495371   6483.359552   6733.630592   6466.650688   \n",
              "Control 7   17567.465030  21738.511853  29429.308030  28530.200793   \n",
              "Control 8   11920.628977  12381.108138  11545.897906  11616.229122   \n",
              "Control 9   34036.502777  35276.242239  37728.034174  30403.012785   \n",
              "Control 10  45453.734066  42660.225279  44139.445078  50829.933680   \n",
              "Control 11  27648.962740  30316.594962  37591.351773  25811.252034   \n",
              "Control 12  13180.109317  13925.217812  16218.994223  12324.883659   \n",
              "Control 13  25807.598672  31148.334573  28640.385345  21025.777687   \n",
              "Control 14  21465.650358  20985.907912  22760.149588  18505.640284   \n",
              "Control 15  33100.991142  37083.630148  48210.820005  37758.393155   \n",
              "Control 16  10717.179591   8678.364937   2837.929418   4247.197699   \n",
              "Control 17  32321.272932  37703.798749  42613.972372  29252.410036   \n",
              "Control 18  18510.829979  19738.489375  20911.792748  21828.254399   \n",
              "Control 19  11419.720480  13899.308168  15693.423491   9310.798253   \n",
              "Control 20  16525.863562  18074.712395  25064.807854  22946.351737   \n",
              "Control 21   9133.036290   9214.155028  11626.411811  10809.621612   \n",
              "Control 22  35311.301696  34916.686010  38800.429029  35427.031127   \n",
              "Control 23  21064.909655  17704.075393  18305.622532  22438.444791   \n",
              "Control 24  14148.673322  18283.999666  28749.932148  14270.726911   \n",
              "Control 25  31250.507507  24222.776323  28298.111428  25378.777621   \n",
              "Control 26  11840.210442  26452.547613  15211.335701  12976.758727   \n",
              "Control 27  44475.710242  68589.716078  77481.958140  79786.695885   \n",
              "Control 28  28551.124065  26204.839254  17383.998956  17244.605933   \n",
              "Control 29  15966.402868  17617.810248  20804.937129  19654.400017   \n",
              "Control 30  15536.232499  27171.554335  31295.123356  22037.159698   \n",
              "Control 31  16272.826799  13075.926126  13775.441563  12795.198591   \n",
              "Control 32   4915.062778   6105.849947   5167.552339   4137.717862   \n",
              "Control 33  13352.558858  12079.042337  12056.752677  13537.102069   \n",
              "Control 34  54139.262123  49105.618777  53194.129654  57224.244039   \n",
              "Control 35  47166.556798  55107.798641  52286.884667  34682.656928   \n",
              "Control 36  16237.836551  12899.899544  12386.284718  12167.858008   \n",
              "\n",
              "                 Canal 5        Canal 6        Canal 7        Canal 8  \n",
              "Control 1   10286.070527   16151.490459   15731.296585   20956.719846  \n",
              "Control 2   40225.257438   42301.871711   33188.664449   34157.555662  \n",
              "Control 3   11694.967690   33493.547072   32447.412642   35561.860821  \n",
              "Control 4   21191.204277   91362.046468   60904.241719   53341.328914  \n",
              "Control 5   10329.642418   21461.605831   15493.212776   27414.375247  \n",
              "Control 6    6707.361817   17285.045612   16605.010744   18350.242393  \n",
              "Control 7   24586.407386   73273.828899   68753.985484   67962.795266  \n",
              "Control 8   18658.417865   42058.456657   34417.780679   46167.748438  \n",
              "Control 9   32255.024467  149804.923665  194218.587624  270161.157209  \n",
              "Control 10  59261.694214  253815.983291  214544.090670  247982.671049  \n",
              "Control 11  27832.063483   22108.384942   16607.683515   14131.438919  \n",
              "Control 12  14060.300659   25767.024864   21935.759622   22827.781293  \n",
              "Control 13  18251.804557  148225.533204  123954.279562  139100.707347  \n",
              "Control 14  29730.163026   25244.158073   22781.327587   24658.599512  \n",
              "Control 15  28343.182930  101170.614692   87824.803410  137143.924875  \n",
              "Control 16   7940.801560   24721.550337   21062.102476   19561.401306  \n",
              "Control 17  26890.856667   68243.618642   52417.921598   72115.850131  \n",
              "Control 18  23351.992649   53086.059766   37495.972475   43067.095504  \n",
              "Control 19   9919.084395   38555.794005   36669.080773   48958.809066  \n",
              "Control 20  24337.362553   70116.806192   63509.019508   71891.447386  \n",
              "Control 21  10467.879938   46336.873547   45695.801756   50086.361637  \n",
              "Control 22  35905.472869  106598.128152  106885.575966  112520.750636  \n",
              "Control 23  22415.119998   43344.591885   36731.812513   45890.820535  \n",
              "Control 24  28787.445978   14661.417740   15940.154095   19499.898656  \n",
              "Control 25  33079.452791  240835.102634  156030.040579  278095.358270  \n",
              "Control 26  14377.091900    7215.202754   15864.901097   19472.869878  \n",
              "Control 27  70386.435807  345373.334477  215673.993168  298878.557209  \n",
              "Control 28  26206.372422   83370.618408   51121.105722   67852.348256  \n",
              "Control 29  16678.982063   93894.049009   66862.496275   75685.125872  \n",
              "Control 30  15381.977763   52433.103691   52188.150059   46071.832322  \n",
              "Control 31  14022.460790   70631.008328   70072.393087   69543.622247  \n",
              "Control 32   4103.995281   20359.586331   17598.962585   22292.230470  \n",
              "Control 33  13418.269716   38883.704467   37960.013947   37046.836341  \n",
              "Control 34  56824.702656  239662.908728  194882.004020  381633.958654  \n",
              "Control 35  30606.119338  227045.733387  224891.029478  322172.431642  \n",
              "Control 36  19279.941752   57768.543178   53582.356717   68859.298874  "
            ],
            "text/html": [
              "\n",
              "  <div id=\"df-7972ce05-bec3-4645-ab05-410db729dff1\" class=\"colab-df-container\">\n",
              "    <div>\n",
              "<style scoped>\n",
              "    .dataframe tbody tr th:only-of-type {\n",
              "        vertical-align: middle;\n",
              "    }\n",
              "\n",
              "    .dataframe tbody tr th {\n",
              "        vertical-align: top;\n",
              "    }\n",
              "\n",
              "    .dataframe thead th {\n",
              "        text-align: right;\n",
              "    }\n",
              "</style>\n",
              "<table border=\"1\" class=\"dataframe\">\n",
              "  <thead>\n",
              "    <tr style=\"text-align: right;\">\n",
              "      <th></th>\n",
              "      <th>Canal 1</th>\n",
              "      <th>Canal 2</th>\n",
              "      <th>Canal 3</th>\n",
              "      <th>Canal 4</th>\n",
              "      <th>Canal 5</th>\n",
              "      <th>Canal 6</th>\n",
              "      <th>Canal 7</th>\n",
              "      <th>Canal 8</th>\n",
              "    </tr>\n",
              "  </thead>\n",
              "  <tbody>\n",
              "    <tr>\n",
              "      <th>Control 1</th>\n",
              "      <td>9702.573235</td>\n",
              "      <td>8310.599134</td>\n",
              "      <td>11274.177917</td>\n",
              "      <td>7138.981899</td>\n",
              "      <td>10286.070527</td>\n",
              "      <td>16151.490459</td>\n",
              "      <td>15731.296585</td>\n",
              "      <td>20956.719846</td>\n",
              "    </tr>\n",
              "    <tr>\n",
              "      <th>Control 2</th>\n",
              "      <td>27406.189072</td>\n",
              "      <td>21049.882057</td>\n",
              "      <td>45082.411879</td>\n",
              "      <td>49492.678794</td>\n",
              "      <td>40225.257438</td>\n",
              "      <td>42301.871711</td>\n",
              "      <td>33188.664449</td>\n",
              "      <td>34157.555662</td>\n",
              "    </tr>\n",
              "    <tr>\n",
              "      <th>Control 3</th>\n",
              "      <td>14798.253355</td>\n",
              "      <td>25379.940073</td>\n",
              "      <td>14356.020122</td>\n",
              "      <td>12288.656607</td>\n",
              "      <td>11694.967690</td>\n",
              "      <td>33493.547072</td>\n",
              "      <td>32447.412642</td>\n",
              "      <td>35561.860821</td>\n",
              "    </tr>\n",
              "    <tr>\n",
              "      <th>Control 4</th>\n",
              "      <td>23331.449171</td>\n",
              "      <td>21794.167460</td>\n",
              "      <td>20057.059370</td>\n",
              "      <td>18703.362284</td>\n",
              "      <td>21191.204277</td>\n",
              "      <td>91362.046468</td>\n",
              "      <td>60904.241719</td>\n",
              "      <td>53341.328914</td>\n",
              "    </tr>\n",
              "    <tr>\n",
              "      <th>Control 5</th>\n",
              "      <td>11197.554574</td>\n",
              "      <td>10948.368805</td>\n",
              "      <td>12737.004665</td>\n",
              "      <td>10745.161921</td>\n",
              "      <td>10329.642418</td>\n",
              "      <td>21461.605831</td>\n",
              "      <td>15493.212776</td>\n",
              "      <td>27414.375247</td>\n",
              "    </tr>\n",
              "    <tr>\n",
              "      <th>Control 6</th>\n",
              "      <td>7053.495371</td>\n",
              "      <td>6483.359552</td>\n",
              "      <td>6733.630592</td>\n",
              "      <td>6466.650688</td>\n",
              "      <td>6707.361817</td>\n",
              "      <td>17285.045612</td>\n",
              "      <td>16605.010744</td>\n",
              "      <td>18350.242393</td>\n",
              "    </tr>\n",
              "    <tr>\n",
              "      <th>Control 7</th>\n",
              "      <td>17567.465030</td>\n",
              "      <td>21738.511853</td>\n",
              "      <td>29429.308030</td>\n",
              "      <td>28530.200793</td>\n",
              "      <td>24586.407386</td>\n",
              "      <td>73273.828899</td>\n",
              "      <td>68753.985484</td>\n",
              "      <td>67962.795266</td>\n",
              "    </tr>\n",
              "    <tr>\n",
              "      <th>Control 8</th>\n",
              "      <td>11920.628977</td>\n",
              "      <td>12381.108138</td>\n",
              "      <td>11545.897906</td>\n",
              "      <td>11616.229122</td>\n",
              "      <td>18658.417865</td>\n",
              "      <td>42058.456657</td>\n",
              "      <td>34417.780679</td>\n",
              "      <td>46167.748438</td>\n",
              "    </tr>\n",
              "    <tr>\n",
              "      <th>Control 9</th>\n",
              "      <td>34036.502777</td>\n",
              "      <td>35276.242239</td>\n",
              "      <td>37728.034174</td>\n",
              "      <td>30403.012785</td>\n",
              "      <td>32255.024467</td>\n",
              "      <td>149804.923665</td>\n",
              "      <td>194218.587624</td>\n",
              "      <td>270161.157209</td>\n",
              "    </tr>\n",
              "    <tr>\n",
              "      <th>Control 10</th>\n",
              "      <td>45453.734066</td>\n",
              "      <td>42660.225279</td>\n",
              "      <td>44139.445078</td>\n",
              "      <td>50829.933680</td>\n",
              "      <td>59261.694214</td>\n",
              "      <td>253815.983291</td>\n",
              "      <td>214544.090670</td>\n",
              "      <td>247982.671049</td>\n",
              "    </tr>\n",
              "    <tr>\n",
              "      <th>Control 11</th>\n",
              "      <td>27648.962740</td>\n",
              "      <td>30316.594962</td>\n",
              "      <td>37591.351773</td>\n",
              "      <td>25811.252034</td>\n",
              "      <td>27832.063483</td>\n",
              "      <td>22108.384942</td>\n",
              "      <td>16607.683515</td>\n",
              "      <td>14131.438919</td>\n",
              "    </tr>\n",
              "    <tr>\n",
              "      <th>Control 12</th>\n",
              "      <td>13180.109317</td>\n",
              "      <td>13925.217812</td>\n",
              "      <td>16218.994223</td>\n",
              "      <td>12324.883659</td>\n",
              "      <td>14060.300659</td>\n",
              "      <td>25767.024864</td>\n",
              "      <td>21935.759622</td>\n",
              "      <td>22827.781293</td>\n",
              "    </tr>\n",
              "    <tr>\n",
              "      <th>Control 13</th>\n",
              "      <td>25807.598672</td>\n",
              "      <td>31148.334573</td>\n",
              "      <td>28640.385345</td>\n",
              "      <td>21025.777687</td>\n",
              "      <td>18251.804557</td>\n",
              "      <td>148225.533204</td>\n",
              "      <td>123954.279562</td>\n",
              "      <td>139100.707347</td>\n",
              "    </tr>\n",
              "    <tr>\n",
              "      <th>Control 14</th>\n",
              "      <td>21465.650358</td>\n",
              "      <td>20985.907912</td>\n",
              "      <td>22760.149588</td>\n",
              "      <td>18505.640284</td>\n",
              "      <td>29730.163026</td>\n",
              "      <td>25244.158073</td>\n",
              "      <td>22781.327587</td>\n",
              "      <td>24658.599512</td>\n",
              "    </tr>\n",
              "    <tr>\n",
              "      <th>Control 15</th>\n",
              "      <td>33100.991142</td>\n",
              "      <td>37083.630148</td>\n",
              "      <td>48210.820005</td>\n",
              "      <td>37758.393155</td>\n",
              "      <td>28343.182930</td>\n",
              "      <td>101170.614692</td>\n",
              "      <td>87824.803410</td>\n",
              "      <td>137143.924875</td>\n",
              "    </tr>\n",
              "    <tr>\n",
              "      <th>Control 16</th>\n",
              "      <td>10717.179591</td>\n",
              "      <td>8678.364937</td>\n",
              "      <td>2837.929418</td>\n",
              "      <td>4247.197699</td>\n",
              "      <td>7940.801560</td>\n",
              "      <td>24721.550337</td>\n",
              "      <td>21062.102476</td>\n",
              "      <td>19561.401306</td>\n",
              "    </tr>\n",
              "    <tr>\n",
              "      <th>Control 17</th>\n",
              "      <td>32321.272932</td>\n",
              "      <td>37703.798749</td>\n",
              "      <td>42613.972372</td>\n",
              "      <td>29252.410036</td>\n",
              "      <td>26890.856667</td>\n",
              "      <td>68243.618642</td>\n",
              "      <td>52417.921598</td>\n",
              "      <td>72115.850131</td>\n",
              "    </tr>\n",
              "    <tr>\n",
              "      <th>Control 18</th>\n",
              "      <td>18510.829979</td>\n",
              "      <td>19738.489375</td>\n",
              "      <td>20911.792748</td>\n",
              "      <td>21828.254399</td>\n",
              "      <td>23351.992649</td>\n",
              "      <td>53086.059766</td>\n",
              "      <td>37495.972475</td>\n",
              "      <td>43067.095504</td>\n",
              "    </tr>\n",
              "    <tr>\n",
              "      <th>Control 19</th>\n",
              "      <td>11419.720480</td>\n",
              "      <td>13899.308168</td>\n",
              "      <td>15693.423491</td>\n",
              "      <td>9310.798253</td>\n",
              "      <td>9919.084395</td>\n",
              "      <td>38555.794005</td>\n",
              "      <td>36669.080773</td>\n",
              "      <td>48958.809066</td>\n",
              "    </tr>\n",
              "    <tr>\n",
              "      <th>Control 20</th>\n",
              "      <td>16525.863562</td>\n",
              "      <td>18074.712395</td>\n",
              "      <td>25064.807854</td>\n",
              "      <td>22946.351737</td>\n",
              "      <td>24337.362553</td>\n",
              "      <td>70116.806192</td>\n",
              "      <td>63509.019508</td>\n",
              "      <td>71891.447386</td>\n",
              "    </tr>\n",
              "    <tr>\n",
              "      <th>Control 21</th>\n",
              "      <td>9133.036290</td>\n",
              "      <td>9214.155028</td>\n",
              "      <td>11626.411811</td>\n",
              "      <td>10809.621612</td>\n",
              "      <td>10467.879938</td>\n",
              "      <td>46336.873547</td>\n",
              "      <td>45695.801756</td>\n",
              "      <td>50086.361637</td>\n",
              "    </tr>\n",
              "    <tr>\n",
              "      <th>Control 22</th>\n",
              "      <td>35311.301696</td>\n",
              "      <td>34916.686010</td>\n",
              "      <td>38800.429029</td>\n",
              "      <td>35427.031127</td>\n",
              "      <td>35905.472869</td>\n",
              "      <td>106598.128152</td>\n",
              "      <td>106885.575966</td>\n",
              "      <td>112520.750636</td>\n",
              "    </tr>\n",
              "    <tr>\n",
              "      <th>Control 23</th>\n",
              "      <td>21064.909655</td>\n",
              "      <td>17704.075393</td>\n",
              "      <td>18305.622532</td>\n",
              "      <td>22438.444791</td>\n",
              "      <td>22415.119998</td>\n",
              "      <td>43344.591885</td>\n",
              "      <td>36731.812513</td>\n",
              "      <td>45890.820535</td>\n",
              "    </tr>\n",
              "    <tr>\n",
              "      <th>Control 24</th>\n",
              "      <td>14148.673322</td>\n",
              "      <td>18283.999666</td>\n",
              "      <td>28749.932148</td>\n",
              "      <td>14270.726911</td>\n",
              "      <td>28787.445978</td>\n",
              "      <td>14661.417740</td>\n",
              "      <td>15940.154095</td>\n",
              "      <td>19499.898656</td>\n",
              "    </tr>\n",
              "    <tr>\n",
              "      <th>Control 25</th>\n",
              "      <td>31250.507507</td>\n",
              "      <td>24222.776323</td>\n",
              "      <td>28298.111428</td>\n",
              "      <td>25378.777621</td>\n",
              "      <td>33079.452791</td>\n",
              "      <td>240835.102634</td>\n",
              "      <td>156030.040579</td>\n",
              "      <td>278095.358270</td>\n",
              "    </tr>\n",
              "    <tr>\n",
              "      <th>Control 26</th>\n",
              "      <td>11840.210442</td>\n",
              "      <td>26452.547613</td>\n",
              "      <td>15211.335701</td>\n",
              "      <td>12976.758727</td>\n",
              "      <td>14377.091900</td>\n",
              "      <td>7215.202754</td>\n",
              "      <td>15864.901097</td>\n",
              "      <td>19472.869878</td>\n",
              "    </tr>\n",
              "    <tr>\n",
              "      <th>Control 27</th>\n",
              "      <td>44475.710242</td>\n",
              "      <td>68589.716078</td>\n",
              "      <td>77481.958140</td>\n",
              "      <td>79786.695885</td>\n",
              "      <td>70386.435807</td>\n",
              "      <td>345373.334477</td>\n",
              "      <td>215673.993168</td>\n",
              "      <td>298878.557209</td>\n",
              "    </tr>\n",
              "    <tr>\n",
              "      <th>Control 28</th>\n",
              "      <td>28551.124065</td>\n",
              "      <td>26204.839254</td>\n",
              "      <td>17383.998956</td>\n",
              "      <td>17244.605933</td>\n",
              "      <td>26206.372422</td>\n",
              "      <td>83370.618408</td>\n",
              "      <td>51121.105722</td>\n",
              "      <td>67852.348256</td>\n",
              "    </tr>\n",
              "    <tr>\n",
              "      <th>Control 29</th>\n",
              "      <td>15966.402868</td>\n",
              "      <td>17617.810248</td>\n",
              "      <td>20804.937129</td>\n",
              "      <td>19654.400017</td>\n",
              "      <td>16678.982063</td>\n",
              "      <td>93894.049009</td>\n",
              "      <td>66862.496275</td>\n",
              "      <td>75685.125872</td>\n",
              "    </tr>\n",
              "    <tr>\n",
              "      <th>Control 30</th>\n",
              "      <td>15536.232499</td>\n",
              "      <td>27171.554335</td>\n",
              "      <td>31295.123356</td>\n",
              "      <td>22037.159698</td>\n",
              "      <td>15381.977763</td>\n",
              "      <td>52433.103691</td>\n",
              "      <td>52188.150059</td>\n",
              "      <td>46071.832322</td>\n",
              "    </tr>\n",
              "    <tr>\n",
              "      <th>Control 31</th>\n",
              "      <td>16272.826799</td>\n",
              "      <td>13075.926126</td>\n",
              "      <td>13775.441563</td>\n",
              "      <td>12795.198591</td>\n",
              "      <td>14022.460790</td>\n",
              "      <td>70631.008328</td>\n",
              "      <td>70072.393087</td>\n",
              "      <td>69543.622247</td>\n",
              "    </tr>\n",
              "    <tr>\n",
              "      <th>Control 32</th>\n",
              "      <td>4915.062778</td>\n",
              "      <td>6105.849947</td>\n",
              "      <td>5167.552339</td>\n",
              "      <td>4137.717862</td>\n",
              "      <td>4103.995281</td>\n",
              "      <td>20359.586331</td>\n",
              "      <td>17598.962585</td>\n",
              "      <td>22292.230470</td>\n",
              "    </tr>\n",
              "    <tr>\n",
              "      <th>Control 33</th>\n",
              "      <td>13352.558858</td>\n",
              "      <td>12079.042337</td>\n",
              "      <td>12056.752677</td>\n",
              "      <td>13537.102069</td>\n",
              "      <td>13418.269716</td>\n",
              "      <td>38883.704467</td>\n",
              "      <td>37960.013947</td>\n",
              "      <td>37046.836341</td>\n",
              "    </tr>\n",
              "    <tr>\n",
              "      <th>Control 34</th>\n",
              "      <td>54139.262123</td>\n",
              "      <td>49105.618777</td>\n",
              "      <td>53194.129654</td>\n",
              "      <td>57224.244039</td>\n",
              "      <td>56824.702656</td>\n",
              "      <td>239662.908728</td>\n",
              "      <td>194882.004020</td>\n",
              "      <td>381633.958654</td>\n",
              "    </tr>\n",
              "    <tr>\n",
              "      <th>Control 35</th>\n",
              "      <td>47166.556798</td>\n",
              "      <td>55107.798641</td>\n",
              "      <td>52286.884667</td>\n",
              "      <td>34682.656928</td>\n",
              "      <td>30606.119338</td>\n",
              "      <td>227045.733387</td>\n",
              "      <td>224891.029478</td>\n",
              "      <td>322172.431642</td>\n",
              "    </tr>\n",
              "    <tr>\n",
              "      <th>Control 36</th>\n",
              "      <td>16237.836551</td>\n",
              "      <td>12899.899544</td>\n",
              "      <td>12386.284718</td>\n",
              "      <td>12167.858008</td>\n",
              "      <td>19279.941752</td>\n",
              "      <td>57768.543178</td>\n",
              "      <td>53582.356717</td>\n",
              "      <td>68859.298874</td>\n",
              "    </tr>\n",
              "  </tbody>\n",
              "</table>\n",
              "</div>\n",
              "    <div class=\"colab-df-buttons\">\n",
              "\n",
              "  <div class=\"colab-df-container\">\n",
              "    <button class=\"colab-df-convert\" onclick=\"convertToInteractive('df-7972ce05-bec3-4645-ab05-410db729dff1')\"\n",
              "            title=\"Convert this dataframe to an interactive table.\"\n",
              "            style=\"display:none;\">\n",
              "\n",
              "  <svg xmlns=\"http://www.w3.org/2000/svg\" height=\"24px\" viewBox=\"0 -960 960 960\">\n",
              "    <path d=\"M120-120v-720h720v720H120Zm60-500h600v-160H180v160Zm220 220h160v-160H400v160Zm0 220h160v-160H400v160ZM180-400h160v-160H180v160Zm440 0h160v-160H620v160ZM180-180h160v-160H180v160Zm440 0h160v-160H620v160Z\"/>\n",
              "  </svg>\n",
              "    </button>\n",
              "\n",
              "  <style>\n",
              "    .colab-df-container {\n",
              "      display:flex;\n",
              "      gap: 12px;\n",
              "    }\n",
              "\n",
              "    .colab-df-convert {\n",
              "      background-color: #E8F0FE;\n",
              "      border: none;\n",
              "      border-radius: 50%;\n",
              "      cursor: pointer;\n",
              "      display: none;\n",
              "      fill: #1967D2;\n",
              "      height: 32px;\n",
              "      padding: 0 0 0 0;\n",
              "      width: 32px;\n",
              "    }\n",
              "\n",
              "    .colab-df-convert:hover {\n",
              "      background-color: #E2EBFA;\n",
              "      box-shadow: 0px 1px 2px rgba(60, 64, 67, 0.3), 0px 1px 3px 1px rgba(60, 64, 67, 0.15);\n",
              "      fill: #174EA6;\n",
              "    }\n",
              "\n",
              "    .colab-df-buttons div {\n",
              "      margin-bottom: 4px;\n",
              "    }\n",
              "\n",
              "    [theme=dark] .colab-df-convert {\n",
              "      background-color: #3B4455;\n",
              "      fill: #D2E3FC;\n",
              "    }\n",
              "\n",
              "    [theme=dark] .colab-df-convert:hover {\n",
              "      background-color: #434B5C;\n",
              "      box-shadow: 0px 1px 3px 1px rgba(0, 0, 0, 0.15);\n",
              "      filter: drop-shadow(0px 1px 2px rgba(0, 0, 0, 0.3));\n",
              "      fill: #FFFFFF;\n",
              "    }\n",
              "  </style>\n",
              "\n",
              "    <script>\n",
              "      const buttonEl =\n",
              "        document.querySelector('#df-7972ce05-bec3-4645-ab05-410db729dff1 button.colab-df-convert');\n",
              "      buttonEl.style.display =\n",
              "        google.colab.kernel.accessAllowed ? 'block' : 'none';\n",
              "\n",
              "      async function convertToInteractive(key) {\n",
              "        const element = document.querySelector('#df-7972ce05-bec3-4645-ab05-410db729dff1');\n",
              "        const dataTable =\n",
              "          await google.colab.kernel.invokeFunction('convertToInteractive',\n",
              "                                                    [key], {});\n",
              "        if (!dataTable) return;\n",
              "\n",
              "        const docLinkHtml = 'Like what you see? Visit the ' +\n",
              "          '<a target=\"_blank\" href=https://colab.research.google.com/notebooks/data_table.ipynb>data table notebook</a>'\n",
              "          + ' to learn more about interactive tables.';\n",
              "        element.innerHTML = '';\n",
              "        dataTable['output_type'] = 'display_data';\n",
              "        await google.colab.output.renderOutput(dataTable, element);\n",
              "        const docLink = document.createElement('div');\n",
              "        docLink.innerHTML = docLinkHtml;\n",
              "        element.appendChild(docLink);\n",
              "      }\n",
              "    </script>\n",
              "  </div>\n",
              "\n",
              "\n",
              "<div id=\"df-b18c4fb6-ebb6-4431-9dbf-a34f0429bc73\">\n",
              "  <button class=\"colab-df-quickchart\" onclick=\"quickchart('df-b18c4fb6-ebb6-4431-9dbf-a34f0429bc73')\"\n",
              "            title=\"Suggest charts\"\n",
              "            style=\"display:none;\">\n",
              "\n",
              "<svg xmlns=\"http://www.w3.org/2000/svg\" height=\"24px\"viewBox=\"0 0 24 24\"\n",
              "     width=\"24px\">\n",
              "    <g>\n",
              "        <path d=\"M19 3H5c-1.1 0-2 .9-2 2v14c0 1.1.9 2 2 2h14c1.1 0 2-.9 2-2V5c0-1.1-.9-2-2-2zM9 17H7v-7h2v7zm4 0h-2V7h2v10zm4 0h-2v-4h2v4z\"/>\n",
              "    </g>\n",
              "</svg>\n",
              "  </button>\n",
              "\n",
              "<style>\n",
              "  .colab-df-quickchart {\n",
              "      --bg-color: #E8F0FE;\n",
              "      --fill-color: #1967D2;\n",
              "      --hover-bg-color: #E2EBFA;\n",
              "      --hover-fill-color: #174EA6;\n",
              "      --disabled-fill-color: #AAA;\n",
              "      --disabled-bg-color: #DDD;\n",
              "  }\n",
              "\n",
              "  [theme=dark] .colab-df-quickchart {\n",
              "      --bg-color: #3B4455;\n",
              "      --fill-color: #D2E3FC;\n",
              "      --hover-bg-color: #434B5C;\n",
              "      --hover-fill-color: #FFFFFF;\n",
              "      --disabled-bg-color: #3B4455;\n",
              "      --disabled-fill-color: #666;\n",
              "  }\n",
              "\n",
              "  .colab-df-quickchart {\n",
              "    background-color: var(--bg-color);\n",
              "    border: none;\n",
              "    border-radius: 50%;\n",
              "    cursor: pointer;\n",
              "    display: none;\n",
              "    fill: var(--fill-color);\n",
              "    height: 32px;\n",
              "    padding: 0;\n",
              "    width: 32px;\n",
              "  }\n",
              "\n",
              "  .colab-df-quickchart:hover {\n",
              "    background-color: var(--hover-bg-color);\n",
              "    box-shadow: 0 1px 2px rgba(60, 64, 67, 0.3), 0 1px 3px 1px rgba(60, 64, 67, 0.15);\n",
              "    fill: var(--button-hover-fill-color);\n",
              "  }\n",
              "\n",
              "  .colab-df-quickchart-complete:disabled,\n",
              "  .colab-df-quickchart-complete:disabled:hover {\n",
              "    background-color: var(--disabled-bg-color);\n",
              "    fill: var(--disabled-fill-color);\n",
              "    box-shadow: none;\n",
              "  }\n",
              "\n",
              "  .colab-df-spinner {\n",
              "    border: 2px solid var(--fill-color);\n",
              "    border-color: transparent;\n",
              "    border-bottom-color: var(--fill-color);\n",
              "    animation:\n",
              "      spin 1s steps(1) infinite;\n",
              "  }\n",
              "\n",
              "  @keyframes spin {\n",
              "    0% {\n",
              "      border-color: transparent;\n",
              "      border-bottom-color: var(--fill-color);\n",
              "      border-left-color: var(--fill-color);\n",
              "    }\n",
              "    20% {\n",
              "      border-color: transparent;\n",
              "      border-left-color: var(--fill-color);\n",
              "      border-top-color: var(--fill-color);\n",
              "    }\n",
              "    30% {\n",
              "      border-color: transparent;\n",
              "      border-left-color: var(--fill-color);\n",
              "      border-top-color: var(--fill-color);\n",
              "      border-right-color: var(--fill-color);\n",
              "    }\n",
              "    40% {\n",
              "      border-color: transparent;\n",
              "      border-right-color: var(--fill-color);\n",
              "      border-top-color: var(--fill-color);\n",
              "    }\n",
              "    60% {\n",
              "      border-color: transparent;\n",
              "      border-right-color: var(--fill-color);\n",
              "    }\n",
              "    80% {\n",
              "      border-color: transparent;\n",
              "      border-right-color: var(--fill-color);\n",
              "      border-bottom-color: var(--fill-color);\n",
              "    }\n",
              "    90% {\n",
              "      border-color: transparent;\n",
              "      border-bottom-color: var(--fill-color);\n",
              "    }\n",
              "  }\n",
              "</style>\n",
              "\n",
              "  <script>\n",
              "    async function quickchart(key) {\n",
              "      const quickchartButtonEl =\n",
              "        document.querySelector('#' + key + ' button');\n",
              "      quickchartButtonEl.disabled = true;  // To prevent multiple clicks.\n",
              "      quickchartButtonEl.classList.add('colab-df-spinner');\n",
              "      try {\n",
              "        const charts = await google.colab.kernel.invokeFunction(\n",
              "            'suggestCharts', [key], {});\n",
              "      } catch (error) {\n",
              "        console.error('Error during call to suggestCharts:', error);\n",
              "      }\n",
              "      quickchartButtonEl.classList.remove('colab-df-spinner');\n",
              "      quickchartButtonEl.classList.add('colab-df-quickchart-complete');\n",
              "    }\n",
              "    (() => {\n",
              "      let quickchartButtonEl =\n",
              "        document.querySelector('#df-b18c4fb6-ebb6-4431-9dbf-a34f0429bc73 button');\n",
              "      quickchartButtonEl.style.display =\n",
              "        google.colab.kernel.accessAllowed ? 'block' : 'none';\n",
              "    })();\n",
              "  </script>\n",
              "</div>\n",
              "\n",
              "  <div id=\"id_7b5d3851-698c-4b59-81f5-544d19631b62\">\n",
              "    <style>\n",
              "      .colab-df-generate {\n",
              "        background-color: #E8F0FE;\n",
              "        border: none;\n",
              "        border-radius: 50%;\n",
              "        cursor: pointer;\n",
              "        display: none;\n",
              "        fill: #1967D2;\n",
              "        height: 32px;\n",
              "        padding: 0 0 0 0;\n",
              "        width: 32px;\n",
              "      }\n",
              "\n",
              "      .colab-df-generate:hover {\n",
              "        background-color: #E2EBFA;\n",
              "        box-shadow: 0px 1px 2px rgba(60, 64, 67, 0.3), 0px 1px 3px 1px rgba(60, 64, 67, 0.15);\n",
              "        fill: #174EA6;\n",
              "      }\n",
              "\n",
              "      [theme=dark] .colab-df-generate {\n",
              "        background-color: #3B4455;\n",
              "        fill: #D2E3FC;\n",
              "      }\n",
              "\n",
              "      [theme=dark] .colab-df-generate:hover {\n",
              "        background-color: #434B5C;\n",
              "        box-shadow: 0px 1px 3px 1px rgba(0, 0, 0, 0.15);\n",
              "        filter: drop-shadow(0px 1px 2px rgba(0, 0, 0, 0.3));\n",
              "        fill: #FFFFFF;\n",
              "      }\n",
              "    </style>\n",
              "    <button class=\"colab-df-generate\" onclick=\"generateWithVariable('df_control')\"\n",
              "            title=\"Generate code using this dataframe.\"\n",
              "            style=\"display:none;\">\n",
              "\n",
              "  <svg xmlns=\"http://www.w3.org/2000/svg\" height=\"24px\"viewBox=\"0 0 24 24\"\n",
              "       width=\"24px\">\n",
              "    <path d=\"M7,19H8.4L18.45,9,17,7.55,7,17.6ZM5,21V16.75L18.45,3.32a2,2,0,0,1,2.83,0l1.4,1.43a1.91,1.91,0,0,1,.58,1.4,1.91,1.91,0,0,1-.58,1.4L9.25,21ZM18.45,9,17,7.55Zm-12,3A5.31,5.31,0,0,0,4.9,8.1,5.31,5.31,0,0,0,1,6.5,5.31,5.31,0,0,0,4.9,4.9,5.31,5.31,0,0,0,6.5,1,5.31,5.31,0,0,0,8.1,4.9,5.31,5.31,0,0,0,12,6.5,5.46,5.46,0,0,0,6.5,12Z\"/>\n",
              "  </svg>\n",
              "    </button>\n",
              "    <script>\n",
              "      (() => {\n",
              "      const buttonEl =\n",
              "        document.querySelector('#id_7b5d3851-698c-4b59-81f5-544d19631b62 button.colab-df-generate');\n",
              "      buttonEl.style.display =\n",
              "        google.colab.kernel.accessAllowed ? 'block' : 'none';\n",
              "\n",
              "      buttonEl.onclick = () => {\n",
              "        google.colab.notebook.generateWithVariable('df_control');\n",
              "      }\n",
              "      })();\n",
              "    </script>\n",
              "  </div>\n",
              "\n",
              "    </div>\n",
              "  </div>\n"
            ],
            "application/vnd.google.colaboratory.intrinsic+json": {
              "type": "dataframe",
              "variable_name": "df_control",
              "summary": "{\n  \"name\": \"df_control\",\n  \"rows\": 36,\n  \"fields\": [\n    {\n      \"column\": \"Canal 1\",\n      \"properties\": {\n        \"dtype\": \"number\",\n        \"std\": 12358.091293321555,\n        \"min\": 4915.062778351126,\n        \"max\": 54139.26212259047,\n        \"num_unique_values\": 36,\n        \"samples\": [\n          16237.836550995104,\n          21465.65035816233,\n          44475.710241763874\n        ],\n        \"semantic_type\": \"\",\n        \"description\": \"\"\n      }\n    },\n    {\n      \"column\": \"Canal 2\",\n      \"properties\": {\n        \"dtype\": \"number\",\n        \"std\": 14208.81101635615,\n        \"min\": 6105.849947408113,\n        \"max\": 68589.71607848626,\n        \"num_unique_values\": 36,\n        \"samples\": [\n          12899.899544432365,\n          20985.90791202081,\n          68589.71607848626\n        ],\n        \"semantic_type\": \"\",\n        \"description\": \"\"\n      }\n    },\n    {\n      \"column\": \"Canal 3\",\n      \"properties\": {\n        \"dtype\": \"number\",\n        \"std\": 16391.600691857508,\n        \"min\": 2837.929418133781,\n        \"max\": 77481.95814033794,\n        \"num_unique_values\": 36,\n        \"samples\": [\n          12386.284717572684,\n          22760.149588248743,\n          77481.95814033794\n        ],\n        \"semantic_type\": \"\",\n        \"description\": \"\"\n      }\n    },\n    {\n      \"column\": \"Canal 4\",\n      \"properties\": {\n        \"dtype\": \"number\",\n        \"std\": 16188.78738718242,\n        \"min\": 4137.717862399929,\n        \"max\": 79786.69588473039,\n        \"num_unique_values\": 36,\n        \"samples\": [\n          12167.85800754977,\n          18505.640283632765,\n          79786.69588473039\n        ],\n        \"semantic_type\": \"\",\n        \"description\": \"\"\n      }\n    },\n    {\n      \"column\": \"Canal 5\",\n      \"properties\": {\n        \"dtype\": \"number\",\n        \"std\": 14793.52231160892,\n        \"min\": 4103.995280606043,\n        \"max\": 70386.43580708327,\n        \"num_unique_values\": 36,\n        \"samples\": [\n          19279.941751525308,\n          29730.163025810183,\n          70386.43580708327\n        ],\n        \"semantic_type\": \"\",\n        \"description\": \"\"\n      }\n    },\n    {\n      \"column\": \"Canal 6\",\n      \"properties\": {\n        \"dtype\": \"number\",\n        \"std\": 81827.59295818125,\n        \"min\": 7215.202754096978,\n        \"max\": 345373.3344769605,\n        \"num_unique_values\": 36,\n        \"samples\": [\n          57768.54317813448,\n          25244.158072557715,\n          345373.3344769605\n        ],\n        \"semantic_type\": \"\",\n        \"description\": \"\"\n      }\n    },\n    {\n      \"column\": \"Canal 7\",\n      \"properties\": {\n        \"dtype\": \"number\",\n        \"std\": 64714.75638585835,\n        \"min\": 15493.212776134143,\n        \"max\": 224891.02947752178,\n        \"num_unique_values\": 36,\n        \"samples\": [\n          53582.35671669427,\n          22781.327587308955,\n          215673.99316827834\n        ],\n        \"semantic_type\": \"\",\n        \"description\": \"\"\n      }\n    },\n    {\n      \"column\": \"Canal 8\",\n      \"properties\": {\n        \"dtype\": \"number\",\n        \"std\": 100333.35716894624,\n        \"min\": 14131.438919274535,\n        \"max\": 381633.95865420956,\n        \"num_unique_values\": 36,\n        \"samples\": [\n          68859.29887360834,\n          24658.599511664153,\n          298878.557209339\n        ],\n        \"semantic_type\": \"\",\n        \"description\": \"\"\n      }\n    }\n  ]\n}"
            }
          },
          "metadata": {},
          "execution_count": 41
        }
      ],
      "source": [
        "df_control"
      ]
    },
    {
      "cell_type": "code",
      "execution_count": null,
      "id": "68016171-2ff0-4a17-83ae-350a7f0ce056",
      "metadata": {
        "colab": {
          "base_uri": "https://localhost:8080/"
        },
        "id": "68016171-2ff0-4a17-83ae-350a7f0ce056",
        "outputId": "280c2a9b-f8d9-4f3a-8ce8-2ede6915a516"
      },
      "outputs": [
        {
          "output_type": "stream",
          "name": "stdout",
          "text": [
            "Número de archivos en control: 23\n"
          ]
        }
      ],
      "source": [
        "Energia_parkinson={}\n",
        "archivos_parkinson= os.listdir(directorio_actual + \"/parkinson\")\n",
        "print(\"Número de archivos en control:\", len(archivos_parkinson))\n",
        "# Cargar y procesar los archivos de los sujetos control\n",
        "for i in range(len(archivos_parkinson)):\n",
        "    ruta_archivo = os.path.join(directorio_actual + \"/parkinson\", archivos_parkinson[i])\n",
        "    data = sio.loadmat(ruta_archivo)\n",
        "    data = data[\"data\"]\n",
        "    energia_promedio = energiapromedio(data)\n",
        "    Energia_parkinson[f'Paciente {i+1}'] = energia_promedio"
      ]
    },
    {
      "cell_type": "code",
      "execution_count": null,
      "id": "021282be-d2cb-48c9-9e97-9e4ad0aaac4b",
      "metadata": {
        "id": "021282be-d2cb-48c9-9e97-9e4ad0aaac4b"
      },
      "outputs": [],
      "source": [
        "df_parkinson = pd.DataFrame.from_dict(Energia_parkinson, orient='index', columns=columnas)"
      ]
    },
    {
      "cell_type": "code",
      "execution_count": null,
      "id": "5b1eb166-4a16-4a8d-a181-475dfadeb568",
      "metadata": {
        "colab": {
          "base_uri": "https://localhost:8080/",
          "height": 1000
        },
        "id": "5b1eb166-4a16-4a8d-a181-475dfadeb568",
        "outputId": "efd1c4c0-c8d5-49cd-b37c-5f2a25274b65"
      },
      "outputs": [
        {
          "output_type": "execute_result",
          "data": {
            "text/plain": [
              "                  Canal 1       Canal 2       Canal 3       Canal 4  \\\n",
              "Paciente 1   12157.229828  13398.658526  17668.877657  14841.104693   \n",
              "Paciente 2   33900.139101  32395.467750  29194.827407  23439.114082   \n",
              "Paciente 3   16776.577493  20468.685954  25320.621029  24036.472073   \n",
              "Paciente 4   14532.459483  17860.192841  30120.983497  29569.273094   \n",
              "Paciente 5   32188.312555  31159.578900  32352.266891  28810.929111   \n",
              "Paciente 6    9581.810471  14008.572615   9589.230257   9374.085669   \n",
              "Paciente 7   10930.227074  14670.548632  21623.897909  15449.251169   \n",
              "Paciente 8   48574.518921  51806.529769  73171.952374  59707.699631   \n",
              "Paciente 9   16202.416566  13124.247855  13988.674335  12752.027365   \n",
              "Paciente 10  23742.325612  22070.007569  24540.315612  21803.936448   \n",
              "Paciente 11  31133.326257  21899.992984  17153.107641  20533.434338   \n",
              "Paciente 12  23658.738825  23990.255991  30633.745996  22888.894132   \n",
              "Paciente 13  22034.834171  21250.934562  27369.549841  13197.556268   \n",
              "Paciente 14  29402.195610  31214.592172  30663.970154  24697.341514   \n",
              "Paciente 15  23446.051598  26091.341850  36640.531850  25660.222773   \n",
              "Paciente 16  17995.660058  12001.601821  12286.344400  14785.908284   \n",
              "Paciente 17  10692.948223  10841.187262  12154.390086  24161.685202   \n",
              "Paciente 18  16001.606312  13678.099220  16024.473570  14482.116106   \n",
              "Paciente 19  12438.243570  11261.175800  10819.634775   9489.784462   \n",
              "Paciente 20  17699.028112  26643.280393  32468.842059  25561.956895   \n",
              "Paciente 21  48923.874237  64324.769523  85175.914992  78087.225852   \n",
              "Paciente 22  49937.833324  46030.495239  46746.506684  43109.302338   \n",
              "Paciente 23  38092.102574  43575.379457  41979.994799  41715.287990   \n",
              "\n",
              "                  Canal 5        Canal 6        Canal 7        Canal 8  \n",
              "Paciente 1   11297.742247   38701.647608   41828.973929   61328.610990  \n",
              "Paciente 2   25040.406700  122738.018441  103327.500981  100845.843964  \n",
              "Paciente 3   20723.732743   76391.356727   60599.129053   81585.412935  \n",
              "Paciente 4   30054.971601   22088.181162   18262.518633   18454.068489  \n",
              "Paciente 5   25368.624860   59526.213049   66204.132354   69036.969842  \n",
              "Paciente 6    8154.941858   28970.848994   40705.897395   36624.858559  \n",
              "Paciente 7   13471.035295   28974.383402   31469.428045   32535.921202  \n",
              "Paciente 8   56552.175747  287105.761622  222745.793414  353312.298104  \n",
              "Paciente 9   15784.724049   50730.233172   50742.237835   73694.061647  \n",
              "Paciente 10  22594.339745  128314.264805  128888.485633  152799.284248  \n",
              "Paciente 11  31864.375631   79797.786103   74152.811380   66497.823839  \n",
              "Paciente 12  19932.315538   65161.432397   60552.834862   58441.048743  \n",
              "Paciente 13  18373.335858   85398.723929   59948.779883   72367.809030  \n",
              "Paciente 14  25296.654765   67961.116232   74866.179511  103522.441839  \n",
              "Paciente 15  31330.549186   93696.128392   67690.908167  111124.343428  \n",
              "Paciente 16  17058.433161   63983.449318   53715.460772   66403.639479  \n",
              "Paciente 17  14789.173543   43302.825848   42560.941845   39043.973220  \n",
              "Paciente 18  14723.843472   31443.053250   28191.962386   33117.421322  \n",
              "Paciente 19  12091.060945   22798.213463   23700.620349   25606.065340  \n",
              "Paciente 20  23415.623101   57294.133077   54829.651258   59700.873328  \n",
              "Paciente 21  65792.625436  458631.543464  400266.637762  554127.580214  \n",
              "Paciente 22  42923.267828  424838.119622  283345.547804  408902.026150  \n",
              "Paciente 23  46513.737045  251649.394709  179345.438488  262361.180410  "
            ],
            "text/html": [
              "\n",
              "  <div id=\"df-60b173fb-c058-4e06-b74b-1c434c07a652\" class=\"colab-df-container\">\n",
              "    <div>\n",
              "<style scoped>\n",
              "    .dataframe tbody tr th:only-of-type {\n",
              "        vertical-align: middle;\n",
              "    }\n",
              "\n",
              "    .dataframe tbody tr th {\n",
              "        vertical-align: top;\n",
              "    }\n",
              "\n",
              "    .dataframe thead th {\n",
              "        text-align: right;\n",
              "    }\n",
              "</style>\n",
              "<table border=\"1\" class=\"dataframe\">\n",
              "  <thead>\n",
              "    <tr style=\"text-align: right;\">\n",
              "      <th></th>\n",
              "      <th>Canal 1</th>\n",
              "      <th>Canal 2</th>\n",
              "      <th>Canal 3</th>\n",
              "      <th>Canal 4</th>\n",
              "      <th>Canal 5</th>\n",
              "      <th>Canal 6</th>\n",
              "      <th>Canal 7</th>\n",
              "      <th>Canal 8</th>\n",
              "    </tr>\n",
              "  </thead>\n",
              "  <tbody>\n",
              "    <tr>\n",
              "      <th>Paciente 1</th>\n",
              "      <td>12157.229828</td>\n",
              "      <td>13398.658526</td>\n",
              "      <td>17668.877657</td>\n",
              "      <td>14841.104693</td>\n",
              "      <td>11297.742247</td>\n",
              "      <td>38701.647608</td>\n",
              "      <td>41828.973929</td>\n",
              "      <td>61328.610990</td>\n",
              "    </tr>\n",
              "    <tr>\n",
              "      <th>Paciente 2</th>\n",
              "      <td>33900.139101</td>\n",
              "      <td>32395.467750</td>\n",
              "      <td>29194.827407</td>\n",
              "      <td>23439.114082</td>\n",
              "      <td>25040.406700</td>\n",
              "      <td>122738.018441</td>\n",
              "      <td>103327.500981</td>\n",
              "      <td>100845.843964</td>\n",
              "    </tr>\n",
              "    <tr>\n",
              "      <th>Paciente 3</th>\n",
              "      <td>16776.577493</td>\n",
              "      <td>20468.685954</td>\n",
              "      <td>25320.621029</td>\n",
              "      <td>24036.472073</td>\n",
              "      <td>20723.732743</td>\n",
              "      <td>76391.356727</td>\n",
              "      <td>60599.129053</td>\n",
              "      <td>81585.412935</td>\n",
              "    </tr>\n",
              "    <tr>\n",
              "      <th>Paciente 4</th>\n",
              "      <td>14532.459483</td>\n",
              "      <td>17860.192841</td>\n",
              "      <td>30120.983497</td>\n",
              "      <td>29569.273094</td>\n",
              "      <td>30054.971601</td>\n",
              "      <td>22088.181162</td>\n",
              "      <td>18262.518633</td>\n",
              "      <td>18454.068489</td>\n",
              "    </tr>\n",
              "    <tr>\n",
              "      <th>Paciente 5</th>\n",
              "      <td>32188.312555</td>\n",
              "      <td>31159.578900</td>\n",
              "      <td>32352.266891</td>\n",
              "      <td>28810.929111</td>\n",
              "      <td>25368.624860</td>\n",
              "      <td>59526.213049</td>\n",
              "      <td>66204.132354</td>\n",
              "      <td>69036.969842</td>\n",
              "    </tr>\n",
              "    <tr>\n",
              "      <th>Paciente 6</th>\n",
              "      <td>9581.810471</td>\n",
              "      <td>14008.572615</td>\n",
              "      <td>9589.230257</td>\n",
              "      <td>9374.085669</td>\n",
              "      <td>8154.941858</td>\n",
              "      <td>28970.848994</td>\n",
              "      <td>40705.897395</td>\n",
              "      <td>36624.858559</td>\n",
              "    </tr>\n",
              "    <tr>\n",
              "      <th>Paciente 7</th>\n",
              "      <td>10930.227074</td>\n",
              "      <td>14670.548632</td>\n",
              "      <td>21623.897909</td>\n",
              "      <td>15449.251169</td>\n",
              "      <td>13471.035295</td>\n",
              "      <td>28974.383402</td>\n",
              "      <td>31469.428045</td>\n",
              "      <td>32535.921202</td>\n",
              "    </tr>\n",
              "    <tr>\n",
              "      <th>Paciente 8</th>\n",
              "      <td>48574.518921</td>\n",
              "      <td>51806.529769</td>\n",
              "      <td>73171.952374</td>\n",
              "      <td>59707.699631</td>\n",
              "      <td>56552.175747</td>\n",
              "      <td>287105.761622</td>\n",
              "      <td>222745.793414</td>\n",
              "      <td>353312.298104</td>\n",
              "    </tr>\n",
              "    <tr>\n",
              "      <th>Paciente 9</th>\n",
              "      <td>16202.416566</td>\n",
              "      <td>13124.247855</td>\n",
              "      <td>13988.674335</td>\n",
              "      <td>12752.027365</td>\n",
              "      <td>15784.724049</td>\n",
              "      <td>50730.233172</td>\n",
              "      <td>50742.237835</td>\n",
              "      <td>73694.061647</td>\n",
              "    </tr>\n",
              "    <tr>\n",
              "      <th>Paciente 10</th>\n",
              "      <td>23742.325612</td>\n",
              "      <td>22070.007569</td>\n",
              "      <td>24540.315612</td>\n",
              "      <td>21803.936448</td>\n",
              "      <td>22594.339745</td>\n",
              "      <td>128314.264805</td>\n",
              "      <td>128888.485633</td>\n",
              "      <td>152799.284248</td>\n",
              "    </tr>\n",
              "    <tr>\n",
              "      <th>Paciente 11</th>\n",
              "      <td>31133.326257</td>\n",
              "      <td>21899.992984</td>\n",
              "      <td>17153.107641</td>\n",
              "      <td>20533.434338</td>\n",
              "      <td>31864.375631</td>\n",
              "      <td>79797.786103</td>\n",
              "      <td>74152.811380</td>\n",
              "      <td>66497.823839</td>\n",
              "    </tr>\n",
              "    <tr>\n",
              "      <th>Paciente 12</th>\n",
              "      <td>23658.738825</td>\n",
              "      <td>23990.255991</td>\n",
              "      <td>30633.745996</td>\n",
              "      <td>22888.894132</td>\n",
              "      <td>19932.315538</td>\n",
              "      <td>65161.432397</td>\n",
              "      <td>60552.834862</td>\n",
              "      <td>58441.048743</td>\n",
              "    </tr>\n",
              "    <tr>\n",
              "      <th>Paciente 13</th>\n",
              "      <td>22034.834171</td>\n",
              "      <td>21250.934562</td>\n",
              "      <td>27369.549841</td>\n",
              "      <td>13197.556268</td>\n",
              "      <td>18373.335858</td>\n",
              "      <td>85398.723929</td>\n",
              "      <td>59948.779883</td>\n",
              "      <td>72367.809030</td>\n",
              "    </tr>\n",
              "    <tr>\n",
              "      <th>Paciente 14</th>\n",
              "      <td>29402.195610</td>\n",
              "      <td>31214.592172</td>\n",
              "      <td>30663.970154</td>\n",
              "      <td>24697.341514</td>\n",
              "      <td>25296.654765</td>\n",
              "      <td>67961.116232</td>\n",
              "      <td>74866.179511</td>\n",
              "      <td>103522.441839</td>\n",
              "    </tr>\n",
              "    <tr>\n",
              "      <th>Paciente 15</th>\n",
              "      <td>23446.051598</td>\n",
              "      <td>26091.341850</td>\n",
              "      <td>36640.531850</td>\n",
              "      <td>25660.222773</td>\n",
              "      <td>31330.549186</td>\n",
              "      <td>93696.128392</td>\n",
              "      <td>67690.908167</td>\n",
              "      <td>111124.343428</td>\n",
              "    </tr>\n",
              "    <tr>\n",
              "      <th>Paciente 16</th>\n",
              "      <td>17995.660058</td>\n",
              "      <td>12001.601821</td>\n",
              "      <td>12286.344400</td>\n",
              "      <td>14785.908284</td>\n",
              "      <td>17058.433161</td>\n",
              "      <td>63983.449318</td>\n",
              "      <td>53715.460772</td>\n",
              "      <td>66403.639479</td>\n",
              "    </tr>\n",
              "    <tr>\n",
              "      <th>Paciente 17</th>\n",
              "      <td>10692.948223</td>\n",
              "      <td>10841.187262</td>\n",
              "      <td>12154.390086</td>\n",
              "      <td>24161.685202</td>\n",
              "      <td>14789.173543</td>\n",
              "      <td>43302.825848</td>\n",
              "      <td>42560.941845</td>\n",
              "      <td>39043.973220</td>\n",
              "    </tr>\n",
              "    <tr>\n",
              "      <th>Paciente 18</th>\n",
              "      <td>16001.606312</td>\n",
              "      <td>13678.099220</td>\n",
              "      <td>16024.473570</td>\n",
              "      <td>14482.116106</td>\n",
              "      <td>14723.843472</td>\n",
              "      <td>31443.053250</td>\n",
              "      <td>28191.962386</td>\n",
              "      <td>33117.421322</td>\n",
              "    </tr>\n",
              "    <tr>\n",
              "      <th>Paciente 19</th>\n",
              "      <td>12438.243570</td>\n",
              "      <td>11261.175800</td>\n",
              "      <td>10819.634775</td>\n",
              "      <td>9489.784462</td>\n",
              "      <td>12091.060945</td>\n",
              "      <td>22798.213463</td>\n",
              "      <td>23700.620349</td>\n",
              "      <td>25606.065340</td>\n",
              "    </tr>\n",
              "    <tr>\n",
              "      <th>Paciente 20</th>\n",
              "      <td>17699.028112</td>\n",
              "      <td>26643.280393</td>\n",
              "      <td>32468.842059</td>\n",
              "      <td>25561.956895</td>\n",
              "      <td>23415.623101</td>\n",
              "      <td>57294.133077</td>\n",
              "      <td>54829.651258</td>\n",
              "      <td>59700.873328</td>\n",
              "    </tr>\n",
              "    <tr>\n",
              "      <th>Paciente 21</th>\n",
              "      <td>48923.874237</td>\n",
              "      <td>64324.769523</td>\n",
              "      <td>85175.914992</td>\n",
              "      <td>78087.225852</td>\n",
              "      <td>65792.625436</td>\n",
              "      <td>458631.543464</td>\n",
              "      <td>400266.637762</td>\n",
              "      <td>554127.580214</td>\n",
              "    </tr>\n",
              "    <tr>\n",
              "      <th>Paciente 22</th>\n",
              "      <td>49937.833324</td>\n",
              "      <td>46030.495239</td>\n",
              "      <td>46746.506684</td>\n",
              "      <td>43109.302338</td>\n",
              "      <td>42923.267828</td>\n",
              "      <td>424838.119622</td>\n",
              "      <td>283345.547804</td>\n",
              "      <td>408902.026150</td>\n",
              "    </tr>\n",
              "    <tr>\n",
              "      <th>Paciente 23</th>\n",
              "      <td>38092.102574</td>\n",
              "      <td>43575.379457</td>\n",
              "      <td>41979.994799</td>\n",
              "      <td>41715.287990</td>\n",
              "      <td>46513.737045</td>\n",
              "      <td>251649.394709</td>\n",
              "      <td>179345.438488</td>\n",
              "      <td>262361.180410</td>\n",
              "    </tr>\n",
              "  </tbody>\n",
              "</table>\n",
              "</div>\n",
              "    <div class=\"colab-df-buttons\">\n",
              "\n",
              "  <div class=\"colab-df-container\">\n",
              "    <button class=\"colab-df-convert\" onclick=\"convertToInteractive('df-60b173fb-c058-4e06-b74b-1c434c07a652')\"\n",
              "            title=\"Convert this dataframe to an interactive table.\"\n",
              "            style=\"display:none;\">\n",
              "\n",
              "  <svg xmlns=\"http://www.w3.org/2000/svg\" height=\"24px\" viewBox=\"0 -960 960 960\">\n",
              "    <path d=\"M120-120v-720h720v720H120Zm60-500h600v-160H180v160Zm220 220h160v-160H400v160Zm0 220h160v-160H400v160ZM180-400h160v-160H180v160Zm440 0h160v-160H620v160ZM180-180h160v-160H180v160Zm440 0h160v-160H620v160Z\"/>\n",
              "  </svg>\n",
              "    </button>\n",
              "\n",
              "  <style>\n",
              "    .colab-df-container {\n",
              "      display:flex;\n",
              "      gap: 12px;\n",
              "    }\n",
              "\n",
              "    .colab-df-convert {\n",
              "      background-color: #E8F0FE;\n",
              "      border: none;\n",
              "      border-radius: 50%;\n",
              "      cursor: pointer;\n",
              "      display: none;\n",
              "      fill: #1967D2;\n",
              "      height: 32px;\n",
              "      padding: 0 0 0 0;\n",
              "      width: 32px;\n",
              "    }\n",
              "\n",
              "    .colab-df-convert:hover {\n",
              "      background-color: #E2EBFA;\n",
              "      box-shadow: 0px 1px 2px rgba(60, 64, 67, 0.3), 0px 1px 3px 1px rgba(60, 64, 67, 0.15);\n",
              "      fill: #174EA6;\n",
              "    }\n",
              "\n",
              "    .colab-df-buttons div {\n",
              "      margin-bottom: 4px;\n",
              "    }\n",
              "\n",
              "    [theme=dark] .colab-df-convert {\n",
              "      background-color: #3B4455;\n",
              "      fill: #D2E3FC;\n",
              "    }\n",
              "\n",
              "    [theme=dark] .colab-df-convert:hover {\n",
              "      background-color: #434B5C;\n",
              "      box-shadow: 0px 1px 3px 1px rgba(0, 0, 0, 0.15);\n",
              "      filter: drop-shadow(0px 1px 2px rgba(0, 0, 0, 0.3));\n",
              "      fill: #FFFFFF;\n",
              "    }\n",
              "  </style>\n",
              "\n",
              "    <script>\n",
              "      const buttonEl =\n",
              "        document.querySelector('#df-60b173fb-c058-4e06-b74b-1c434c07a652 button.colab-df-convert');\n",
              "      buttonEl.style.display =\n",
              "        google.colab.kernel.accessAllowed ? 'block' : 'none';\n",
              "\n",
              "      async function convertToInteractive(key) {\n",
              "        const element = document.querySelector('#df-60b173fb-c058-4e06-b74b-1c434c07a652');\n",
              "        const dataTable =\n",
              "          await google.colab.kernel.invokeFunction('convertToInteractive',\n",
              "                                                    [key], {});\n",
              "        if (!dataTable) return;\n",
              "\n",
              "        const docLinkHtml = 'Like what you see? Visit the ' +\n",
              "          '<a target=\"_blank\" href=https://colab.research.google.com/notebooks/data_table.ipynb>data table notebook</a>'\n",
              "          + ' to learn more about interactive tables.';\n",
              "        element.innerHTML = '';\n",
              "        dataTable['output_type'] = 'display_data';\n",
              "        await google.colab.output.renderOutput(dataTable, element);\n",
              "        const docLink = document.createElement('div');\n",
              "        docLink.innerHTML = docLinkHtml;\n",
              "        element.appendChild(docLink);\n",
              "      }\n",
              "    </script>\n",
              "  </div>\n",
              "\n",
              "\n",
              "<div id=\"df-4b638fda-e33d-4486-aa45-c35f5724a7ae\">\n",
              "  <button class=\"colab-df-quickchart\" onclick=\"quickchart('df-4b638fda-e33d-4486-aa45-c35f5724a7ae')\"\n",
              "            title=\"Suggest charts\"\n",
              "            style=\"display:none;\">\n",
              "\n",
              "<svg xmlns=\"http://www.w3.org/2000/svg\" height=\"24px\"viewBox=\"0 0 24 24\"\n",
              "     width=\"24px\">\n",
              "    <g>\n",
              "        <path d=\"M19 3H5c-1.1 0-2 .9-2 2v14c0 1.1.9 2 2 2h14c1.1 0 2-.9 2-2V5c0-1.1-.9-2-2-2zM9 17H7v-7h2v7zm4 0h-2V7h2v10zm4 0h-2v-4h2v4z\"/>\n",
              "    </g>\n",
              "</svg>\n",
              "  </button>\n",
              "\n",
              "<style>\n",
              "  .colab-df-quickchart {\n",
              "      --bg-color: #E8F0FE;\n",
              "      --fill-color: #1967D2;\n",
              "      --hover-bg-color: #E2EBFA;\n",
              "      --hover-fill-color: #174EA6;\n",
              "      --disabled-fill-color: #AAA;\n",
              "      --disabled-bg-color: #DDD;\n",
              "  }\n",
              "\n",
              "  [theme=dark] .colab-df-quickchart {\n",
              "      --bg-color: #3B4455;\n",
              "      --fill-color: #D2E3FC;\n",
              "      --hover-bg-color: #434B5C;\n",
              "      --hover-fill-color: #FFFFFF;\n",
              "      --disabled-bg-color: #3B4455;\n",
              "      --disabled-fill-color: #666;\n",
              "  }\n",
              "\n",
              "  .colab-df-quickchart {\n",
              "    background-color: var(--bg-color);\n",
              "    border: none;\n",
              "    border-radius: 50%;\n",
              "    cursor: pointer;\n",
              "    display: none;\n",
              "    fill: var(--fill-color);\n",
              "    height: 32px;\n",
              "    padding: 0;\n",
              "    width: 32px;\n",
              "  }\n",
              "\n",
              "  .colab-df-quickchart:hover {\n",
              "    background-color: var(--hover-bg-color);\n",
              "    box-shadow: 0 1px 2px rgba(60, 64, 67, 0.3), 0 1px 3px 1px rgba(60, 64, 67, 0.15);\n",
              "    fill: var(--button-hover-fill-color);\n",
              "  }\n",
              "\n",
              "  .colab-df-quickchart-complete:disabled,\n",
              "  .colab-df-quickchart-complete:disabled:hover {\n",
              "    background-color: var(--disabled-bg-color);\n",
              "    fill: var(--disabled-fill-color);\n",
              "    box-shadow: none;\n",
              "  }\n",
              "\n",
              "  .colab-df-spinner {\n",
              "    border: 2px solid var(--fill-color);\n",
              "    border-color: transparent;\n",
              "    border-bottom-color: var(--fill-color);\n",
              "    animation:\n",
              "      spin 1s steps(1) infinite;\n",
              "  }\n",
              "\n",
              "  @keyframes spin {\n",
              "    0% {\n",
              "      border-color: transparent;\n",
              "      border-bottom-color: var(--fill-color);\n",
              "      border-left-color: var(--fill-color);\n",
              "    }\n",
              "    20% {\n",
              "      border-color: transparent;\n",
              "      border-left-color: var(--fill-color);\n",
              "      border-top-color: var(--fill-color);\n",
              "    }\n",
              "    30% {\n",
              "      border-color: transparent;\n",
              "      border-left-color: var(--fill-color);\n",
              "      border-top-color: var(--fill-color);\n",
              "      border-right-color: var(--fill-color);\n",
              "    }\n",
              "    40% {\n",
              "      border-color: transparent;\n",
              "      border-right-color: var(--fill-color);\n",
              "      border-top-color: var(--fill-color);\n",
              "    }\n",
              "    60% {\n",
              "      border-color: transparent;\n",
              "      border-right-color: var(--fill-color);\n",
              "    }\n",
              "    80% {\n",
              "      border-color: transparent;\n",
              "      border-right-color: var(--fill-color);\n",
              "      border-bottom-color: var(--fill-color);\n",
              "    }\n",
              "    90% {\n",
              "      border-color: transparent;\n",
              "      border-bottom-color: var(--fill-color);\n",
              "    }\n",
              "  }\n",
              "</style>\n",
              "\n",
              "  <script>\n",
              "    async function quickchart(key) {\n",
              "      const quickchartButtonEl =\n",
              "        document.querySelector('#' + key + ' button');\n",
              "      quickchartButtonEl.disabled = true;  // To prevent multiple clicks.\n",
              "      quickchartButtonEl.classList.add('colab-df-spinner');\n",
              "      try {\n",
              "        const charts = await google.colab.kernel.invokeFunction(\n",
              "            'suggestCharts', [key], {});\n",
              "      } catch (error) {\n",
              "        console.error('Error during call to suggestCharts:', error);\n",
              "      }\n",
              "      quickchartButtonEl.classList.remove('colab-df-spinner');\n",
              "      quickchartButtonEl.classList.add('colab-df-quickchart-complete');\n",
              "    }\n",
              "    (() => {\n",
              "      let quickchartButtonEl =\n",
              "        document.querySelector('#df-4b638fda-e33d-4486-aa45-c35f5724a7ae button');\n",
              "      quickchartButtonEl.style.display =\n",
              "        google.colab.kernel.accessAllowed ? 'block' : 'none';\n",
              "    })();\n",
              "  </script>\n",
              "</div>\n",
              "\n",
              "  <div id=\"id_3a8c3092-5c6a-455d-8eff-bda7ddc7f078\">\n",
              "    <style>\n",
              "      .colab-df-generate {\n",
              "        background-color: #E8F0FE;\n",
              "        border: none;\n",
              "        border-radius: 50%;\n",
              "        cursor: pointer;\n",
              "        display: none;\n",
              "        fill: #1967D2;\n",
              "        height: 32px;\n",
              "        padding: 0 0 0 0;\n",
              "        width: 32px;\n",
              "      }\n",
              "\n",
              "      .colab-df-generate:hover {\n",
              "        background-color: #E2EBFA;\n",
              "        box-shadow: 0px 1px 2px rgba(60, 64, 67, 0.3), 0px 1px 3px 1px rgba(60, 64, 67, 0.15);\n",
              "        fill: #174EA6;\n",
              "      }\n",
              "\n",
              "      [theme=dark] .colab-df-generate {\n",
              "        background-color: #3B4455;\n",
              "        fill: #D2E3FC;\n",
              "      }\n",
              "\n",
              "      [theme=dark] .colab-df-generate:hover {\n",
              "        background-color: #434B5C;\n",
              "        box-shadow: 0px 1px 3px 1px rgba(0, 0, 0, 0.15);\n",
              "        filter: drop-shadow(0px 1px 2px rgba(0, 0, 0, 0.3));\n",
              "        fill: #FFFFFF;\n",
              "      }\n",
              "    </style>\n",
              "    <button class=\"colab-df-generate\" onclick=\"generateWithVariable('df_parkinson')\"\n",
              "            title=\"Generate code using this dataframe.\"\n",
              "            style=\"display:none;\">\n",
              "\n",
              "  <svg xmlns=\"http://www.w3.org/2000/svg\" height=\"24px\"viewBox=\"0 0 24 24\"\n",
              "       width=\"24px\">\n",
              "    <path d=\"M7,19H8.4L18.45,9,17,7.55,7,17.6ZM5,21V16.75L18.45,3.32a2,2,0,0,1,2.83,0l1.4,1.43a1.91,1.91,0,0,1,.58,1.4,1.91,1.91,0,0,1-.58,1.4L9.25,21ZM18.45,9,17,7.55Zm-12,3A5.31,5.31,0,0,0,4.9,8.1,5.31,5.31,0,0,0,1,6.5,5.31,5.31,0,0,0,4.9,4.9,5.31,5.31,0,0,0,6.5,1,5.31,5.31,0,0,0,8.1,4.9,5.31,5.31,0,0,0,12,6.5,5.46,5.46,0,0,0,6.5,12Z\"/>\n",
              "  </svg>\n",
              "    </button>\n",
              "    <script>\n",
              "      (() => {\n",
              "      const buttonEl =\n",
              "        document.querySelector('#id_3a8c3092-5c6a-455d-8eff-bda7ddc7f078 button.colab-df-generate');\n",
              "      buttonEl.style.display =\n",
              "        google.colab.kernel.accessAllowed ? 'block' : 'none';\n",
              "\n",
              "      buttonEl.onclick = () => {\n",
              "        google.colab.notebook.generateWithVariable('df_parkinson');\n",
              "      }\n",
              "      })();\n",
              "    </script>\n",
              "  </div>\n",
              "\n",
              "    </div>\n",
              "  </div>\n"
            ],
            "application/vnd.google.colaboratory.intrinsic+json": {
              "type": "dataframe",
              "variable_name": "df_parkinson",
              "summary": "{\n  \"name\": \"df_parkinson\",\n  \"rows\": 23,\n  \"fields\": [\n    {\n      \"column\": \"Canal 1\",\n      \"properties\": {\n        \"dtype\": \"number\",\n        \"std\": 12640.452723937007,\n        \"min\": 9581.810470556296,\n        \"max\": 49937.833323585866,\n        \"num_unique_values\": 23,\n        \"samples\": [\n          17995.66005766481,\n          23742.325611861244,\n          12157.229828170855\n        ],\n        \"semantic_type\": \"\",\n        \"description\": \"\"\n      }\n    },\n    {\n      \"column\": \"Canal 2\",\n      \"properties\": {\n        \"dtype\": \"number\",\n        \"std\": 14267.642281062092,\n        \"min\": 10841.187262243095,\n        \"max\": 64324.769523379946,\n        \"num_unique_values\": 23,\n        \"samples\": [\n          12001.601821477141,\n          22070.00756856491,\n          13398.658526187926\n        ],\n        \"semantic_type\": \"\",\n        \"description\": \"\"\n      }\n    },\n    {\n      \"column\": \"Canal 3\",\n      \"properties\": {\n        \"dtype\": \"number\",\n        \"std\": 18704.752459620813,\n        \"min\": 9589.230256578729,\n        \"max\": 85175.91499245436,\n        \"num_unique_values\": 23,\n        \"samples\": [\n          12286.344399845844,\n          24540.31561208683,\n          17668.8776573867\n        ],\n        \"semantic_type\": \"\",\n        \"description\": \"\"\n      }\n    },\n    {\n      \"column\": \"Canal 4\",\n      \"properties\": {\n        \"dtype\": \"number\",\n        \"std\": 16327.986909355406,\n        \"min\": 9374.085669340462,\n        \"max\": 78087.22585210598,\n        \"num_unique_values\": 23,\n        \"samples\": [\n          14785.908283922572,\n          21803.936447506796,\n          14841.104692834544\n        ],\n        \"semantic_type\": \"\",\n        \"description\": \"\"\n      }\n    },\n    {\n      \"column\": \"Canal 5\",\n      \"properties\": {\n        \"dtype\": \"number\",\n        \"std\": 14720.750591063414,\n        \"min\": 8154.941857937072,\n        \"max\": 65792.62543625591,\n        \"num_unique_values\": 23,\n        \"samples\": [\n          17058.433161071487,\n          22594.339745338948,\n          11297.742246723026\n        ],\n        \"semantic_type\": \"\",\n        \"description\": \"\"\n      }\n    },\n    {\n      \"column\": \"Canal 6\",\n      \"properties\": {\n        \"dtype\": \"number\",\n        \"std\": 123261.52758150616,\n        \"min\": 22088.181162220375,\n        \"max\": 458631.5434636906,\n        \"num_unique_values\": 23,\n        \"samples\": [\n          63983.44931793264,\n          128314.26480478725,\n          38701.6476081362\n        ],\n        \"semantic_type\": \"\",\n        \"description\": \"\"\n      }\n    },\n    {\n      \"column\": \"Canal 7\",\n      \"properties\": {\n        \"dtype\": \"number\",\n        \"std\": 93562.56617751933,\n        \"min\": 18262.518632618066,\n        \"max\": 400266.63776161656,\n        \"num_unique_values\": 23,\n        \"samples\": [\n          53715.46077242314,\n          128888.4856332973,\n          41828.9739293316\n        ],\n        \"semantic_type\": \"\",\n        \"description\": \"\"\n      }\n    },\n    {\n      \"column\": \"Canal 8\",\n      \"properties\": {\n        \"dtype\": \"number\",\n        \"std\": 138359.14913730993,\n        \"min\": 18454.068489041678,\n        \"max\": 554127.5802143323,\n        \"num_unique_values\": 23,\n        \"samples\": [\n          66403.63947912595,\n          152799.28424772678,\n          61328.61099048844\n        ],\n        \"semantic_type\": \"\",\n        \"description\": \"\"\n      }\n    }\n  ]\n}"
            }
          },
          "metadata": {},
          "execution_count": 44
        }
      ],
      "source": [
        "df_parkinson"
      ]
    },
    {
      "cell_type": "markdown",
      "id": "2ce6628a-22ee-4c2c-87e3-ce475e6a3b5b",
      "metadata": {
        "id": "2ce6628a-22ee-4c2c-87e3-ce475e6a3b5b"
      },
      "source": [
        "## 3. Determine si existe diferencia estadística entre canales de cada grupo de sujetos a través de una prueba t. Compruebe los supuestos necesarios para realizar una prueba t, esto es: Normalidad de la variable, independencia (se asume que los grupos son independientes), y homocedasticidad (use una prueba de Levene), finalmente realice la prueba t para determinar si existen diferencias entre los canales entre grupos de sujetos. De no cumplirse los requisitos, realice entonces un análisis no paramétrico (prueba U de Mann-Whitney). Este numeral tiene como objetivo identificar los canales que entregan información diferencial entre pacientes Sanos y con enfermedad de Parkinson."
      ]
    },
    {
      "cell_type": "markdown",
      "id": "9491dabc-c139-4d6e-a711-d7d5fac01fa2",
      "metadata": {
        "id": "9491dabc-c139-4d6e-a711-d7d5fac01fa2"
      },
      "source": [
        "### Prueba de normalidad Shapiro-Wilks\n",
        "\n",
        "Para evaluar la normalidad se seleccionó la prueba de Shapiro-Wilks.\n",
        "\n",
        "El test de Shapiro-Wilks plantea la hipótesis nula de que una muestra proviene de una distribución normal. En este caso, se eligió un nivel de significancia de 0,05, es decir, se acepta un 5% de probabilidad de cometer un error tipo I (rechazar la hipótesis nula cuando esta es verdadera). Si el valor-p es menor o igual al nivel de significancia, entonces se tiene evidencia suficiente para rechazar la hipótesis nula. De lo contrario, se asume que la hipótesis nula es verdadera.\n",
        "\n",
        "La hipótesis alternativa es que no se sigue una distribución normal.\n",
        "\n",
        "Hipótesis nula (H0): La señal tiene una distribución es normal.\n",
        "\n",
        "Hipótesis alternativa (H1): La señal tiene una distribución no es normal."
      ]
    },
    {
      "cell_type": "code",
      "execution_count": null,
      "id": "54fd95c5-7ec2-409a-85c1-61a22f7e421d",
      "metadata": {
        "colab": {
          "base_uri": "https://localhost:8080/"
        },
        "id": "54fd95c5-7ec2-409a-85c1-61a22f7e421d",
        "outputId": "607d7a7e-11b1-45cc-c1b5-bb0492275052"
      },
      "outputs": [
        {
          "output_type": "execute_result",
          "data": {
            "text/plain": [
              "Index(['Canal 1', 'Canal 2', 'Canal 3', 'Canal 4', 'Canal 5', 'Canal 6',\n",
              "       'Canal 7', 'Canal 8'],\n",
              "      dtype='object')"
            ]
          },
          "metadata": {},
          "execution_count": 45
        }
      ],
      "source": [
        "df_control.columns"
      ]
    },
    {
      "cell_type": "code",
      "execution_count": null,
      "id": "da116ce0-3e37-4c03-9df4-737d18b6612c",
      "metadata": {
        "id": "da116ce0-3e37-4c03-9df4-737d18b6612c"
      },
      "outputs": [],
      "source": [
        "alpha=0.05"
      ]
    },
    {
      "cell_type": "code",
      "execution_count": null,
      "id": "3056a1a3-192d-48f9-a277-f26d615daaf4",
      "metadata": {
        "id": "3056a1a3-192d-48f9-a277-f26d615daaf4"
      },
      "outputs": [],
      "source": [
        "from scipy.stats import shapiro, levene\n",
        "\n",
        "def Prueba_ShapiroWilks(df, alpha):\n",
        "    normalidad = {}\n",
        "    for canal in df.columns:\n",
        "        stats, p_value = shapiro(df[canal])\n",
        "        normalidad[canal] = p_value\n",
        "        if p_value <= alpha:\n",
        "            print(f'{canal}: p-value = {p_value}. No sigue una distribución normal.')\n",
        "        elif p_value >= alpha:\n",
        "            print(f'{canal}: p-value = {p_value}. Sigue una distribución normal.')\n",
        "    return normalidad"
      ]
    },
    {
      "cell_type": "code",
      "execution_count": null,
      "id": "7cf06798-8a94-461e-94e4-3f0c2ac9fcda",
      "metadata": {
        "colab": {
          "base_uri": "https://localhost:8080/"
        },
        "id": "7cf06798-8a94-461e-94e4-3f0c2ac9fcda",
        "outputId": "b08a6fa7-d64a-4aae-aba9-0196bbc6f17d"
      },
      "outputs": [
        {
          "output_type": "execute_result",
          "data": {
            "text/plain": [
              "Index(['Canal 1', 'Canal 2', 'Canal 3', 'Canal 4', 'Canal 5', 'Canal 6',\n",
              "       'Canal 7', 'Canal 8'],\n",
              "      dtype='object')"
            ]
          },
          "metadata": {},
          "execution_count": 48
        }
      ],
      "source": [
        "df_control.columns"
      ]
    },
    {
      "cell_type": "code",
      "execution_count": null,
      "id": "22de0848-00ce-42fd-b5c5-2e9549555d8d",
      "metadata": {
        "colab": {
          "base_uri": "https://localhost:8080/"
        },
        "id": "22de0848-00ce-42fd-b5c5-2e9549555d8d",
        "outputId": "1e4c08b7-7df2-46ca-fb26-ada4559b7e3c"
      },
      "outputs": [
        {
          "output_type": "stream",
          "name": "stdout",
          "text": [
            "Canal 1: p-value = 0.00625258258949084. No sigue una distribución normal.\n",
            "Canal 2: p-value = 0.003954349672893232. No sigue una distribución normal.\n",
            "Canal 3: p-value = 0.008902474388641704. No sigue una distribución normal.\n",
            "Canal 4: p-value = 0.0001969822134533634. No sigue una distribución normal.\n",
            "Canal 5: p-value = 0.0007995109321301918. No sigue una distribución normal.\n",
            "Canal 6: p-value = 6.077846333124141e-06. No sigue una distribución normal.\n",
            "Canal 7: p-value = 4.219023053060484e-06. No sigue una distribución normal.\n",
            "Canal 8: p-value = 5.307787994214454e-07. No sigue una distribución normal.\n"
          ]
        }
      ],
      "source": [
        "shapiro_control = Prueba_ShapiroWilks(df_control, alpha)"
      ]
    },
    {
      "cell_type": "code",
      "execution_count": null,
      "id": "177d7ad7-692d-48b0-8205-dd20be870caa",
      "metadata": {
        "colab": {
          "base_uri": "https://localhost:8080/"
        },
        "id": "177d7ad7-692d-48b0-8205-dd20be870caa",
        "outputId": "6151eb59-e982-4b8e-c3a6-06f47d389715"
      },
      "outputs": [
        {
          "output_type": "stream",
          "name": "stdout",
          "text": [
            "Canal 1: p-value = 0.014391748809352648. No sigue una distribución normal.\n",
            "Canal 2: p-value = 0.004522125702176838. No sigue una distribución normal.\n",
            "Canal 3: p-value = 0.0009095814679302174. No sigue una distribución normal.\n",
            "Canal 4: p-value = 0.00031213125786319976. No sigue una distribución normal.\n",
            "Canal 5: p-value = 0.005322990592932188. No sigue una distribución normal.\n",
            "Canal 6: p-value = 9.814695111014217e-06. No sigue una distribución normal.\n",
            "Canal 7: p-value = 1.6702065098807628e-05. No sigue una distribución normal.\n",
            "Canal 8: p-value = 8.98335963166538e-06. No sigue una distribución normal.\n"
          ]
        }
      ],
      "source": [
        "shapiro_parkinson = Prueba_ShapiroWilks(df_parkinson, alpha)"
      ]
    },
    {
      "cell_type": "markdown",
      "source": [
        "*Resultados para prueba de normalidad para sujetos sanos*"
      ],
      "metadata": {
        "id": "9xBG5qTMBx04"
      },
      "id": "9xBG5qTMBx04"
    },
    {
      "cell_type": "code",
      "execution_count": null,
      "id": "da0f1f18-c685-49d0-874b-9d830459974a",
      "metadata": {
        "colab": {
          "base_uri": "https://localhost:8080/"
        },
        "id": "da0f1f18-c685-49d0-874b-9d830459974a",
        "outputId": "610b6c77-f267-4700-9a98-ba40fb192f21"
      },
      "outputs": [
        {
          "output_type": "stream",
          "name": "stdout",
          "text": [
            "              p_value  Normal\n",
            "Canal                        \n",
            "Canal 1  6.252583e-03   False\n",
            "Canal 2  3.954350e-03   False\n",
            "Canal 3  8.902474e-03   False\n",
            "Canal 4  1.969822e-04   False\n",
            "Canal 5  7.995109e-04   False\n",
            "Canal 6  6.077846e-06   False\n",
            "Canal 7  4.219023e-06   False\n",
            "Canal 8  5.307788e-07   False\n"
          ]
        }
      ],
      "source": [
        "df = pd.DataFrame(list(shapiro_control.items()), columns=['Canal', 'p_value'])\n",
        "df['Normal'] = df['p_value'] > alpha\n",
        "df.set_index('Canal', inplace=True)\n",
        "print(df)"
      ]
    },
    {
      "cell_type": "markdown",
      "source": [
        "*Resultados para prueba de normalidad para sujetos con Parkinson*"
      ],
      "metadata": {
        "id": "ycWTktO0CDVo"
      },
      "id": "ycWTktO0CDVo"
    },
    {
      "cell_type": "code",
      "source": [
        "df = pd.DataFrame(list(shapiro_parkinson.items()), columns=['Canal', 'p_value'])\n",
        "df['Normal'] = df['p_value'] > alpha\n",
        "df.set_index('Canal', inplace=True)\n",
        "print(df)"
      ],
      "metadata": {
        "colab": {
          "base_uri": "https://localhost:8080/"
        },
        "id": "pbn2qgIaCMsH",
        "outputId": "bf80d4a9-159d-42d5-cc62-e495c3c29541"
      },
      "id": "pbn2qgIaCMsH",
      "execution_count": null,
      "outputs": [
        {
          "output_type": "stream",
          "name": "stdout",
          "text": [
            "          p_value  Normal\n",
            "Canal                    \n",
            "Canal 1  0.014392   False\n",
            "Canal 2  0.004522   False\n",
            "Canal 3  0.000910   False\n",
            "Canal 4  0.000312   False\n",
            "Canal 5  0.005323   False\n",
            "Canal 6  0.000010   False\n",
            "Canal 7  0.000017   False\n",
            "Canal 8  0.000009   False\n"
          ]
        }
      ]
    },
    {
      "cell_type": "markdown",
      "id": "0c403dbe-a0ef-488d-94fb-f5b3242bf433",
      "metadata": {
        "id": "0c403dbe-a0ef-488d-94fb-f5b3242bf433"
      },
      "source": [
        "### Prueba de homocedasticidad - Prueba de Levene\n",
        "\n",
        "\n",
        "\n",
        "Dado que los canales no siguen una distribución normal, una de las pruebas recomendadas para evaluar la homocedasticidad es la Prueba de Levene.\n",
        "\n",
        "Si el valor p de la prueba de Levene es superior a 0.05, las varianzas no son significativamente diferentes entre sí (es decir, se cumple el supuesto de homogeneidad de la varianza). Si el valor p de la prueba de Levene es inferior a 0.05, entonces existe una diferencia significativa entre las varianzas.\n",
        "\n",
        "H0: Los grupos tienen varianzas iguales\n",
        "\n",
        "\n",
        "H1: Los grupos tienen varianzas diferentes"
      ]
    },
    {
      "cell_type": "code",
      "execution_count": null,
      "id": "473ee61a-8f40-455b-9285-827f2c4662f2",
      "metadata": {
        "id": "473ee61a-8f40-455b-9285-827f2c4662f2"
      },
      "outputs": [],
      "source": [
        "from scipy.stats import levene\n",
        "\n",
        "def Prueba_Levene(df_control, df_pacientes, alpha):\n",
        "    homocedasticidad={}\n",
        "    for canal in df_control.columns:\n",
        "        stat, p_value = levene(df_control[canal], df_pacientes[canal])\n",
        "        homocedasticidad[canal] = p_value\n",
        "        if p_value <= alpha:\n",
        "            print(f'{canal}: p-value = {p_value}. No cumple con el criterio de homocedasticidad.')\n",
        "        elif p_value > alpha:\n",
        "            print(f'{canal}: p-value = {p_value}. Cumple con el criterio de homocedasticidad.')\n",
        "    return homocedasticidad\n"
      ]
    },
    {
      "cell_type": "code",
      "execution_count": null,
      "id": "e65e12e2-03d7-462a-9179-18e9c965d0c6",
      "metadata": {
        "colab": {
          "base_uri": "https://localhost:8080/"
        },
        "id": "e65e12e2-03d7-462a-9179-18e9c965d0c6",
        "outputId": "4680fd40-9a63-465b-f403-00c84f495e9d"
      },
      "outputs": [
        {
          "output_type": "stream",
          "name": "stdout",
          "text": [
            "Canal 1: p-value = 0.8848020019348577. Cumple con el criterio de homocedasticidad.\n",
            "Canal 2: p-value = 0.9590926426745954. Cumple con el criterio de homocedasticidad.\n",
            "Canal 3: p-value = 0.9776337925998679. Cumple con el criterio de homocedasticidad.\n",
            "Canal 4: p-value = 0.7592528471707682. Cumple con el criterio de homocedasticidad.\n",
            "Canal 5: p-value = 0.9045548264900758. Cumple con el criterio de homocedasticidad.\n",
            "Canal 6: p-value = 0.4719758936966435. Cumple con el criterio de homocedasticidad.\n",
            "Canal 7: p-value = 0.6178759981277944. Cumple con el criterio de homocedasticidad.\n",
            "Canal 8: p-value = 0.5940765419878595. Cumple con el criterio de homocedasticidad.\n"
          ]
        }
      ],
      "source": [
        "homocedasticidad = Prueba_Levene(df_control, df_parkinson, alpha)"
      ]
    },
    {
      "cell_type": "markdown",
      "source": [
        "*Resultados para prueba de homocedasticidad para sujetos sanos y sujetos con Parkinson*"
      ],
      "metadata": {
        "id": "5Ig2OvV-axA6"
      },
      "id": "5Ig2OvV-axA6"
    },
    {
      "cell_type": "code",
      "execution_count": null,
      "id": "24b7b548-ce55-48d8-ac23-d1164d89031a",
      "metadata": {
        "colab": {
          "base_uri": "https://localhost:8080/"
        },
        "id": "24b7b548-ce55-48d8-ac23-d1164d89031a",
        "outputId": "2640fdf7-9c56-4204-9cb7-6bb76f4ef567"
      },
      "outputs": [
        {
          "output_type": "stream",
          "name": "stdout",
          "text": [
            "          p_value  Homocedasticidad\n",
            "Canal                              \n",
            "Canal 1  0.884802              True\n",
            "Canal 2  0.959093              True\n",
            "Canal 3  0.977634              True\n",
            "Canal 4  0.759253              True\n",
            "Canal 5  0.904555              True\n",
            "Canal 6  0.471976              True\n",
            "Canal 7  0.617876              True\n",
            "Canal 8  0.594077              True\n"
          ]
        }
      ],
      "source": [
        "df = pd.DataFrame(list(homocedasticidad.items()), columns=['Canal', 'p_value'])\n",
        "df['Homocedasticidad'] = df['p_value'] > alpha\n",
        "df.set_index('Canal', inplace=True)\n",
        "print(df)"
      ]
    },
    {
      "cell_type": "markdown",
      "id": "46b603bf-d477-41d4-9070-38048ca054bb",
      "metadata": {
        "id": "46b603bf-d477-41d4-9070-38048ca054bb"
      },
      "source": [
        "### Prueba para determinar si existen diferencias entre los canales entre grupos de sujetos.\n",
        "\n",
        "Dado que los datos no cumplen con todos los supuestos requeridos para realizar una T-Test, se realizará una prueba de U-Mann Whitney para realizar un análisis no paramétrico.\n",
        "\n",
        "\n",
        "Las condiciones que se deben cumplir para que los resultados del u-test sean estrictamente válidos son:\n",
        "\n",
        "* Los datos tienen que ser independientes.\n",
        "\n",
        "* Los datos tienen que ser ordinales o bien se tienen que poder ordenarse de menor a mayor.\n",
        "\n",
        "* No es necesario asumir que las muestras se distribuyen de forma normal o que proceden de poblaciones normales. Sin embargo, para que el test compare medianas, ambas han de tener el mismo tipo de distribución (varianza, asimetría, i.).\n",
        "\n",
        "* Igualdad de varianza entre grupos (homocedasticidad).\n",
        "\n",
        "Las hipótesis son:\n",
        "\n",
        "H0: Los canales no entregan información diferencial estadísticamente significativa entre sujetos sanos y pacientes con la enfermedad de Parkinson.\n",
        "\n",
        "\n",
        "H1: Los canales entregan información diferencial estadísticamente significativa entre sujetos sanos y pacientes con la enfermedad de Parkinson."
      ]
    },
    {
      "cell_type": "code",
      "execution_count": null,
      "id": "614e5645-c4da-4dd5-9a37-67be07810e8e",
      "metadata": {
        "colab": {
          "base_uri": "https://localhost:8080/"
        },
        "id": "614e5645-c4da-4dd5-9a37-67be07810e8e",
        "outputId": "c7cc49da-4aac-4405-e494-b22a5f6e646c"
      },
      "outputs": [
        {
          "output_type": "stream",
          "name": "stdout",
          "text": [
            "Canal 1: p-value = 0.4057005715724912. El canal no entrega información diferencial entre pacientes sanos y con enfermedad de Parkinson.\n",
            "Canal 2: p-value = 0.5705282028889593. El canal no entrega información diferencial entre pacientes sanos y con enfermedad de Parkinson.\n",
            "Canal 3: p-value = 0.46037288907343565. El canal no entrega información diferencial entre pacientes sanos y con enfermedad de Parkinson.\n",
            "Canal 4: p-value = 0.23446184956559823. El canal no entrega información diferencial entre pacientes sanos y con enfermedad de Parkinson.\n",
            "Canal 5: p-value = 0.5600175059745567. El canal no entrega información diferencial entre pacientes sanos y con enfermedad de Parkinson.\n",
            "Canal 6: p-value = 0.2800747649284743. El canal no entrega información diferencial entre pacientes sanos y con enfermedad de Parkinson.\n",
            "Canal 7: p-value = 0.11830081572892007. El canal no entrega información diferencial entre pacientes sanos y con enfermedad de Parkinson.\n",
            "Canal 8: p-value = 0.15054429358714408. El canal no entrega información diferencial entre pacientes sanos y con enfermedad de Parkinson.\n"
          ]
        }
      ],
      "source": [
        "def U_test(df_control, df_pacientes, alpha):\n",
        "    resultados_U_test = {}\n",
        "    for canal in df_control.columns:\n",
        "        stat, p_value = stats.mannwhitneyu(df_control[canal], df_pacientes[canal], alternative='two-sided')\n",
        "        resultados_U_test[canal] = p_value\n",
        "        if p_value <= alpha:\n",
        "            print(f'{canal}: p-value = {p_value}. El canal entrega información diferencial entre sujetos sanos y con enfermedad de Parkinson.')\n",
        "        elif p_value >= alpha:\n",
        "            print(f'{canal}: p-value = {p_value}. El canal no entrega información diferencial entre sujetos sanos y con enfermedad de Parkinson.')\n",
        "    return resultados_U_test\n",
        "\n",
        "resultados_U_test = U_test(df_control, df_parkinson, alpha)\n"
      ]
    },
    {
      "cell_type": "markdown",
      "source": [
        "*Resultado para prueba de U-Mann Whitney para análisis no paramétrico*"
      ],
      "metadata": {
        "id": "RW_BvgdFbgNR"
      },
      "id": "RW_BvgdFbgNR"
    },
    {
      "cell_type": "code",
      "source": [
        "du = pd.DataFrame(list(resultados_U_test.items()), columns=['Canal', 'p_value'])\n",
        "du['T-Test'] = du['p_value'].apply(lambda p: 'Sí entrega información diferencial.' if p <= alpha else 'No entrega información diferencial.')\n",
        "du.set_index('Canal', inplace=True)\n",
        "print(du)"
      ],
      "metadata": {
        "colab": {
          "base_uri": "https://localhost:8080/"
        },
        "id": "iDX7lB0l3x1F",
        "outputId": "91980932-2194-42b9-8cb8-42e5d3f50f6c"
      },
      "id": "iDX7lB0l3x1F",
      "execution_count": null,
      "outputs": [
        {
          "output_type": "stream",
          "name": "stdout",
          "text": [
            "          p_value                               T-Test\n",
            "Canal                                                 \n",
            "Canal 1  0.405701  No entrega información diferencial.\n",
            "Canal 2  0.570528  No entrega información diferencial.\n",
            "Canal 3  0.460373  No entrega información diferencial.\n",
            "Canal 4  0.234462  No entrega información diferencial.\n",
            "Canal 5  0.560018  No entrega información diferencial.\n",
            "Canal 6  0.280075  No entrega información diferencial.\n",
            "Canal 7  0.118301  No entrega información diferencial.\n",
            "Canal 8  0.150544  No entrega información diferencial.\n"
          ]
        }
      ]
    },
    {
      "cell_type": "markdown",
      "source": [
        "# **Análisis**"
      ],
      "metadata": {
        "id": "zi4bt0B7AZp_"
      },
      "id": "zi4bt0B7AZp_"
    },
    {
      "cell_type": "markdown",
      "source": [
        "Al realizar la prueba de normalidad (Shapiro-Wilks) se observó que tanto las señales de sujetos sanos como aquellos con Parkinson no siguen una distribución normal. Esto se debe a que las señales EEG no se distribuyen de manera simétrica al tener un alto grado de complejidad debido a que son señales estocásticas que presentan variaciones significativas dependiendo de la ubicación del electrodo y la zona estudiada. Asimismo, la falta de normalidad se puede deberse a factores como la presencia de ruido por artefactos exteriores, electrodos de mala calidad, movimientos de ojos, contracciones musculares y principalmente las oscilaciones de las bandas de frecuencia (delta, theta, alfa, beta, gamma) que se diferenciarse según la región cerebral, los niveles de concentración y la presencia de trastornos neurologicos como el Parkinson [1]. En particular, la banda beta muestra una actividad anormalmente elevada en pacientes con Parkinson, contribuyendo significativamente a la desviación de la normalidad en las señales estudiadas [2].\n",
        "\n",
        "La prueba de Levene indicó que todos los canales presentan homocedasticidad, es decir, las varianzas entre grupos mantienen una homogeneidad. Sin embargo, debido a la ausencia de una distribución normal en estos, no fue posible utilizar la prueba T. En su lugar, se realizó un análisis no paramétrico mediante la prueba U de Mann-Whitney. Este análisis manifestó que ninguno de los canales mostró información diferencial entre los sujetos sanos y aquellos con Parkinson. Este resultado no fue el esperado, ya que se anticipaban diferencias fisiológicas debido a la patología, que podían ser captadas a través de las señales EEG.  Sin embargo, este comportamiento podría explicarse por factores como: datos insuficientes o de baja calidad, debido al uso de un número limitado de canales (8 electrodos) en el análisis. En estudios similares, se emplean hasta 19 electrodos activos para obtener información más completa de diversas zonas de la corteza cerebral y capturar de manera más precisa los efectos representativos de la enfermedad Parkinson [3]. Por otro lado, un preprocesamiento inadecuado de las señales puede afectar la comparación entre los canales. La interferencia de señales no deseadas, como el ECG, es un problema común. Esta interferencia puede introducir picos agudos que complican la diferenciación, afectando la calidad del análisis [4].\n",
        "\n",
        "\n",
        "\n",
        "\n"
      ],
      "metadata": {
        "id": "E0wzzm0uAoe-"
      },
      "id": "E0wzzm0uAoe-"
    },
    {
      "cell_type": "markdown",
      "source": [
        "# **Conclusiones**"
      ],
      "metadata": {
        "id": "C0wf2JvBA0n-"
      },
      "id": "C0wf2JvBA0n-"
    },
    {
      "cell_type": "markdown",
      "source": [
        "* Los canales empleados para el análisis no mostraron diferencias significativas entre los sujetos control y los sujetos con la enfermedad de Parkinson, lo que podría indicar que para las señales analizadas no se puede asumir que afecten de manera diferenciada estos canales, puesto que no hay una variación que permita distinguir entre los dos grupos. Podrían explorarse otros parámetros o explorar otras métricas de la señal para las cuales se haya reportado una mayor sensibilidad para captar estas diferencias.\n",
        "\n",
        "*  La complejidad de los estudios de EEG subraya la importancia de utilizar nuevos métodos para analizar su distribución, especialmente en contextos clínicos como la investigación del Parkinson.\n",
        "\n",
        "* Los resultados podrían mejorarse añadiendo más canales, lo que proporcionaría más información y aumentaría la potencia estadística, permitiendo un análisis más detallado de las diferencias entre el grupo control y el grupo con Parkinson. Sin embargo, esto conlleva el riesgo de aumentar el ruido en los datos, que podría mitigarse con el uso de filtros adecuados.\n"
      ],
      "metadata": {
        "id": "y-PBC04YA8Bv"
      },
      "id": "y-PBC04YA8Bv"
    },
    {
      "cell_type": "markdown",
      "source": [
        "# **Referencias**  "
      ],
      "metadata": {
        "id": "-QZbH3NwA8fW"
      },
      "id": "-QZbH3NwA8fW"
    },
    {
      "cell_type": "markdown",
      "source": [
        "[1] L. Gómez, “Análisis de señales EEG para detección de eventos oculares, musculares y cognitivos”, Trabajo fin de máster, Univ. Politec. Madr., Madrid, 2016. [En línea]. Disponible: https://oa.upm.es/44379/1/TFM_LEONARDO_JOSE_GOMEZ_FIGUEROA.pdf\n",
        "\n",
        "[2] E. Querejeta Villagómez, Alfa, omega y beta del Parkinson. Ciudad de México: Inst. Politec. Nac., 2018. [En línea]. Disponible: https://www.ipn.mx/assets/files/bibliotecas-publicaciones/docs/publicaciones/libros/mb-parkinson.pdf\n",
        "\n",
        "[3] S. Berrillo, L. Morales, I. Pedroso, A. Peláez, A. Sanchez y M. Alfonso, “Conectividad funcional derivada del electroencefalograma en la enfermedad de Parkinson sin demencia”, Rev. Cuba. Neurol. Neurocir., vol. 12, n.º 1, 2022.\n",
        "\n",
        "[4] Y. Rodríguez, T. Gonzáles, E. Marañon, A. Montoya y F. Sanabria, “Aplicación de la corrección de artefactos en el electroencefalograma para el monitoreo del estado anestésico”, Rev Cuba. Neurol Neurocir, vol. 5, n.º 1, pp. 9–14, 2015."
      ],
      "metadata": {
        "id": "9vxQ0w4gBEZ2"
      },
      "id": "9vxQ0w4gBEZ2"
    }
  ],
  "metadata": {
    "kernelspec": {
      "display_name": "Python 3 (ipykernel)",
      "language": "python",
      "name": "python3"
    },
    "language_info": {
      "codemirror_mode": {
        "name": "ipython",
        "version": 3
      },
      "file_extension": ".py",
      "mimetype": "text/x-python",
      "name": "python",
      "nbconvert_exporter": "python",
      "pygments_lexer": "ipython3",
      "version": "3.12.4"
    },
    "colab": {
      "provenance": []
    }
  },
  "nbformat": 4,
  "nbformat_minor": 5
}