{
 "cells": [
  {
   "cell_type": "markdown",
   "metadata": {},
   "source": [
    "Entrega 3"
   ]
  },
  {
   "cell_type": "code",
   "execution_count": 20,
   "metadata": {},
   "outputs": [
    {
     "name": "stdout",
     "output_type": "stream",
     "text": [
      "Requirement already satisfied: pingouin in c:\\users\\erika\\anaconda3\\lib\\site-packages (0.5.4)\n",
      "Requirement already satisfied: numpy in c:\\users\\erika\\anaconda3\\lib\\site-packages (from pingouin) (1.26.4)\n",
      "Requirement already satisfied: scipy in c:\\users\\erika\\anaconda3\\lib\\site-packages (from pingouin) (1.13.1)\n",
      "Requirement already satisfied: pandas>=1.5 in c:\\users\\erika\\anaconda3\\lib\\site-packages (from pingouin) (2.2.2)\n",
      "Requirement already satisfied: matplotlib in c:\\users\\erika\\anaconda3\\lib\\site-packages (from pingouin) (3.8.4)\n",
      "Requirement already satisfied: seaborn in c:\\users\\erika\\anaconda3\\lib\\site-packages (from pingouin) (0.13.2)\n",
      "Requirement already satisfied: statsmodels in c:\\users\\erika\\anaconda3\\lib\\site-packages (from pingouin) (0.14.2)\n",
      "Requirement already satisfied: scikit-learn in c:\\users\\erika\\anaconda3\\lib\\site-packages (from pingouin) (1.4.2)\n",
      "Requirement already satisfied: pandas-flavor in c:\\users\\erika\\anaconda3\\lib\\site-packages (from pingouin) (0.6.0)\n",
      "Requirement already satisfied: tabulate in c:\\users\\erika\\anaconda3\\lib\\site-packages (from pingouin) (0.9.0)\n",
      "Requirement already satisfied: python-dateutil>=2.8.2 in c:\\users\\erika\\appdata\\roaming\\python\\python312\\site-packages (from pandas>=1.5->pingouin) (2.9.0.post0)\n",
      "Requirement already satisfied: pytz>=2020.1 in c:\\users\\erika\\anaconda3\\lib\\site-packages (from pandas>=1.5->pingouin) (2024.1)\n",
      "Requirement already satisfied: tzdata>=2022.7 in c:\\users\\erika\\anaconda3\\lib\\site-packages (from pandas>=1.5->pingouin) (2023.3)\n",
      "Requirement already satisfied: contourpy>=1.0.1 in c:\\users\\erika\\anaconda3\\lib\\site-packages (from matplotlib->pingouin) (1.2.0)\n",
      "Requirement already satisfied: cycler>=0.10 in c:\\users\\erika\\anaconda3\\lib\\site-packages (from matplotlib->pingouin) (0.11.0)\n",
      "Requirement already satisfied: fonttools>=4.22.0 in c:\\users\\erika\\anaconda3\\lib\\site-packages (from matplotlib->pingouin) (4.51.0)\n",
      "Requirement already satisfied: kiwisolver>=1.3.1 in c:\\users\\erika\\anaconda3\\lib\\site-packages (from matplotlib->pingouin) (1.4.4)\n",
      "Requirement already satisfied: packaging>=20.0 in c:\\users\\erika\\appdata\\roaming\\python\\python312\\site-packages (from matplotlib->pingouin) (24.1)\n",
      "Requirement already satisfied: pillow>=8 in c:\\users\\erika\\anaconda3\\lib\\site-packages (from matplotlib->pingouin) (10.3.0)\n",
      "Requirement already satisfied: pyparsing>=2.3.1 in c:\\users\\erika\\anaconda3\\lib\\site-packages (from matplotlib->pingouin) (3.0.9)\n",
      "Requirement already satisfied: xarray in c:\\users\\erika\\anaconda3\\lib\\site-packages (from pandas-flavor->pingouin) (2023.6.0)\n",
      "Requirement already satisfied: joblib>=1.2.0 in c:\\users\\erika\\anaconda3\\lib\\site-packages (from scikit-learn->pingouin) (1.4.2)\n",
      "Requirement already satisfied: threadpoolctl>=2.0.0 in c:\\users\\erika\\anaconda3\\lib\\site-packages (from scikit-learn->pingouin) (2.2.0)\n",
      "Requirement already satisfied: patsy>=0.5.6 in c:\\users\\erika\\anaconda3\\lib\\site-packages (from statsmodels->pingouin) (0.5.6)\n",
      "Requirement already satisfied: six in c:\\users\\erika\\appdata\\roaming\\python\\python312\\site-packages (from patsy>=0.5.6->statsmodels->pingouin) (1.16.0)\n"
     ]
    }
   ],
   "source": [
    "!pip install pingouin"
   ]
  },
  {
   "cell_type": "code",
   "execution_count": 21,
   "metadata": {},
   "outputs": [],
   "source": [
    "from scipy.fftpack import fft;\n",
    "import matplotlib.pyplot as plt;\n",
    "import numpy as np;\n",
    "import scipy.io as sio;\n",
    "import numpy as np;\n",
    "import matplotlib.pyplot as plt\n",
    "import pandas as pd\n",
    "import seaborn as sns\n",
    "from scipy import stats\n",
    "import pingouin as pg\n"
   ]
  },
  {
   "cell_type": "code",
   "execution_count": 22,
   "metadata": {},
   "outputs": [
    {
     "name": "stdout",
     "output_type": "stream",
     "text": [
      "Archivo descomprimido con éxito.\n"
     ]
    }
   ],
   "source": [
    "import zipfile\n",
    "\n",
    "# Nombre del archivo .zip (ya que está en la misma carpeta)\n",
    "archivo_zip = 'datos_senales_datos_parkinson_cursos.zip'\n",
    "\n",
    "# Ruta donde quieres descomprimir los archivos (misma carpeta)\n",
    "ruta_destino = './'\n",
    "\n",
    "# Descomprimir el archivo\n",
    "with zipfile.ZipFile(archivo_zip, 'r') as zip_ref:\n",
    "    zip_ref.extractall(ruta_destino)\n",
    "\n",
    "print(\"Archivo descomprimido con éxito.\")\n"
   ]
  },
  {
   "cell_type": "code",
   "execution_count": 23,
   "metadata": {},
   "outputs": [
    {
     "name": "stderr",
     "output_type": "stream",
     "text": [
      "\"cp\" no se reconoce como un comando interno o externo,\n",
      "programa o archivo por lotes ejecutable.\n",
      "\"unzip\" no se reconoce como un comando interno o externo,\n",
      "programa o archivo por lotes ejecutable.\n"
     ]
    }
   ],
   "source": [
    "!cp /content/drive/Shareddrives/biosenales_sistemas/datos_senales_datos_parkinson_cursos.zip .\n",
    "!unzip datos_senales_datos_parkinson_cursos.zip"
   ]
  },
  {
   "cell_type": "code",
   "execution_count": 24,
   "metadata": {},
   "outputs": [
    {
     "name": "stdout",
     "output_type": "stream",
     "text": [
      "c:\\Users\\erika\\OneDrive - Universidad de Antioquia\\UdeA\\2024-2\\Bioseñales\\Laboratorio\\Laboratorio-biosenales\\Práctica 3\n"
     ]
    }
   ],
   "source": [
    "import os\n",
    "directorio_actual=os.getcwd()\n",
    "print(directorio_actual)"
   ]
  },
  {
   "cell_type": "code",
   "execution_count": 25,
   "metadata": {},
   "outputs": [
    {
     "name": "stdout",
     "output_type": "stream",
     "text": [
      "36\n"
     ]
    }
   ],
   "source": [
    "archivos=os.listdir(directorio_actual + \"/control\")\n",
    "print(len(archivos))"
   ]
  },
  {
   "cell_type": "code",
   "execution_count": 26,
   "metadata": {},
   "outputs": [
    {
     "data": {
      "text/plain": [
       "'C001R_EP_reposo.mat'"
      ]
     },
     "execution_count": 26,
     "metadata": {},
     "output_type": "execute_result"
    }
   ],
   "source": [
    "archivos[0]"
   ]
  },
  {
   "cell_type": "code",
   "execution_count": 27,
   "metadata": {},
   "outputs": [],
   "source": [
    "#ruta de un archivo\n",
    "path_subjecti=(directorio_actual + \"/control\" + \"/\" + archivos[0])\n",
    "#1 CARGAR EL ARCHIVO\n",
    "data = sio.loadmat(path_subjecti)\n",
    "data=data['data']"
   ]
  },
  {
   "cell_type": "code",
   "execution_count": 28,
   "metadata": {},
   "outputs": [
    {
     "data": {
      "text/plain": [
       "(8, 2000, 180)"
      ]
     },
     "execution_count": 28,
     "metadata": {},
     "output_type": "execute_result"
    }
   ],
   "source": [
    "data.shape"
   ]
  },
  {
   "cell_type": "code",
   "execution_count": 29,
   "metadata": {},
   "outputs": [
    {
     "name": "stdout",
     "output_type": "stream",
     "text": [
      "Variable python: <class 'numpy.ndarray'>\n",
      "Tipo de variable cargada: float64\n",
      "Dimensiones de los datos cargados: (8, 2000, 180)\n",
      "Numero de dimensiones: 3\n",
      "Tamanio: 2880000\n",
      "Tamanio en memoria (bytes): 23040000\n"
     ]
    }
   ],
   "source": [
    "print(\"Variable python: \" + str(type(data)));\n",
    "#características básicas de ndarray\n",
    "print(\"Tipo de variable cargada: \" + str(data.dtype));\n",
    "print(\"Dimensiones de los datos cargados: \" + str(data.shape));\n",
    "print(\"Numero de dimensiones: \" + str(data.ndim));\n",
    "print(\"Tamanio: \" + str(data.size));\n",
    "print(\"Tamanio en memoria (bytes): \" + str(data.nbytes));"
   ]
  },
  {
   "cell_type": "code",
   "execution_count": 30,
   "metadata": {},
   "outputs": [],
   "source": [
    "senal_continua = np.reshape(data,(data.shape[0],data.shape[1]*data.shape[2]),order='F')"
   ]
  },
  {
   "cell_type": "code",
   "execution_count": 31,
   "metadata": {},
   "outputs": [
    {
     "data": {
      "text/plain": [
       "(8, 360000)"
      ]
     },
     "execution_count": 31,
     "metadata": {},
     "output_type": "execute_result"
    }
   ],
   "source": [
    "senal_continua.shape"
   ]
  },
  {
   "cell_type": "code",
   "execution_count": 32,
   "metadata": {},
   "outputs": [
    {
     "name": "stdout",
     "output_type": "stream",
     "text": [
      "Dimensiones de los datos cargados: (8, 360000)\n"
     ]
    },
    {
     "data": {
      "image/png": "[encoded data removed]",
      "text/plain": [
       "<Figure size 1000x300 with 1 Axes>"
      ]
     },
     "metadata": {},
     "output_type": "display_data"
    }
   ],
   "source": [
    "print(\"Dimensiones de los datos cargados: \" + str(senal_continua.shape));\n",
    "fig = plt.figure(figsize=(10,3))\n",
    "#fig.subplots_adjust(hspace=0.4, wspace=0.4)\n",
    "plt.plot(senal_continua[0,0:2000])\n",
    "plt.show()"
   ]
  },
  {
   "cell_type": "markdown",
   "metadata": {},
   "source": [
    " 1.\tImplemente una función que reciba una señal de múltiples canales y épocas y calcule la Energía de promedio de cada canal."
   ]
  },
  {
   "cell_type": "code",
   "execution_count": 40,
   "metadata": {},
   "outputs": [
    {
     "name": "stdout",
     "output_type": "stream",
     "text": [
      "Directorio actual: c:\\Users\\erika\\OneDrive - Universidad de Antioquia\\UdeA\\2024-2\\Bioseñales\\Laboratorio\\Laboratorio-biosenales\\Práctica 3\n",
      "Número de archivos en control: 36\n",
      "Promedio total de la energía de los 8 canales en el todos los grupos de control : 14.243462331311584\n",
      "\n",
      "Número de archivos en parkinson: 23\n",
      "Promedio total de la energía de los 8 canales entre todos los grupos de parkinson: 10.478910977311648\n",
      "\n"
     ]
    }
   ],
   "source": [
    "import os\n",
    "import numpy as np\n",
    "import scipy.io as sio\n",
    "\n",
    "directorio_actual = os.getcwd()\n",
    "print(\"Directorio actual:\", directorio_actual)\n",
    "\n",
    "fs = 1000\n",
    "num_canales = 8\n",
    "\n",
    "# Función de promedio\n",
    "def calcular_energia_promedio(senal_continua):\n",
    "    energia_por_canal = np.sum(senal_continua**2, axis=1)  \n",
    "    energia_promedio = energia_por_canal / senal_continua.shape[1]  #la operación de suma se hace a lo largo de la segunda dimensión\n",
    "    \n",
    "    return energia_promedio\n",
    "\n",
    "#ENERGIA PROMEDIO PARA GRUPO CONTROL\n",
    "archivos_control = os.listdir(directorio_actual + \"/control\")\n",
    "print(\"Número de archivos en control:\", len(archivos_control))\n",
    "# Cargar y procesar los archivos de control\n",
    "for i in range(len(archivos_control)):\n",
    "    # Ruta del archivo\n",
    "    ruta_archivo = os.path.join(directorio_actual + \"/control\", os.listdir(directorio_actual + \"/control\")[i])#destermina que lugar exacto\n",
    "    \n",
    "    # 1 CARGAR EL ARCHIVO\n",
    "    data = sio.loadmat(ruta_archivo)\n",
    "    data = data[\"data\"]\n",
    "    \n",
    "    # 2 VOLVERLO CONTINUO\n",
    "    # se nombran las tres dimenciones de las matrices de los datos\n",
    "    sensores = data.shape[0]\n",
    "    puntos = data.shape[1]\n",
    "    epocas = data.shape[2]\n",
    "    senal_continua = np.reshape(data, (sensores, puntos * epocas), order='F')\n",
    "    #APLICAR EL ANALISIS canal por canal\n",
    "    # Con la información clara, se calculara el promedio de la energia canal*canal\n",
    "    energia_promedio_control = calcular_energia_promedio(senal_continua)\n",
    "    \n",
    "    # Mostrar los resultados\n",
    "    #print(f\"Energía promedio de cada canal para el grupo poblacional control {archivos_control[i]}:\")\n",
    "    #for c in range(num_canales):\n",
    "     #   print(f\"Canal {c+1}: {energia_promedio_control[c]}\")\n",
    "    #print(\"\\n\")\n",
    "promedio_energia_archivo_control = np.mean(energia_promedio_control)\n",
    "print(f\"Promedio total de la energía de los 8 canales en el todos los grupos de control : {promedio_energia_archivo_control}\\n\")\n",
    "\n",
    "#ENERGIA PROMEDIO PARA GRUPO PARKINSON\n",
    "archivos_parkinson = os.listdir(directorio_actual + \"/parkinson\")\n",
    "print(\"Número de archivos en parkinson:\", len(archivos_parkinson))\n",
    "\n",
    "# Cargar y procesar los archivos de parkinson\n",
    "for i in range(len(archivos_parkinson)):\n",
    "    # Ruta del archivo\n",
    "    ruta_archivo = os.path.join(directorio_actual + \"/parkinson\", archivos_parkinson[i])\n",
    "    \n",
    "    # 1 CARGAR EL ARCHIVO\n",
    "    data = sio.loadmat(ruta_archivo)\n",
    "    data = data[\"data\"]\n",
    "    \n",
    "    # 2 VOLVERLO CONTINUO, es decir las 3 dimensiones  \n",
    "    sensores = data.shape[0]\n",
    "    puntos = data.shape[1]\n",
    "    epocas = data.shape[2] \n",
    "    senal_continua = np.reshape(data, (sensores, puntos * epocas), order='F')\n",
    "    #APLICAR EL ANALISIS canal por canal\n",
    "    #calcular energia promedio de canal *canal para el grupo con Parkinson\n",
    "    energia_promedio_parkinson = calcular_energia_promedio(senal_continua)\n",
    "    \n",
    "    # Mostrar los  resultados para Parkinson\n",
    "    #print(f\"Energía promedio de cada canal para el grupo poblacional con Parkinson {archivos_parkinson[i]}:\")\n",
    "    #for c in range(num_canales):\n",
    "     #   print(f\"Canal {c+1}: {energia_promedio_parkinson[c]}\")\n",
    "    #print(\"\\n\")\n",
    "promedio_energia_archivo_parkinson = np.mean(energia_promedio_parkinson)\n",
    "print(f\"Promedio total de la energía de los 8 canales entre todos los grupos de parkinson: {promedio_energia_archivo_parkinson}\\n\")"
   ]
  }
 ],
 "metadata": {
  "kernelspec": {
   "display_name": "Python 3",
   "language": "python",
   "name": "python3"
  },
  "language_info": {
   "codemirror_mode": {
    "name": "ipython",
    "version": 3
   },
   "file_extension": ".py",
   "mimetype": "text/x-python",
   "name": "python",
   "nbconvert_exporter": "python",
   "pygments_lexer": "ipython3",
   "version": "3.12.4"
  }
 },
 "nbformat": 4,
 "nbformat_minor": 2
}
