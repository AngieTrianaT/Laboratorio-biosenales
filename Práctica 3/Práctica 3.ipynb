{
 "cells": [
  {
   "cell_type": "markdown",
   "id": "952dc004-6b23-454d-8c78-8499e68a108f",
   "metadata": {},
   "source": [
    "<p><img alt=\"udeA logo\" height=\"150px\" src=\"https://github.com/freddyduitama/images/blob/master/logo.png?raw=true\" align=\"left\" hspace=\"50px\" vspace=\"0px\" style=\"width:107px;height:152px;\"></p>\n",
    "<h1><font color='0B5345'> <center>\n",
    "Práctica 3. Análisis estadístico de señales EEG y EMG </center></font></h1>\n",
    "<font  face=\"Courier New\" size=\"3\">\n",
    "<p1><center> Angie Triana - Erika Gómez - Ana Carolina Mejía</center></p1>\n",
    "\n",
    "<p3><center><b><font color='0B5345' face=\"Lucida Calligraphy,Comic Sans MS,Lucida Console\" size=\"5\">Universidad de Antioquia</font></b> </center></p3>"
   ]
  },
  {
   "cell_type": "code",
   "execution_count": 3,
   "id": "725a1f3a-c037-44f4-b15b-72280a92f1ce",
   "metadata": {},
   "outputs": [
    {
     "name": "stdout",
     "output_type": "stream",
     "text": [
      "Collecting pingouin\n",
      "  Downloading pingouin-0.5.4-py2.py3-none-any.whl.metadata (1.1 kB)\n",
      "Requirement already satisfied: numpy in c:\\users\\usuario\\documents\\carolina\\lib\\site-packages (from pingouin) (1.26.4)\n",
      "Requirement already satisfied: scipy in c:\\users\\usuario\\documents\\carolina\\lib\\site-packages (from pingouin) (1.13.1)\n",
      "Requirement already satisfied: pandas>=1.5 in c:\\users\\usuario\\documents\\carolina\\lib\\site-packages (from pingouin) (2.2.2)\n",
      "Requirement already satisfied: matplotlib in c:\\users\\usuario\\documents\\carolina\\lib\\site-packages (from pingouin) (3.8.4)\n",
      "Requirement already satisfied: seaborn in c:\\users\\usuario\\documents\\carolina\\lib\\site-packages (from pingouin) (0.13.2)\n",
      "Requirement already satisfied: statsmodels in c:\\users\\usuario\\documents\\carolina\\lib\\site-packages (from pingouin) (0.14.2)\n",
      "Requirement already satisfied: scikit-learn in c:\\users\\usuario\\documents\\carolina\\lib\\site-packages (from pingouin) (1.4.2)\n",
      "Collecting pandas-flavor (from pingouin)\n",
      "  Downloading pandas_flavor-0.6.0-py3-none-any.whl.metadata (6.3 kB)\n",
      "Requirement already satisfied: tabulate in c:\\users\\usuario\\documents\\carolina\\lib\\site-packages (from pingouin) (0.9.0)\n",
      "Requirement already satisfied: python-dateutil>=2.8.2 in c:\\users\\usuario\\documents\\carolina\\lib\\site-packages (from pandas>=1.5->pingouin) (2.9.0.post0)\n",
      "Requirement already satisfied: pytz>=2020.1 in c:\\users\\usuario\\documents\\carolina\\lib\\site-packages (from pandas>=1.5->pingouin) (2024.1)\n",
      "Requirement already satisfied: tzdata>=2022.7 in c:\\users\\usuario\\documents\\carolina\\lib\\site-packages (from pandas>=1.5->pingouin) (2023.3)\n",
      "Requirement already satisfied: contourpy>=1.0.1 in c:\\users\\usuario\\documents\\carolina\\lib\\site-packages (from matplotlib->pingouin) (1.2.0)\n",
      "Requirement already satisfied: cycler>=0.10 in c:\\users\\usuario\\documents\\carolina\\lib\\site-packages (from matplotlib->pingouin) (0.11.0)\n",
      "Requirement already satisfied: fonttools>=4.22.0 in c:\\users\\usuario\\documents\\carolina\\lib\\site-packages (from matplotlib->pingouin) (4.51.0)\n",
      "Requirement already satisfied: kiwisolver>=1.3.1 in c:\\users\\usuario\\documents\\carolina\\lib\\site-packages (from matplotlib->pingouin) (1.4.4)\n",
      "Requirement already satisfied: packaging>=20.0 in c:\\users\\usuario\\documents\\carolina\\lib\\site-packages (from matplotlib->pingouin) (23.2)\n",
      "Requirement already satisfied: pillow>=8 in c:\\users\\usuario\\documents\\carolina\\lib\\site-packages (from matplotlib->pingouin) (10.3.0)\n",
      "Requirement already satisfied: pyparsing>=2.3.1 in c:\\users\\usuario\\documents\\carolina\\lib\\site-packages (from matplotlib->pingouin) (3.0.9)\n",
      "Requirement already satisfied: xarray in c:\\users\\usuario\\documents\\carolina\\lib\\site-packages (from pandas-flavor->pingouin) (2023.6.0)\n",
      "Requirement already satisfied: joblib>=1.2.0 in c:\\users\\usuario\\documents\\carolina\\lib\\site-packages (from scikit-learn->pingouin) (1.4.2)\n",
      "Requirement already satisfied: threadpoolctl>=2.0.0 in c:\\users\\usuario\\documents\\carolina\\lib\\site-packages (from scikit-learn->pingouin) (2.2.0)\n",
      "Requirement already satisfied: patsy>=0.5.6 in c:\\users\\usuario\\documents\\carolina\\lib\\site-packages (from statsmodels->pingouin) (0.5.6)\n",
      "Requirement already satisfied: six in c:\\users\\usuario\\documents\\carolina\\lib\\site-packages (from patsy>=0.5.6->statsmodels->pingouin) (1.16.0)\n",
      "Downloading pingouin-0.5.4-py2.py3-none-any.whl (198 kB)\n",
      "   ---------------------------------------- 0.0/198.9 kB ? eta -:--:--\n",
      "   ---------------------------------------- 0.0/198.9 kB ? eta -:--:--\n",
      "   ---- ---------------------------------- 20.5/198.9 kB 217.9 kB/s eta 0:00:01\n",
      "   ------------ -------------------------- 61.4/198.9 kB 544.7 kB/s eta 0:00:01\n",
      "   ---------------------------------------- 198.9/198.9 kB 1.3 MB/s eta 0:00:00\n",
      "Downloading pandas_flavor-0.6.0-py3-none-any.whl (7.2 kB)\n",
      "Installing collected packages: pandas-flavor, pingouin\n",
      "Successfully installed pandas-flavor-0.6.0 pingouin-0.5.4\n"
     ]
    }
   ],
   "source": [
    "!pip install pingouin"
   ]
  },
  {
   "cell_type": "code",
   "execution_count": 48,
   "id": "11c339cb-83a0-4611-b509-29ad2827afd6",
   "metadata": {},
   "outputs": [],
   "source": [
    "import numpy as np\n",
    "import pandas as pd\n",
    "import matplotlib.pyplot as plt\n",
    "import scipy.io as sio\n",
    "import seaborn as sns\n",
    "from scipy import stats\n",
    "import pingouin as pg"
   ]
  },
  {
   "cell_type": "markdown",
   "id": "dc6d4310-ac5f-4479-ac2e-3885b5be5fc9",
   "metadata": {},
   "source": [
    "## Procedimiento"
   ]
  },
  {
   "cell_type": "markdown",
   "id": "2cc38e63-b6f9-4d0b-b0ad-89fca5ce5de3",
   "metadata": {},
   "source": [
    "### 1. Implementación de funciones\n",
    "\n",
    "Implemente una función que permita calcular el valor cuadrático medio (RMS) de una señal. El valor RMS se define en forma discreta con N número de muestras, como:"
   ]
  },
  {
   "cell_type": "code",
   "execution_count": 40,
   "id": "14e470aa-2e33-46af-9a40-d28e70909736",
   "metadata": {},
   "outputs": [],
   "source": [
    "def valor_rms(señal): #Recibe un arreglo de numpy.\n",
    "    valor_rms = np.sqrt(np.mean(señal**2)) #Da información sobre la energía de la señal\n",
    "    \n",
    "    return valor_rms"
   ]
  },
  {
   "cell_type": "code",
   "execution_count": 42,
   "id": "23e6a0d9-2e05-4d20-b89d-3b7a0839329e",
   "metadata": {},
   "outputs": [],
   "source": [
    "señal=np.array([1,2,3,4,5])"
   ]
  },
  {
   "cell_type": "code",
   "execution_count": 28,
   "id": "af6d7f7e-a993-490a-849d-97eec0a90ac2",
   "metadata": {},
   "outputs": [
    {
     "name": "stdout",
     "output_type": "stream",
     "text": [
      "El valor RMS de la señal es: 3.3166247903554\n"
     ]
    }
   ],
   "source": [
    "signal = [1, 2, 3, 4, 5]\n",
    "valor_rms = valor_rms(signal) \n",
    "print(\"El valor RMS de la señal es:\", valor_rms)"
   ]
  },
  {
   "cell_type": "code",
   "execution_count": 44,
   "id": "113c977d-95b4-41c8-8ca0-e4f88b517a46",
   "metadata": {},
   "outputs": [],
   "source": [
    "valor_rms=valor_rms(señal)"
   ]
  },
  {
   "cell_type": "code",
   "execution_count": 46,
   "id": "6a826cd9-3eed-41dc-9442-0a6a2576a2b2",
   "metadata": {},
   "outputs": [
    {
     "data": {
      "text/plain": [
       "3.3166247903554"
      ]
     },
     "execution_count": 46,
     "metadata": {},
     "output_type": "execute_result"
    }
   ],
   "source": [
    "valor_rms"
   ]
  },
  {
   "cell_type": "code",
   "execution_count": 50,
   "id": "a1f6d37a-a484-42f5-9076-c9c2514abc45",
   "metadata": {},
   "outputs": [],
   "source": [
    "signal_data=sio.loadmat('signals.mat')"
   ]
  },
  {
   "cell_type": "code",
   "execution_count": 52,
   "id": "7a10de8f-88eb-44d8-ab09-4cd2636b7a1c",
   "metadata": {},
   "outputs": [
    {
     "data": {
      "text/plain": [
       "{'__header__': b'MATLAB 5.0 MAT-file, Platform: GLNXA64, Created on: Mon Apr 20 15:20:29 2015',\n",
       " '__version__': '1.0',\n",
       " '__globals__': [],\n",
       " 'Fs': array([[1024]], dtype=uint16),\n",
       " 'ECG_asRecording': array([[3904.31689453, 3939.203125  , 3976.00683594, ..., 4366.41064453,\n",
       "         4365.31103516, 4370.91796875]]),\n",
       " 'ECG_filtered': array([[ 8.87103896e-03,  5.62737497e+01,  8.57077127e+01, ...,\n",
       "         -1.20952610e+02, -1.31734356e+02, -1.32898021e+02]]),\n",
       " 'EMG_filtered1': array([[ 17.65905117,  19.41391578,  18.89666666, ..., 242.49414224,\n",
       "         220.4135886 , 151.5810508 ]]),\n",
       " 'EMG_filtered2': array([[  21.1780547 ,  -79.82418538, -133.65960989, ..., -384.58994036,\n",
       "         -539.9349533 , -772.65519631]]),\n",
       " 'EMG_asRecording1': array([[ 908.07531738,  903.17706299,  896.62982178, ..., 1433.91882324,\n",
       "         1416.109375  , 1352.75012207]]),\n",
       " 'EMG_asRecording2': array([[-3109.97558594, -3231.01391602, -3302.34960938, ...,\n",
       "         -3791.24267578, -3924.6550293 , -4109.94433594]])}"
      ]
     },
     "execution_count": 52,
     "metadata": {},
     "output_type": "execute_result"
    }
   ],
   "source": [
    "signal_data"
   ]
  },
  {
   "cell_type": "code",
   "execution_count": 54,
   "id": "ed8c6315-baf7-4d6d-b99f-7b91c92f6df2",
   "metadata": {},
   "outputs": [
    {
     "name": "stdout",
     "output_type": "stream",
     "text": [
      "dict_keys(['__header__', '__version__', '__globals__', 'Fs', 'ECG_asRecording', 'ECG_filtered', 'EMG_filtered1', 'EMG_filtered2', 'EMG_asRecording1', 'EMG_asRecording2'])\n"
     ]
    }
   ],
   "source": [
    "print(signal_data.keys())"
   ]
  },
  {
   "cell_type": "code",
   "execution_count": 60,
   "id": "2814697f-d665-4bfb-9b59-567682880f33",
   "metadata": {},
   "outputs": [],
   "source": [
    "ECG_asRecording=signal_data['ECG_asRecording']"
   ]
  },
  {
   "cell_type": "code",
   "execution_count": 72,
   "id": "6170e2b2-3bac-49e0-ad83-cde6b2145b72",
   "metadata": {},
   "outputs": [
    {
     "data": {
      "text/plain": [
       "(1, 30720)"
      ]
     },
     "execution_count": 72,
     "metadata": {},
     "output_type": "execute_result"
    }
   ],
   "source": [
    "ECG_asRecording.shape"
   ]
  },
  {
   "cell_type": "code",
   "execution_count": 66,
   "id": "a26772a4-9657-4561-9111-96c5a63616e3",
   "metadata": {},
   "outputs": [],
   "source": [
    "df_ECG_asRecording=pd.DataFrame(signal_data['ECG_asRecording'])"
   ]
  },
  {
   "cell_type": "code",
   "execution_count": 68,
   "id": "e7be5acb-b65c-4710-9e58-c399ebbabc5b",
   "metadata": {},
   "outputs": [
    {
     "data": {
      "text/html": [
       "<div>\n",
       "<style scoped>\n",
       "    .dataframe tbody tr th:only-of-type {\n",
       "        vertical-align: middle;\n",
       "    }\n",
       "\n",
       "    .dataframe tbody tr th {\n",
       "        vertical-align: top;\n",
       "    }\n",
       "\n",
       "    .dataframe thead th {\n",
       "        text-align: right;\n",
       "    }\n",
       "</style>\n",
       "<table border=\"1\" class=\"dataframe\">\n",
       "  <thead>\n",
       "    <tr style=\"text-align: right;\">\n",
       "      <th></th>\n",
       "      <th>0</th>\n",
       "      <th>1</th>\n",
       "      <th>2</th>\n",
       "      <th>3</th>\n",
       "      <th>4</th>\n",
       "      <th>5</th>\n",
       "      <th>6</th>\n",
       "      <th>7</th>\n",
       "      <th>8</th>\n",
       "      <th>9</th>\n",
       "      <th>...</th>\n",
       "      <th>30710</th>\n",
       "      <th>30711</th>\n",
       "      <th>30712</th>\n",
       "      <th>30713</th>\n",
       "      <th>30714</th>\n",
       "      <th>30715</th>\n",
       "      <th>30716</th>\n",
       "      <th>30717</th>\n",
       "      <th>30718</th>\n",
       "      <th>30719</th>\n",
       "    </tr>\n",
       "  </thead>\n",
       "  <tbody>\n",
       "    <tr>\n",
       "      <th>0</th>\n",
       "      <td>3904.316895</td>\n",
       "      <td>3939.203125</td>\n",
       "      <td>3976.006836</td>\n",
       "      <td>3982.077637</td>\n",
       "      <td>3949.390381</td>\n",
       "      <td>3983.042725</td>\n",
       "      <td>3968.506836</td>\n",
       "      <td>3946.910645</td>\n",
       "      <td>3955.253418</td>\n",
       "      <td>3961.080078</td>\n",
       "      <td>...</td>\n",
       "      <td>4472.253418</td>\n",
       "      <td>4481.609863</td>\n",
       "      <td>4505.368164</td>\n",
       "      <td>4538.531738</td>\n",
       "      <td>4502.656738</td>\n",
       "      <td>4453.625488</td>\n",
       "      <td>4413.108398</td>\n",
       "      <td>4366.410645</td>\n",
       "      <td>4365.311035</td>\n",
       "      <td>4370.917969</td>\n",
       "    </tr>\n",
       "  </tbody>\n",
       "</table>\n",
       "<p>1 rows × 30720 columns</p>\n",
       "</div>"
      ],
      "text/plain": [
       "         0            1            2            3            4      \\\n",
       "0  3904.316895  3939.203125  3976.006836  3982.077637  3949.390381   \n",
       "\n",
       "         5            6            7            8            9      ...  \\\n",
       "0  3983.042725  3968.506836  3946.910645  3955.253418  3961.080078  ...   \n",
       "\n",
       "         30710        30711        30712        30713        30714  \\\n",
       "0  4472.253418  4481.609863  4505.368164  4538.531738  4502.656738   \n",
       "\n",
       "         30715        30716        30717        30718        30719  \n",
       "0  4453.625488  4413.108398  4366.410645  4365.311035  4370.917969  \n",
       "\n",
       "[1 rows x 30720 columns]"
      ]
     },
     "execution_count": 68,
     "metadata": {},
     "output_type": "execute_result"
    }
   ],
   "source": [
    "df_ECG_asRecording"
   ]
  },
  {
   "cell_type": "code",
   "execution_count": 74,
   "id": "869398b6-542b-46d5-a784-b32054c0da04",
   "metadata": {},
   "outputs": [],
   "source": [
    "ECG_asRecording=signal_data['ECG_filtered']"
   ]
  },
  {
   "cell_type": "code",
   "execution_count": 76,
   "id": "ec98ff00-3b1f-4b45-a30c-96f26a2f9265",
   "metadata": {},
   "outputs": [],
   "source": [
    "df_ECG_filtered=pd.DataFrame(signal_data['ECG_filtered'])"
   ]
  },
  {
   "cell_type": "code",
   "execution_count": 78,
   "id": "a2b27c10-371d-44f5-b0b9-19ba016b332a",
   "metadata": {},
   "outputs": [
    {
     "data": {
      "text/html": [
       "<div>\n",
       "<style scoped>\n",
       "    .dataframe tbody tr th:only-of-type {\n",
       "        vertical-align: middle;\n",
       "    }\n",
       "\n",
       "    .dataframe tbody tr th {\n",
       "        vertical-align: top;\n",
       "    }\n",
       "\n",
       "    .dataframe thead th {\n",
       "        text-align: right;\n",
       "    }\n",
       "</style>\n",
       "<table border=\"1\" class=\"dataframe\">\n",
       "  <thead>\n",
       "    <tr style=\"text-align: right;\">\n",
       "      <th></th>\n",
       "      <th>0</th>\n",
       "      <th>1</th>\n",
       "      <th>2</th>\n",
       "      <th>3</th>\n",
       "      <th>4</th>\n",
       "      <th>5</th>\n",
       "      <th>6</th>\n",
       "      <th>7</th>\n",
       "      <th>8</th>\n",
       "      <th>9</th>\n",
       "      <th>...</th>\n",
       "      <th>30710</th>\n",
       "      <th>30711</th>\n",
       "      <th>30712</th>\n",
       "      <th>30713</th>\n",
       "      <th>30714</th>\n",
       "      <th>30715</th>\n",
       "      <th>30716</th>\n",
       "      <th>30717</th>\n",
       "      <th>30718</th>\n",
       "      <th>30719</th>\n",
       "    </tr>\n",
       "  </thead>\n",
       "  <tbody>\n",
       "    <tr>\n",
       "      <th>0</th>\n",
       "      <td>0.008871</td>\n",
       "      <td>56.27375</td>\n",
       "      <td>85.707713</td>\n",
       "      <td>79.962686</td>\n",
       "      <td>54.099106</td>\n",
       "      <td>34.402651</td>\n",
       "      <td>38.20354</td>\n",
       "      <td>60.805893</td>\n",
       "      <td>79.486569</td>\n",
       "      <td>71.905452</td>\n",
       "      <td>...</td>\n",
       "      <td>-15.611244</td>\n",
       "      <td>5.528567</td>\n",
       "      <td>17.807604</td>\n",
       "      <td>10.524765</td>\n",
       "      <td>-17.638176</td>\n",
       "      <td>-57.593567</td>\n",
       "      <td>-95.520424</td>\n",
       "      <td>-120.95261</td>\n",
       "      <td>-131.734356</td>\n",
       "      <td>-132.898021</td>\n",
       "    </tr>\n",
       "  </tbody>\n",
       "</table>\n",
       "<p>1 rows × 30720 columns</p>\n",
       "</div>"
      ],
      "text/plain": [
       "      0         1          2          3          4          5         6      \\\n",
       "0  0.008871  56.27375  85.707713  79.962686  54.099106  34.402651  38.20354   \n",
       "\n",
       "       7          8          9      ...      30710     30711      30712  \\\n",
       "0  60.805893  79.486569  71.905452  ... -15.611244  5.528567  17.807604   \n",
       "\n",
       "       30713      30714      30715      30716      30717       30718  \\\n",
       "0  10.524765 -17.638176 -57.593567 -95.520424 -120.95261 -131.734356   \n",
       "\n",
       "        30719  \n",
       "0 -132.898021  \n",
       "\n",
       "[1 rows x 30720 columns]"
      ]
     },
     "execution_count": 78,
     "metadata": {},
     "output_type": "execute_result"
    }
   ],
   "source": [
    "df_ECG_filtered"
   ]
  },
  {
   "cell_type": "code",
   "execution_count": null,
   "id": "a72fefd3-53e9-4ee0-9a3b-40839feede49",
   "metadata": {},
   "outputs": [],
   "source": []
  }
 ],
 "metadata": {
  "kernelspec": {
   "display_name": "Python 3 (ipykernel)",
   "language": "python",
   "name": "python3"
  },
  "language_info": {
   "codemirror_mode": {
    "name": "ipython",
    "version": 3
   },
   "file_extension": ".py",
   "mimetype": "text/x-python",
   "name": "python",
   "nbconvert_exporter": "python",
   "pygments_lexer": "ipython3",
   "version": "3.12.4"
  }
 },
 "nbformat": 4,
 "nbformat_minor": 5
}
